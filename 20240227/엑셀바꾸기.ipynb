{
 "cells": [
  {
   "cell_type": "code",
   "execution_count": 1,
   "metadata": {},
   "outputs": [
    {
     "name": "stderr",
     "output_type": "stream",
     "text": [
      "C:\\Users\\Administrator\\AppData\\Local\\Temp\\ipykernel_6068\\660668080.py:1: DeprecationWarning: \n",
      "Pyarrow will become a required dependency of pandas in the next major release of pandas (pandas 3.0),\n",
      "(to allow more performant data types, such as the Arrow string type, and better interoperability with other libraries)\n",
      "but was not found to be installed on your system.\n",
      "If this would cause problems for you,\n",
      "please provide us feedback at https://github.com/pandas-dev/pandas/issues/54466\n",
      "        \n",
      "  import pandas as pd\n"
     ]
    }
   ],
   "source": [
    "import pandas as pd\n",
    "import warnings\n",
    "warnings.filterwarnings('ignore')"
   ]
  },
  {
   "cell_type": "code",
   "execution_count": 7,
   "metadata": {},
   "outputs": [],
   "source": [
    "df = pd.read_excel('C:\\\\study\\\\ju\\\\20240227\\\\202207.xlsx',sheet_name=1)"
   ]
  },
  {
   "cell_type": "code",
   "execution_count": 8,
   "metadata": {},
   "outputs": [],
   "source": [
    "df['구']=0"
   ]
  },
  {
   "cell_type": "code",
   "execution_count": 9,
   "metadata": {},
   "outputs": [],
   "source": [
    "df.loc[(df['지점명']=='밤고개로(세곡동사거리)')|\n",
    "       (df['지점명']=='한남대교')|\n",
    "       (df['지점명']=='남부순환로(예술의전당)')|\n",
    "       (df['지점명']=='강남대로(강남역-신분당)')|\n",
    "       (df['지점명']=='언주로(매봉터널)')|\n",
    "       (df['지점명']=='테헤란로(선릉역)')|\n",
    "       (df['지점명']=='강남대로(신사역)')|\n",
    "       (df['지점명']=='올림픽대로')|\n",
    "       (df['지점명']=='분당수서로'),'구'] ='강남구'"
   ]
  },
  {
   "cell_type": "code",
   "execution_count": 10,
   "metadata": {},
   "outputs": [
    {
     "data": {
      "text/plain": [
       "Index(['일자', '요일', '지점명', '지점번호', '방향', '구분', '0시', '1시', '2시', '3시', '4시',\n",
       "       '5시', '6시', '7시', '8시', '9시', '10시', '11시', '12시', '13시', '14시', '15시',\n",
       "       '16시', '17시', '18시', '19시', '20시', '21시', '22시', '23시', '구'],\n",
       "      dtype='object')"
      ]
     },
     "execution_count": 10,
     "metadata": {},
     "output_type": "execute_result"
    }
   ],
   "source": [
    "df.columns"
   ]
  },
  {
   "cell_type": "code",
   "execution_count": 11,
   "metadata": {},
   "outputs": [],
   "source": [
    "df.loc[(df['지점명']=='서하남로(서하남IC)')|\n",
    "       (df['지점명']=='천호대로(상일IC)')|\n",
    "       (df['지점명']=='올림픽대로(강일IC)')|\n",
    "       (df['지점명']=='천호대교'),'구'] ='강동구'"
   ]
  },
  {
   "cell_type": "code",
   "execution_count": 12,
   "metadata": {},
   "outputs": [],
   "source": [
    "df.loc[(df['지점명']=='오정로(부천시계)')|\n",
    "       (df['지점명']=='김포대로(개화교)')|\n",
    "       (df['지점명']=='올림픽대로(개화IC)')|\n",
    "       (df['지점명']=='강서로(화곡터널)'),'구'] ='강서구'"
   ]
  },
  {
   "cell_type": "code",
   "execution_count": 14,
   "metadata": {},
   "outputs": [],
   "source": [
    "df.loc[(df['지점명']=='문성로(난곡터널)')|\n",
    "       (df['지점명']=='남부순환로(낙성대역)'),'구'] ='관악구'"
   ]
  },
  {
   "cell_type": "code",
   "execution_count": 16,
   "metadata": {},
   "outputs": [
    {
     "name": "stdout",
     "output_type": "stream",
     "text": [
      "            일자 요일          지점명  지점번호  방향            구분      0시      1시  \\\n",
      "7068  20220701  금    문성로(난곡터널)  D-32  유입  신림초교->난곡우체국앞   125.0   124.0   \n",
      "7069  20220702  토    문성로(난곡터널)  D-32  유입  신림초교->난곡우체국앞   199.0   150.0   \n",
      "7070  20220703  일    문성로(난곡터널)  D-32  유입  신림초교->난곡우체국앞   200.0   144.0   \n",
      "7071  20220704  월    문성로(난곡터널)  D-32  유입  신림초교->난곡우체국앞   148.0   112.0   \n",
      "7072  20220705  화    문성로(난곡터널)  D-32  유입  신림초교->난곡우체국앞   156.0   126.0   \n",
      "...        ... ..          ...   ...  ..           ...     ...     ...   \n",
      "7187  20220727  수  남부순환로(낙성대역)  D-33  유출   낙성대역->낙성대입구  1285.0  1052.0   \n",
      "7188  20220728  목  남부순환로(낙성대역)  D-33  유출   낙성대역->낙성대입구  1241.0  1058.0   \n",
      "7189  20220729  금  남부순환로(낙성대역)  D-33  유출   낙성대역->낙성대입구  1369.0  1183.0   \n",
      "7190  20220730  토  남부순환로(낙성대역)  D-33  유출   낙성대역->낙성대입구  1375.0  1252.0   \n",
      "7191  20220731  일  남부순환로(낙성대역)  D-33  유출   낙성대역->낙성대입구  1501.0   998.0   \n",
      "\n",
      "          2시     3시  ...     15시     16시     17시     18시     19시     20시  \\\n",
      "7068   104.0   74.0  ...   486.0   497.0   518.0   483.0   426.0   403.0   \n",
      "7069   144.0  125.0  ...   477.0   514.0   519.0   489.0   434.0   357.0   \n",
      "7070   158.0  131.0  ...   395.0   382.0   398.0   408.0   371.0   328.0   \n",
      "7071    79.0   89.0  ...   544.0   472.0   586.0   527.0   419.0   366.0   \n",
      "7072   104.0   97.0  ...   472.0   487.0   573.0   530.0   470.0   412.0   \n",
      "...      ...    ...  ...     ...     ...     ...     ...     ...     ...   \n",
      "7187   823.0  612.0  ...  2218.0  2476.0  2343.0  2136.0  2271.0  2493.0   \n",
      "7188   858.0  626.0  ...  2169.0  2389.0  2268.0  2150.0  2253.0  2270.0   \n",
      "7189   892.0  674.0  ...  2315.0  2464.0  2216.0  2193.0  2238.0  2265.0   \n",
      "7190  1082.0  816.0  ...  2247.0  2441.0  2482.0  2303.0  2066.0  1903.0   \n",
      "7191   807.0  605.0  ...  2124.0  2207.0  2073.0  2156.0  1815.0  1734.0   \n",
      "\n",
      "         21시     22시     23시    구  \n",
      "7068   353.0   328.0   227.0  관악구  \n",
      "7069   298.0   285.0   235.0  관악구  \n",
      "7070   291.0   257.0   210.0  관악구  \n",
      "7071   305.0   275.0   181.0  관악구  \n",
      "7072   313.0   290.0   199.0  관악구  \n",
      "...      ...     ...     ...  ...  \n",
      "7187  2109.0  2068.0  1609.0  관악구  \n",
      "7188  1987.0  2036.0  1657.0  관악구  \n",
      "7189  2181.0  2202.0  1855.0  관악구  \n",
      "7190  1851.0  1983.0  1631.0  관악구  \n",
      "7191  1715.0  1592.0  1280.0  관악구  \n",
      "\n",
      "[124 rows x 31 columns]\n"
     ]
    }
   ],
   "source": [
    "# print(df[df['구']=='관악구'])"
   ]
  },
  {
   "cell_type": "code",
   "execution_count": null,
   "metadata": {},
   "outputs": [],
   "source": []
  }
 ],
 "metadata": {
  "kernelspec": {
   "display_name": "Python 3",
   "language": "python",
   "name": "python3"
  },
  "language_info": {
   "codemirror_mode": {
    "name": "ipython",
    "version": 3
   },
   "file_extension": ".py",
   "mimetype": "text/x-python",
   "name": "python",
   "nbconvert_exporter": "python",
   "pygments_lexer": "ipython3",
   "version": "3.9.5"
  }
 },
 "nbformat": 4,
 "nbformat_minor": 2
}

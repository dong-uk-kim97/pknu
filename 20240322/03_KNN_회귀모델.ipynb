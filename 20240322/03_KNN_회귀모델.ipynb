{
 "cells": [
  {
   "cell_type": "markdown",
   "id": "3de41328-ac7e-451b-a4c7-7f52cb0f44c1",
   "metadata": {},
   "source": [
    "### <훈련 순서>\n",
    "\n",
    "1. 데이터 수집\n",
    "\n",
    "2. 독립데이터와 종속데이터로 분리\n",
    "\n",
    "3. 독립 데이터에 대한 --> 정규화(표준화) 처리 가능 (1)\n",
    "\n",
    "4. 훈련:검증:테스트 데이터로 분류\n",
    "\n",
    "5. 훈련,검증,테스트 독립 데이터에 대한 --> 정규화(표준화) 처리 가능 (2)\n",
    "\n",
    "6. 훈련 모델 생성\n",
    "\n",
    "7. 훈련시키기(fit)\n",
    "\n",
    "8. 정확도 확인(score)\n",
    "\n",
    "9. 과대/과소 적합 여부 확인\n",
    "\n",
    "10. 하이퍼 파라미터 튜닝\n",
    "\n",
    "11. 6~10 반복 수행\n",
    "\n",
    "12. 최종 테스트(predict)"
   ]
  },
  {
   "cell_type": "code",
   "execution_count": 1,
   "id": "a72fca13-3e67-4451-a786-6bf147dfb6e4",
   "metadata": {},
   "outputs": [],
   "source": [
    "import matplotlib.pyplot as plt\n",
    "import numpy as np\n",
    "from sklearn.model_selection import train_test_split\n",
    "from sklearn.neighbors import KNeighborsRegressor\n",
    "from sklearn.metrics import mean_absolute_error"
   ]
  },
  {
   "cell_type": "markdown",
   "id": "002f28c7-b03a-48cd-85d8-2f7dc15adfe6",
   "metadata": {},
   "source": [
    "#### 데이터 성격\n",
    "\n",
    "- 농어의 길이를 독립변수로, 무게를 종속변수로 정의하여 훈련 시킴\n",
    "\n",
    "- 임의 테스트 값(길이)를 이용해서 (무게)를 예측하는 모델을 선정"
   ]
  },
  {
   "cell_type": "code",
   "execution_count": 2,
   "id": "94483706-5013-4314-b1c5-c30004a0aba8",
   "metadata": {},
   "outputs": [
    {
     "data": {
      "text/plain": [
       "((56,), (56,))"
      ]
     },
     "execution_count": 2,
     "metadata": {},
     "output_type": "execute_result"
    }
   ],
   "source": [
    "### 농어 길이\n",
    "\n",
    "perch_length = np.array(\n",
    "                        [8.4, 13.7, 15.0, 16.2, 17.4, 18.0, 18.7, 19.0, 19.6, 20.0, \n",
    "                         21.0, 21.0, 21.0, 21.3, 22.0, 22.0, 22.0, 22.0, 22.0, 22.5, \n",
    "                         22.5, 22.7, 23.0, 23.5, 24.0, 24.0, 24.6, 25.0, 25.6, 26.5, \n",
    "                         27.3, 27.5, 27.5, 27.5, 28.0, 28.7, 30.0, 32.8, 34.5, 35.0, \n",
    "                         36.5, 36.0, 37.0, 37.0, 39.0, 39.0, 39.0, 40.0, 40.0, 40.0, \n",
    "                         40.0, 42.0, 43.0, 43.0, 43.5, 44.0]\n",
    "                         )\n",
    "### 농어 무게 \n",
    "\n",
    "perch_weight = np.array(\n",
    "                        [5.9, 32.0, 40.0, 51.5, 70.0, 100.0, 78.0, 80.0, 85.0, 85.0, \n",
    "                         110.0, 115.0, 125.0, 130.0, 120.0, 120.0, 130.0, 135.0, 110.0, \n",
    "                         130.0, 150.0, 145.0, 150.0, 170.0, 225.0, 145.0, 188.0, 180.0, \n",
    "                         197.0, 218.0, 300.0, 260.0, 265.0, 250.0, 250.0, 300.0, 320.0, \n",
    "                         514.0, 556.0, 840.0, 685.0, 700.0, 700.0, 690.0, 900.0, 650.0, \n",
    "                         820.0, 850.0, 900.0, 1015.0, 820.0, 1100.0, 1000.0, 1100.0, \n",
    "                         1000.0, 1000.0]\n",
    "                         )\n",
    "\n",
    "perch_length.shape, perch_weight.shape"
   ]
  },
  {
   "cell_type": "code",
   "execution_count": 3,
   "id": "4e874d20-a6cf-4cdc-9518-00e5d5ceb4a4",
   "metadata": {},
   "outputs": [
    {
     "data": {
      "image/png": "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",
      "text/plain": [
       "<Figure size 640x480 with 1 Axes>"
      ]
     },
     "metadata": {},
     "output_type": "display_data"
    }
   ],
   "source": [
    "### 산점도로 특성들간의 관계 확인 \n",
    "\n",
    "plt.scatter(perch_length, perch_weight, alpha=0.1)\n",
    "plt.xlabel('length')\n",
    "plt.ylabel('weight')\n",
    "plt.show();"
   ]
  },
  {
   "cell_type": "markdown",
   "id": "e46b106e-7a8b-4259-80a1-48a7fabf3b7f",
   "metadata": {},
   "source": [
    "#### 해석\n",
    "\n",
    "- 독립변수와 종속변수를 x, y축으로 산점도를 그렸을 때 우상향 분포를 나타냄\n",
    "\n",
    "- 즉, 독립변수 x축의 값이 커질 수록 종속변수 y값도 함께 커지는관계를 나타내고 있다.\n",
    "\n",
    "- 이러한 관계를 선형 관계라고 한다.\n",
    "\n",
    "- 예측하고자 하는 종속변수가 연속형 데이터인 경우에는 산점도를 이용하여 선형관계가 나타나는지 확인해야 한다.\n",
    "\n",
    "- 그래프를 볼 때, 초반에는 곡선을 띄는 듯 하다가, 중반부에는 직선의 형태를 보이고 있다.\n",
    "\n",
    "- 이처럼, 독립변수와 종속변수의 데이터가 선형관계를 나타내는 경우에 사용되는 방법으로는 회귀분석 방법을 사용한다."
   ]
  },
  {
   "cell_type": "markdown",
   "id": "dffbfd31-7b27-43cc-971d-edebcacb74cf",
   "metadata": {},
   "source": [
    "### 훈련 및 테스트 데이터로 분류하기\n",
    "\n",
    "- 훈련:테스트 = 75:25 사용\n",
    "\n",
    "- 분류 함수(라이브러리) 사용\n",
    "\n",
    "- 랜덤 규칙 : 42번 사용\n",
    "\n",
    "- 변수명 훈련(train_input,train_target), 테스트(test_input, test_target)\n",
    "\n",
    "- 차원 확인"
   ]
  },
  {
   "cell_type": "code",
   "execution_count": 4,
   "id": "ee2d0293-7bea-4d98-8384-f032e4e3529f",
   "metadata": {},
   "outputs": [
    {
     "name": "stdout",
     "output_type": "stream",
     "text": [
      "(42,) (42,)\n",
      "(14,) (14,)\n"
     ]
    }
   ],
   "source": [
    "### 훈련:테스트  = 75:25 데이터 분류하기\n",
    "# - stratify : 분류모델에서 종속변수의 범주형 데이터에 대한 편향을 줄이기 위한 속성으로 회귀모델에서는 연속형 데이터를 사용하기에 사용하지 않음\n",
    "# train_test_split(독립변수, 종속변수, 분할비율, 랜덤규칙)\n",
    "# --> 반환되는 값 4개 순서 : 훈련 독립, 테스트 독립, 훈련 종속, 테스트 종속\n",
    "\n",
    "train_input, test_input, train_target, test_target = train_test_split(perch_length, perch_weight, test_size=0.25, random_state=42)\n",
    "\n",
    "print(train_input.shape, train_target.shape)\n",
    "print(test_input.shape, test_target.shape)"
   ]
  },
  {
   "cell_type": "code",
   "execution_count": 5,
   "id": "4c82ad47-7b0a-4ec4-96eb-d165af1479cf",
   "metadata": {},
   "outputs": [
    {
     "name": "stdout",
     "output_type": "stream",
     "text": [
      "(42, 1) (14, 1)\n"
     ]
    }
   ],
   "source": [
    "### 훈련 및 테스트의 독립변수를 2차원으로 변환하기\n",
    "# - 변환하는 이유 : 머신러닝에서 훈련 시에는 2차원 독립변수를 사용한다.\n",
    "# - 변수명 : train_input_2d, test_input_2d\n",
    "\n",
    "\n",
    "# - reshape(행, 열) : 차원 변경 함수\n",
    "# - reshape(-1, 1) : -1은 모든 행을 의미, 두번째 1은 1열을 의미. 즉, 전체 행에 대한 1열을 만드는 작업을 수행\n",
    "train_input_2d = train_input.reshape(-1,1)\n",
    "\n",
    "test_input_2d = test_input.reshape(-1,1)\n",
    "\n",
    "print(train_input_2d.shape,test_input_2d.shape)"
   ]
  },
  {
   "cell_type": "code",
   "execution_count": 6,
   "id": "46e13a9d-93e5-4ab4-83b5-8436130a7f04",
   "metadata": {},
   "outputs": [],
   "source": [
    "### 모델 훈련하기\n",
    "# - 모델(객체) 생성\n",
    "\n",
    "knr = KNeighborsRegressor()"
   ]
  },
  {
   "cell_type": "markdown",
   "id": "e7357585-3ef5-4b37-a78b-e604fbe27158",
   "metadata": {},
   "source": [
    "#### 모델 훈련시키기(fit)\n",
    "\n",
    "- 회귀분석은 지도학습 : 문제(독립변수)와 정답(종속변수)을 넣어 준다. / 문제와 정답은 훈련 데이터만 사용(테스트 데이터는 훈련에 사용 X)\n",
    "\n",
    "- fit() : 훈련 또는 학습 시킨다고 칭한다.\n",
    "\n",
    "- 스스로 문제에 대한 정답을 맞추기 위한 패턴을 찾아냄.\n",
    "\n",
    "- 패턴을 찾은 결과를 모델이 훈련(학습) 되었다고 칭함."
   ]
  },
  {
   "cell_type": "code",
   "execution_count": 7,
   "id": "b3336b2a-5744-4e94-aeb8-30d2b3c7d7a2",
   "metadata": {},
   "outputs": [
    {
     "data": {
      "text/html": [
       "<style>#sk-container-id-1 {color: black;}#sk-container-id-1 pre{padding: 0;}#sk-container-id-1 div.sk-toggleable {background-color: white;}#sk-container-id-1 label.sk-toggleable__label {cursor: pointer;display: block;width: 100%;margin-bottom: 0;padding: 0.3em;box-sizing: border-box;text-align: center;}#sk-container-id-1 label.sk-toggleable__label-arrow:before {content: \"▸\";float: left;margin-right: 0.25em;color: #696969;}#sk-container-id-1 label.sk-toggleable__label-arrow:hover:before {color: black;}#sk-container-id-1 div.sk-estimator:hover label.sk-toggleable__label-arrow:before {color: black;}#sk-container-id-1 div.sk-toggleable__content {max-height: 0;max-width: 0;overflow: hidden;text-align: left;background-color: #f0f8ff;}#sk-container-id-1 div.sk-toggleable__content pre {margin: 0.2em;color: black;border-radius: 0.25em;background-color: #f0f8ff;}#sk-container-id-1 input.sk-toggleable__control:checked~div.sk-toggleable__content {max-height: 200px;max-width: 100%;overflow: auto;}#sk-container-id-1 input.sk-toggleable__control:checked~label.sk-toggleable__label-arrow:before {content: \"▾\";}#sk-container-id-1 div.sk-estimator input.sk-toggleable__control:checked~label.sk-toggleable__label {background-color: #d4ebff;}#sk-container-id-1 div.sk-label input.sk-toggleable__control:checked~label.sk-toggleable__label {background-color: #d4ebff;}#sk-container-id-1 input.sk-hidden--visually {border: 0;clip: rect(1px 1px 1px 1px);clip: rect(1px, 1px, 1px, 1px);height: 1px;margin: -1px;overflow: hidden;padding: 0;position: absolute;width: 1px;}#sk-container-id-1 div.sk-estimator {font-family: monospace;background-color: #f0f8ff;border: 1px dotted black;border-radius: 0.25em;box-sizing: border-box;margin-bottom: 0.5em;}#sk-container-id-1 div.sk-estimator:hover {background-color: #d4ebff;}#sk-container-id-1 div.sk-parallel-item::after {content: \"\";width: 100%;border-bottom: 1px solid gray;flex-grow: 1;}#sk-container-id-1 div.sk-label:hover label.sk-toggleable__label {background-color: #d4ebff;}#sk-container-id-1 div.sk-serial::before {content: \"\";position: absolute;border-left: 1px solid gray;box-sizing: border-box;top: 0;bottom: 0;left: 50%;z-index: 0;}#sk-container-id-1 div.sk-serial {display: flex;flex-direction: column;align-items: center;background-color: white;padding-right: 0.2em;padding-left: 0.2em;position: relative;}#sk-container-id-1 div.sk-item {position: relative;z-index: 1;}#sk-container-id-1 div.sk-parallel {display: flex;align-items: stretch;justify-content: center;background-color: white;position: relative;}#sk-container-id-1 div.sk-item::before, #sk-container-id-1 div.sk-parallel-item::before {content: \"\";position: absolute;border-left: 1px solid gray;box-sizing: border-box;top: 0;bottom: 0;left: 50%;z-index: -1;}#sk-container-id-1 div.sk-parallel-item {display: flex;flex-direction: column;z-index: 1;position: relative;background-color: white;}#sk-container-id-1 div.sk-parallel-item:first-child::after {align-self: flex-end;width: 50%;}#sk-container-id-1 div.sk-parallel-item:last-child::after {align-self: flex-start;width: 50%;}#sk-container-id-1 div.sk-parallel-item:only-child::after {width: 0;}#sk-container-id-1 div.sk-dashed-wrapped {border: 1px dashed gray;margin: 0 0.4em 0.5em 0.4em;box-sizing: border-box;padding-bottom: 0.4em;background-color: white;}#sk-container-id-1 div.sk-label label {font-family: monospace;font-weight: bold;display: inline-block;line-height: 1.2em;}#sk-container-id-1 div.sk-label-container {text-align: center;}#sk-container-id-1 div.sk-container {/* jupyter's `normalize.less` sets `[hidden] { display: none; }` but bootstrap.min.css set `[hidden] { display: none !important; }` so we also need the `!important` here to be able to override the default hidden behavior on the sphinx rendered scikit-learn.org. See: https://github.com/scikit-learn/scikit-learn/issues/21755 */display: inline-block !important;position: relative;}#sk-container-id-1 div.sk-text-repr-fallback {display: none;}</style><div id=\"sk-container-id-1\" class=\"sk-top-container\"><div class=\"sk-text-repr-fallback\"><pre>KNeighborsRegressor()</pre><b>In a Jupyter environment, please rerun this cell to show the HTML representation or trust the notebook. <br />On GitHub, the HTML representation is unable to render, please try loading this page with nbviewer.org.</b></div><div class=\"sk-container\" hidden><div class=\"sk-item\"><div class=\"sk-estimator sk-toggleable\"><input class=\"sk-toggleable__control sk-hidden--visually\" id=\"sk-estimator-id-1\" type=\"checkbox\" checked><label for=\"sk-estimator-id-1\" class=\"sk-toggleable__label sk-toggleable__label-arrow\">KNeighborsRegressor</label><div class=\"sk-toggleable__content\"><pre>KNeighborsRegressor()</pre></div></div></div></div></div>"
      ],
      "text/plain": [
       "KNeighborsRegressor()"
      ]
     },
     "execution_count": 7,
     "metadata": {},
     "output_type": "execute_result"
    }
   ],
   "source": [
    "knr.fit(train_input_2d,train_target)"
   ]
  },
  {
   "cell_type": "markdown",
   "id": "ed7529d6-d81c-45d9-90b0-49fefb7f272c",
   "metadata": {},
   "source": [
    "#### 훈련시킨 모델로 -> 훈련 및 테스트 정확도 확인하기(score)\n",
    "\n",
    "- 훈련(학습)된 모델에다가 문제만 넣어서 예측한 후 -> 정답과 비교하는 절차를 거친다.\n",
    "\n",
    "- 예측한 값과 정답과 비교하여 어느 정도 잘 맞추었는지를 확률로 나타냄\n",
    "\n",
    "- score()함수 내부 수행 절차 : 독립변수(문제)를 이용해서 predict 수행하여 예측함 \n",
    "\n",
    "- 예측 결과와 종속변수(정답)와 비교 후 결과를 알려줌"
   ]
  },
  {
   "cell_type": "code",
   "execution_count": 8,
   "id": "c62382e4-4b05-4916-aca9-bda99a587699",
   "metadata": {},
   "outputs": [
    {
     "name": "stdout",
     "output_type": "stream",
     "text": [
      "train_score:0.9698823289099254\n",
      "test_score:0.992809406101064\n"
     ]
    }
   ],
   "source": [
    "train_score = knr.score(train_input_2d,train_target)\n",
    "test_score = knr.score(test_input_2d,test_target)\n",
    "\n",
    "print(f'train_score:{train_score}')\n",
    "print(f'test_score:{test_score}')"
   ]
  },
  {
   "cell_type": "markdown",
   "id": "9875a441-3986-4bdb-8ef0-1f6f9744f263",
   "metadata": {},
   "source": [
    "#### 해석\n",
    "\n",
    "- 농어 데이터를 이용하여 독립변수 길이와 종속변수 무게에 대한 특성을 이용하여 KNN 회귀분석을 수행한 결과(데이터 제시)\n",
    "\n",
    "- 훈련 정확도 및 테스트 정확도는 높게 나왔다(결과 제시).\n",
    "\n",
    "- 하지만, 훈련 정확도보다 테스트 정확도가 높기 때문에 \"과소적합\"이 발생하였다(분석).\n",
    "\n",
    "- 따라서, 본 KNN 회귀모델을 사용하여 예측하는데에 어려움이 있기에 성능 향상을 위한 하이퍼 파라미터 튜닝 또는 데이터의 증가가 필요하다고 여겨진다(개선점)."
   ]
  },
  {
   "cell_type": "markdown",
   "id": "6d7cde18-b6a5-4221-a26e-e789dd5f688c",
   "metadata": {},
   "source": [
    "### 모델 평가하기\n",
    "\n",
    "- 평균절대오차(MAE : Mean Absolute Error) \n",
    "\n",
    "    - 회귀에서 사용하는 평가 방법 중 주로 사용됨\n",
    "\n",
    "    - 예측값과 실제값의 거리 차이를 평균하여 계산한 값을 절댓값으로 나타낸 값\n",
    "\n",
    "    - 차이가 작을수록 좋다고 볼수 있다."
   ]
  },
  {
   "cell_type": "code",
   "execution_count": 9,
   "id": "d3306009-51ab-4225-801d-732b2e4c785f",
   "metadata": {},
   "outputs": [
    {
     "name": "stdout",
     "output_type": "stream",
     "text": [
      "test_pred(예측값) = [  60.    79.6  248.   122.   136.   847.   311.4  183.4  847.   113.\n",
      " 1010.    60.   248.   248. ]\n",
      "test_target(실제 값) = [   5.9  100.   250.   130.   130.   820.   320.   188.   900.   125.\n",
      " 1000.    51.5  250.   300. ]\n"
     ]
    }
   ],
   "source": [
    "### 테스트 데이터로 예측하기\n",
    "# - MAE에 사용할 예측값은 테스트 데이터로 예측된 값을 의미한다.\n",
    "\n",
    "test_pred = knr.predict(test_input_2d)\n",
    "print(f'test_pred(예측값) = {test_pred}')\n",
    "print(f'test_target(실제 값) = {test_target}')"
   ]
  },
  {
   "cell_type": "code",
   "execution_count": 10,
   "id": "4c7745c0-809f-4f95-9295-7b1aea54dffd",
   "metadata": {},
   "outputs": [
    {
     "name": "stdout",
     "output_type": "stream",
     "text": [
      "19.157142857142862\n"
     ]
    }
   ],
   "source": [
    "### 평균절대오차(MAE) 확인하기\n",
    "mae = mean_absolute_error(test_target,test_pred)\n",
    "print(mae)"
   ]
  },
  {
   "cell_type": "markdown",
   "id": "4f178f7d-9241-41b5-babf-df77ac64db75",
   "metadata": {},
   "source": [
    "#### 해석\n",
    "\n",
    "- KNN 회귀모델을 활용하여 독립변수 길이을 이용해서 무게를 예측하고자 할 때 약 19.157g 정도의 오차가 발생할 수 있는 모델임( $$\pm$$ 19.157g)\n",
    "\n",
    "- 현재 시점까지의 모델은 과소적합이 발생한 모델임\n",
    "\n",
    "    - 이를 해소하기 위해서 하이퍼 파라미터 튜닝을 진행해 보고자 한다."
   ]
  },
  {
   "cell_type": "markdown",
   "id": "3d6ceafb-eefa-4f83-b4c1-6707d8c6d810",
   "metadata": {},
   "source": [
    "#### KNN 모델 하이퍼 파라미터 튜닝 : 기본적으로 이웃의 갯수(K) 값 찾기(가장 적절한 값)\n",
    "\n",
    "\n",
    "- 하이퍼 파라미터의 정의 : 사람이 직접 값을 정해주어야 하는 속성(변수)들을 하이퍼 파라미터라고 칭한다.\n",
    "\n",
    "- 보통 모델(객체) 생성 시에 하이퍼 파라미터 변수들을 지정해 준다.\n",
    "\n",
    "- 최초 모델 훈련 시에는 : 기본값으로 훈련(학습) 시킨 후 정확도를 확인한다.\n",
    "\n",
    "- 일반적으로 모델이 가지고 있는 기본값(하이퍼 파라미터)은 주로 사용되는 기준값이라고 보면 된다.\n",
    "\n",
    "- 그 다음 정확도를 확인 후 -> 과대/과소적합 여부 확인을 거친 후 -> 튜닝이 필요한지 여부를 판단한다."
   ]
  },
  {
   "cell_type": "code",
   "execution_count": 11,
   "id": "572b7328-4d63-48fd-a888-8ab600b3d976",
   "metadata": {},
   "outputs": [
    {
     "data": {
      "text/plain": [
       "(0.9698823289099254, 0.992809406101064)"
      ]
     },
     "execution_count": 11,
     "metadata": {},
     "output_type": "execute_result"
    }
   ],
   "source": [
    "### 이웃의 갯수(K) 5개를 직접 정의해서 훈련 및 테스트 정확도 확인해 보기\n",
    "\n",
    "# - 이웃의 갯수(K) 정의\n",
    "# - knr 클래스 내에 n_neighbors 멤버 변수에 접근하여 값을 5로 수정한다.\n",
    "knr.n_neighbors = 5\n",
    "\n",
    "# 훈련(학습) 시키기\n",
    "knr.fit(train_input_2d,train_target)\n",
    "\n",
    "# 훈련 및 테스트 정확도 확인\n",
    "train_score = knr.score(train_input_2d,train_target)\n",
    "test_score =knr.score(test_input_2d,test_target)\n",
    "train_score, test_score"
   ]
  },
  {
   "cell_type": "code",
   "execution_count": 12,
   "id": "3f6574c3-112c-498b-ac44-775d5036cae3",
   "metadata": {},
   "outputs": [
    {
     "data": {
      "text/plain": [
       "(0.9804899950518966, 0.9746459963987609)"
      ]
     },
     "execution_count": 12,
     "metadata": {},
     "output_type": "execute_result"
    }
   ],
   "source": [
    "### 이웃의 갯수(K) 5개를 직접 정의해서 훈련 및 테스트 정확도 확인해 보기\n",
    "\n",
    "# - 이웃의 갯수(K) 정의\n",
    "# - knr 클래스 내에 n_neighbors 멤버 변수에 접근하여 값을 3으로 수정한다.\n",
    "knr.n_neighbors = 3\n",
    "\n",
    "# 훈련(학습) 시키기\n",
    "knr.fit(train_input_2d,train_target)\n",
    "\n",
    "# 훈련 및 테스트 정확도 확인\n",
    "train_score = knr.score(train_input_2d,train_target)\n",
    "test_score =knr.score(test_input_2d,test_target)\n",
    "train_score, test_score"
   ]
  },
  {
   "cell_type": "markdown",
   "id": "7bd7fe6c-fe87-4ea7-b069-682ea731d22a",
   "metadata": {},
   "source": [
    "#### 해석\n",
    "\n",
    "- 하이퍼 파라미터 튜닝을 통해 테스트 정확도는 다소 낮아 졌으나, 훈련 정확도는 높아지는 매우 성능 좋은 모델이 되었다.\n",
    "\n",
    "- 과소 및 과대 적합이 발생하지 않았으며, 훈련 정확도 0.98의 매우 훌륭한 모델로, '일반화 된 모델'로 사용 가능하다."
   ]
  },
  {
   "cell_type": "code",
   "execution_count": 13,
   "id": "5e9fe82b-e1db-4c5c-8a08-a5906a1c63d5",
   "metadata": {},
   "outputs": [
    {
     "name": "stdout",
     "output_type": "stream",
     "text": [
      "ncnt= 3 / nscore = 0.9804899950518966\n"
     ]
    }
   ],
   "source": [
    "### 가장 일반화된 성능을 찾기 위한 하이퍼 파라미터 찾기 : 자동화\n",
    "ncnt = 0\n",
    "nscore = 0\n",
    "for i in range(3, len(train_input_2d),2):\n",
    "    knr.n_neighbors = i\n",
    "    knr.fit(train_input_2d,train_target)\n",
    "    score = knr.score(train_input_2d, train_target)\n",
    "    if score<1:\n",
    "        if nscore < score:\n",
    "            nscore = score\n",
    "            ncnt = i\n",
    "\n",
    "print(f'ncnt= {ncnt} / nscore = {nscore}')"
   ]
  },
  {
   "cell_type": "code",
   "execution_count": 14,
   "id": "e133d895-4d11-473b-b537-df690028417d",
   "metadata": {},
   "outputs": [
    {
     "data": {
      "text/plain": [
       "array([  47.33333333,   76.        ,  247.66666667,  120.        ,\n",
       "        143.33333333,  921.66666667,  275.        ,  183.33333333,\n",
       "        773.33333333,  120.        , 1033.33333333,   62.66666667,\n",
       "        275.        ,  247.66666667])"
      ]
     },
     "execution_count": 14,
     "metadata": {},
     "output_type": "execute_result"
    }
   ],
   "source": [
    "### 이웃의 갯수 3에 대한 훈련을 한번 수행해야 한다.\n",
    "# - 위의 하이퍼 파라미터 알고리즘 수행의 최종 결과값은 반복문의 마지막 결과값만 포함되어 있다.\n",
    "\n",
    "knr.n_neighbors = 3\n",
    "knr.fit(train_input_2d, train_target)\n",
    "\n",
    "### 이웃의 갯수 3을 이용하여 테스트 데이터 예측하기\n",
    "test_pred = knr.predict(test_input_2d)\n",
    "test_pred"
   ]
  },
  {
   "cell_type": "code",
   "execution_count": 15,
   "id": "9536e821-8624-4616-8040-c3f136326ca4",
   "metadata": {},
   "outputs": [
    {
     "name": "stdout",
     "output_type": "stream",
     "text": [
      "35.42380952380951\n"
     ]
    }
   ],
   "source": [
    "### 평가하기 : 평균절대오차(MAE) 확인하기\n",
    "mae = mean_absolute_error(test_target, test_pred)\n",
    "print(mae)"
   ]
  },
  {
   "cell_type": "markdown",
   "id": "111d202b-0f66-41eb-8e4c-3f1de679804c",
   "metadata": {},
   "source": [
    "#### 해석\n",
    "\n",
    "- 본 모델을 이용하여 예측 시 약 35.42g 정도의 $$\\pm$$ 오차가 발생할 수 있는 모델"
   ]
  },
  {
   "cell_type": "code",
   "execution_count": 16,
   "id": "21600a02-0a31-4dc8-b698-e49441c1c7e3",
   "metadata": {},
   "outputs": [
    {
     "data": {
      "text/plain": [
       "array([1033.33333333])"
      ]
     },
     "execution_count": 16,
     "metadata": {},
     "output_type": "execute_result"
    }
   ],
   "source": [
    "### 임의 값으로 예측해보기\n",
    "pred = knr.predict([[50]])\n",
    "pred"
   ]
  },
  {
   "cell_type": "code",
   "execution_count": 17,
   "id": "eb03b1dd-304f-4693-8749-4c180f21aed2",
   "metadata": {},
   "outputs": [
    {
     "data": {
      "text/plain": [
       "array([[34,  8, 14]], dtype=int64)"
      ]
     },
     "execution_count": 17,
     "metadata": {},
     "output_type": "execute_result"
    }
   ],
   "source": [
    "### 길이 50cm 예측에 사용된 이웃의 인덱스 번호 확인하기\n",
    "# - 두 개의 리스트 값 : 거리, train_input_2d에서 사용된 인덱스 번호(이웃)\n",
    "_, indexes = knr.kneighbors([[50]])\n",
    "indexes"
   ]
  },
  {
   "cell_type": "code",
   "execution_count": 18,
   "id": "8a3347fc-d48b-473a-a5a7-1807c3003fae",
   "metadata": {},
   "outputs": [],
   "source": [
    "### 시각화 시 한글 및 마이너스(-) 기호 사용을 위한 처리\n",
    "# - 한글 처리 : 폰트 지정\n",
    "plt.rcParams['font.family'] ='Malgun Gothic'\n",
    "\n",
    "# - 마이너스(-) 기호 처\n",
    "plt.rcParams['axes.unicode_minus'] =False"
   ]
  },
  {
   "cell_type": "code",
   "execution_count": 25,
   "id": "f455b16c-8d4a-4afa-9def-af31eb9681fb",
   "metadata": {},
   "outputs": [
    {
     "data": {
      "image/png": "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",
      "text/plain": [
       "<Figure size 640x480 with 1 Axes>"
      ]
     },
     "metadata": {},
     "output_type": "display_data"
    }
   ],
   "source": [
    "### 산점도를 통해 원본 데이터, 이웃, 임의 데이터 위치 표시하기\n",
    "# - 원본 데이터는 파랑색, 이웃은 빨강색, 임의 데이터는 초록색으로 삼각형 표시 사용\n",
    "# - 그래프 제목 및 x축, y축, 범례 추가\n",
    "\n",
    "\n",
    "\n",
    "plt.scatter(train_input_2d, train_target, c='blue', label='원본')\n",
    "plt.scatter(train_input_2d[indexes], train_target[indexes], c='red', marker='D', label='이웃')\n",
    "plt.scatter(50, pred[0], c='green', label= f'임의 데이터(k={ncnt})', marker='^')\n",
    "plt.xlabel('길이')\n",
    "plt.ylabel('무게')\n",
    "plt.title(f'k={ncnt}일 때 농어가 50cm인 산점도 그래프')\n",
    "plt.legend()\n",
    "plt.show()"
   ]
  },
  {
   "cell_type": "code",
   "execution_count": 20,
   "id": "d4826279-532f-4976-8376-55f46740a627",
   "metadata": {},
   "outputs": [
    {
     "data": {
      "text/plain": [
       "array([1033.33333333])"
      ]
     },
     "execution_count": 20,
     "metadata": {},
     "output_type": "execute_result"
    }
   ],
   "source": [
    "### 길이 200cm로 예측해보기\n",
    "pred = knr.predict([[200]])\n",
    "pred"
   ]
  },
  {
   "cell_type": "code",
   "execution_count": 21,
   "id": "8452b8db-f880-42e5-9264-89d279bb4aa7",
   "metadata": {},
   "outputs": [
    {
     "data": {
      "text/plain": [
       "array([[34,  8, 14]], dtype=int64)"
      ]
     },
     "execution_count": 21,
     "metadata": {},
     "output_type": "execute_result"
    }
   ],
   "source": [
    "### 길이 200cm 예측에 사용된 이웃의 인덱스 번호 확인하기\n",
    "# - 두 개의 리스트 값 : 거리, train_input_2d에서 사용된 인덱스 번호(이웃)\n",
    "_, indexes = knr.kneighbors([[200]])\n",
    "indexes"
   ]
  },
  {
   "cell_type": "code",
   "execution_count": 26,
   "id": "6d3b015f-7d10-4fe9-8874-d2e4fd886da4",
   "metadata": {},
   "outputs": [
    {
     "data": {
      "image/png": "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",
      "text/plain": [
       "<Figure size 640x480 with 1 Axes>"
      ]
     },
     "metadata": {},
     "output_type": "display_data"
    }
   ],
   "source": [
    "### 산점도를 통해 원본 데이터, 이웃, 임의 데이터 위치 표시하기\n",
    "# - 원본 데이터는 파랑색, 이웃은 빨강색, 임의 데이터는 초록색으로 삼각형 표시 사용\n",
    "# - 그래프 제목 및 x축, y축, 범례 추가\n",
    "\n",
    "\n",
    "\n",
    "plt.scatter(train_input_2d, train_target, c='blue', label='원본')\n",
    "plt.scatter(train_input_2d[indexes], train_target[indexes], c='red', marker='D', label='이웃')\n",
    "plt.scatter(200, pred[0], c='green', label= f'임의 데이터(k={ncnt})', marker='^')\n",
    "\n",
    "plt.xlabel('길이')\n",
    "plt.ylabel('무게')\n",
    "plt.title(f'k={ncnt}이고 농어가 200cm인 산점도 그래프')\n",
    "plt.legend()\n",
    "\n",
    "plt.show()"
   ]
  },
  {
   "cell_type": "code",
   "execution_count": 27,
   "id": "8858587f-e31d-46da-a4fb-9fef451a11ab",
   "metadata": {},
   "outputs": [
    {
     "name": "stdout",
     "output_type": "stream",
     "text": [
      "[1033.33333333]\n"
     ]
    },
    {
     "data": {
      "image/png": "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",
      "text/plain": [
       "<Figure size 640x480 with 1 Axes>"
      ]
     },
     "metadata": {},
     "output_type": "display_data"
    }
   ],
   "source": [
    "### 길이 500cm로 예측해보기\n",
    "pred = knr.predict([[500]])\n",
    "print(pred)\n",
    "\n",
    "### 길이 500cm 예측에 사용된 이웃의 인덱스 번호 확인하기\n",
    "# - 두 개의 리스트 값 : 거리, train_input_2d에서 사용된 인덱스 번호(이웃)\n",
    "_, indexes = knr.kneighbors([[500]])\n",
    "\n",
    "### 산점도를 통해 원본 데이터, 이웃, 임의 데이터 위치 표시하기\n",
    "# - 원본 데이터는 파랑색, 이웃은 빨강색, 임의 데이터는 초록색으로 삼각형 표시 사용\n",
    "# - 그래프 제목 및 x축, y축, 범례 추가\n",
    "\n",
    "\n",
    "\n",
    "plt.scatter(train_input_2d, train_target, c='blue', label='원본')\n",
    "plt.scatter(train_input_2d[indexes], train_target[indexes], c='red', marker='D', label='이웃')\n",
    "plt.scatter(500, pred[0], c='green', label= f'임의 데이터(k={ncnt})', marker='^')\n",
    "\n",
    "plt.xlabel('길이')\n",
    "plt.ylabel('무게')\n",
    "plt.title(f'k={ncnt}일 때 농어가 500cm인 산점도 그래프')\n",
    "plt.legend()\n",
    "\n",
    "plt.show()"
   ]
  },
  {
   "cell_type": "markdown",
   "id": "1ebda2bd-2585-40e5-a50e-998e31904518",
   "metadata": {},
   "source": [
    "### <KNN 회귀모델의 한계>\n",
    "\n",
    "- KNN 모델은 가장 가까운 이웃들의 비율로 종속변수를 예측한다.\n",
    "\n",
    "- 그래서 테스트 데이터와의 거리가 아무리 멀더라도 가장 가까운 값들을 동일하게 찾게 되는 현상이 발생함\n",
    "\n",
    "- 큰 길이를 예측하고자 할 경우에는 해당 모델에 큰 길이를 포함하는 데이터를 확보해야 가능하다.\n",
    "\n",
    "- 그렇지 못한 경우에는 해당 KNN 모델은 부적합한 모델로 다른 모델을 찾아봐야 한다."
   ]
  }
 ],
 "metadata": {
  "kernelspec": {
   "display_name": "Python 3 (ipykernel)",
   "language": "python",
   "name": "python3"
  },
  "language_info": {
   "codemirror_mode": {
    "name": "ipython",
    "version": 3
   },
   "file_extension": ".py",
   "mimetype": "text/x-python",
   "name": "python",
   "nbconvert_exporter": "python",
   "pygments_lexer": "ipython3",
   "version": "3.11.8"
  }
 },
 "nbformat": 4,
 "nbformat_minor": 5
}

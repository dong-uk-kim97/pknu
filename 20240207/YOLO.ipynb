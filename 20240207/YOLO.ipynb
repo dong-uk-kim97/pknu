{
 "cells": [
  {
   "cell_type": "code",
   "execution_count": 1,
   "metadata": {},
   "outputs": [],
   "source": [
    "import torch"
   ]
  },
  {
   "cell_type": "code",
   "execution_count": 2,
   "metadata": {},
   "outputs": [],
   "source": [
    "from ultralytics import YOLO"
   ]
  },
  {
   "cell_type": "code",
   "execution_count": null,
   "metadata": {},
   "outputs": [],
   "source": [
    "model = YOLO('yolov8l.pt')\n",
    "\n",
    "# Specify the source image\n",
    "source = '\"rtsp://210.99.70.120:1935/live/cctv006.stream'\n",
    "\n",
    "# Make predictions\n",
    "results = model.predict(source, save=True, imgsz=320, conf=0.5)\n",
    "\n",
    "# Extract bounding box dimensions\n",
    "boxes = results[0].boxes.xywh.cpu()\n",
    "for box in boxes:\n",
    "    x, y, w, h = box\n",
    "    print(f\"Width of Box: {w}, Height of Box: {h}\")"
   ]
  }
 ],
 "metadata": {
  "kernelspec": {
   "display_name": "Python 3",
   "language": "python",
   "name": "python3"
  },
  "language_info": {
   "codemirror_mode": {
    "name": "ipython",
    "version": 3
   },
   "file_extension": ".py",
   "mimetype": "text/x-python",
   "name": "python",
   "nbconvert_exporter": "python",
   "pygments_lexer": "ipython3",
   "version": "3.9.5"
  }
 },
 "nbformat": 4,
 "nbformat_minor": 2
}

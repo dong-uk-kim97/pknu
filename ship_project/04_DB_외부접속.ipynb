{
 "cells": [
  {
   "cell_type": "code",
   "execution_count": null,
   "metadata": {},
   "outputs": [],
   "source": [
    "import pandas as pd\n",
    "import mariadb\n",
    "from sqlalchemy import create_engine\n",
    "\n",
    "# 실행 안되면 --> host를 127.0.0.1 \n",
    "\n",
    "conn  = mariadb.connect(\n",
    "    user='team3', \n",
    "    password='dbdb', \n",
    "    database='team3db', \n",
    "    host='210.119.12.121',\n",
    "    port=3306\n",
    ")\n",
    "\n",
    "# 위 커넥션 정보와 동일하게 입력\n",
    "engine = create_engine(\"mysql://{user}:{pw}@{host}/{db}\".format(user='team3', pw='dbdb',host='210.119.12.121', db='team3db'))"
   ]
  },
  {
   "cell_type": "code",
   "execution_count": null,
   "metadata": {},
   "outputs": [],
   "source": [
    "select_sql = \"SELECT * FROM train\""
   ]
  },
  {
   "cell_type": "code",
   "execution_count": null,
   "metadata": {},
   "outputs": [],
   "source": [
    "train_df = pd.read_sql_query(select_sql, engine,index_col='index')\n",
    "train_df"
   ]
  },
  {
   "cell_type": "code",
   "execution_count": null,
   "metadata": {},
   "outputs": [],
   "source": [
    "df2 = pd.read_csv('./data/test.csv')\n",
    "df2.to_sql('test',engine, if_exists='replace', chunksize=1000 )"
   ]
  },
  {
   "cell_type": "code",
   "execution_count": null,
   "metadata": {},
   "outputs": [],
   "source": [
    "test_df = pd.read_sql_query('SELECT * FROM test', engine,index_col='index')\n",
    "test_df"
   ]
  }
 ],
 "metadata": {
  "kernelspec": {
   "display_name": "pk_ship_kernel",
   "language": "python",
   "name": "pk_ship"
  },
  "language_info": {
   "name": "python",
   "version": "3.9.19"
  }
 },
 "nbformat": 4,
 "nbformat_minor": 2
}

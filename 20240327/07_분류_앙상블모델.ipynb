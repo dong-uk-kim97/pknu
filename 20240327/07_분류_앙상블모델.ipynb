{
 "cells": [
  {
   "cell_type": "markdown",
   "id": "46ee6d63-db11-4437-9a0b-c566fc6e3f6d",
   "metadata": {},
   "source": [
    "### <앙상블 모델>\n",
    "\n",
    "- tree 구조(결정트리)를 기반으로 만들어진 모델\n",
    "\n",
    "- 여러 개의 트리 모델을 이용해서 훈련하는 모델을 앙상블 모델이라고 칭한다.\n",
    "\n",
    "### <앙상블 모델 분류>\n",
    "\n",
    "- 회귀와 분류에서 모두 사용 가능한 앙상블 모델들이 존재한다.\n",
    "\n",
    "- 패키지 : sklean, xgb, 이외 다수\n",
    "\n",
    "- 배깅(Bagging) 방식의 앙상블 모델과, 부스팅(Boosting) 방식의 앙상블 모델로 구분된다(내부에서 트리모델 여러개를 어떻게 사용하는지에 따른 구분).\n",
    "\n",
    "### <배깅(Bagging)과 부스팅(Boosting) 방식>\n",
    "\n",
    "- 훈련 데이터를 여러 트리모델에 각각에 적용하는 방식에 따라서 구분된다.\n",
    "\n",
    "- 배깅(Bagging)\n",
    "\n",
    "    - 사용되는 여러 개의 트리모델들 각각은 서로 독립적으로 사용됨(연관성 없음)\n",
    " \n",
    "    - 훈련 데이터는 여러 트리모델 각각에 랜덤하게 적용된다.\n",
    " \n",
    "    - 훈련에 사용되는 데이터가 중복되어 적용될 수도 있다.\n",
    " \n",
    "    - 훈련 데이터를 사용한 후에는 반환하는 방식을 사용 -> 반환 후에 다시 랜덤하게 추출하여 여러 트리모델 각각에 적용됨(그래서 훈련 데이터로 중복 사용될 수 있음)\n",
    " \n",
    "    - 대표적인 배깅 앙상블 모델 : RandomForest\n",
    " \n",
    "    - 이외 모델 : ExtraTree\n",
    " \n",
    "    - 예측 또는 분류 방식 : 회귀에서는 평균값을 이용하고, 분류에서는 과반수(확률)에 따라 결정됨\n",
    " \n",
    "    - 과적합을 해소하는 모델로 주로 사용됨\n",
    "\n",
    "- 부스팅(Boosting)\n",
    "\n",
    "    - 사용되는 여러 개의 트리 모델은 서로 연관성을 가짐\n",
    " \n",
    "    - 이전 트리 모델의 오차를 보완하여 다음 트리 모델에서 이어서 훈련이 진행되는 방식\n",
    " \n",
    "    - 훈련 데이터는 랜덤하게 추출되어 사용되지만, 이전 트리 모델에서 훈련 오차가 발생했던 훈련 데이터에 가중치를 스스로 부여하는 방식\n",
    " \n",
    "    - 대표적인 부스팅 앙상블 모델 : Gradient Boosting\n",
    " \n",
    "    - 이외 모델 : Histogram-based Gradient Boosting, XGBoost\n",
    " \n",
    "    - 회귀에서는 결정 계수, 분류에선느 정확도를 높이기 위해 주로 사용됨 (과적합 해소에도 주로 사용됨)\n",
    " \n",
    "### <실제 모델 적용 순서(규칙은 없음)>\n",
    "\n",
    "- 앙상블 모델을 이용하는 경우에는 보통 RandomForest를 처음에 진행한다(주로 처음에 진행).\n",
    "\n",
    "    - RandomForest 모델은 정확도가 높은 모델로 유명하며, 현재는 부스트 모델이 정확도가 좀 더 높게 나오는 추세임\n",
    " \n",
    "- 최종 모델 선정 시에는 분류 모델 전체를 사용하여 비교 후 선정해야 한다."
   ]
  },
  {
   "cell_type": "markdown",
   "id": "0692115a-6a47-44b3-bad5-c12489a35712",
   "metadata": {},
   "source": [
    "# RandomForest(랜덤 포레스트)"
   ]
  },
  {
   "cell_type": "code",
   "execution_count": 1,
   "id": "0c5d2ca7-936b-44ca-8c8b-0802c92a4cfe",
   "metadata": {},
   "outputs": [
    {
     "data": {
      "text/html": [
       "<div>\n",
       "<style scoped>\n",
       "    .dataframe tbody tr th:only-of-type {\n",
       "        vertical-align: middle;\n",
       "    }\n",
       "\n",
       "    .dataframe tbody tr th {\n",
       "        vertical-align: top;\n",
       "    }\n",
       "\n",
       "    .dataframe thead th {\n",
       "        text-align: right;\n",
       "    }\n",
       "</style>\n",
       "<table border=\"1\" class=\"dataframe\">\n",
       "  <thead>\n",
       "    <tr style=\"text-align: right;\">\n",
       "      <th></th>\n",
       "      <th>alcohol</th>\n",
       "      <th>sugar</th>\n",
       "      <th>pH</th>\n",
       "      <th>class</th>\n",
       "    </tr>\n",
       "  </thead>\n",
       "  <tbody>\n",
       "    <tr>\n",
       "      <th>0</th>\n",
       "      <td>9.4</td>\n",
       "      <td>1.9</td>\n",
       "      <td>3.51</td>\n",
       "      <td>0.0</td>\n",
       "    </tr>\n",
       "    <tr>\n",
       "      <th>1</th>\n",
       "      <td>9.8</td>\n",
       "      <td>2.6</td>\n",
       "      <td>3.20</td>\n",
       "      <td>0.0</td>\n",
       "    </tr>\n",
       "    <tr>\n",
       "      <th>2</th>\n",
       "      <td>9.8</td>\n",
       "      <td>2.3</td>\n",
       "      <td>3.26</td>\n",
       "      <td>0.0</td>\n",
       "    </tr>\n",
       "    <tr>\n",
       "      <th>3</th>\n",
       "      <td>9.8</td>\n",
       "      <td>1.9</td>\n",
       "      <td>3.16</td>\n",
       "      <td>0.0</td>\n",
       "    </tr>\n",
       "    <tr>\n",
       "      <th>4</th>\n",
       "      <td>9.4</td>\n",
       "      <td>1.9</td>\n",
       "      <td>3.51</td>\n",
       "      <td>0.0</td>\n",
       "    </tr>\n",
       "    <tr>\n",
       "      <th>...</th>\n",
       "      <td>...</td>\n",
       "      <td>...</td>\n",
       "      <td>...</td>\n",
       "      <td>...</td>\n",
       "    </tr>\n",
       "    <tr>\n",
       "      <th>6492</th>\n",
       "      <td>11.2</td>\n",
       "      <td>1.6</td>\n",
       "      <td>3.27</td>\n",
       "      <td>1.0</td>\n",
       "    </tr>\n",
       "    <tr>\n",
       "      <th>6493</th>\n",
       "      <td>9.6</td>\n",
       "      <td>8.0</td>\n",
       "      <td>3.15</td>\n",
       "      <td>1.0</td>\n",
       "    </tr>\n",
       "    <tr>\n",
       "      <th>6494</th>\n",
       "      <td>9.4</td>\n",
       "      <td>1.2</td>\n",
       "      <td>2.99</td>\n",
       "      <td>1.0</td>\n",
       "    </tr>\n",
       "    <tr>\n",
       "      <th>6495</th>\n",
       "      <td>12.8</td>\n",
       "      <td>1.1</td>\n",
       "      <td>3.34</td>\n",
       "      <td>1.0</td>\n",
       "    </tr>\n",
       "    <tr>\n",
       "      <th>6496</th>\n",
       "      <td>11.8</td>\n",
       "      <td>0.8</td>\n",
       "      <td>3.26</td>\n",
       "      <td>1.0</td>\n",
       "    </tr>\n",
       "  </tbody>\n",
       "</table>\n",
       "<p>6497 rows × 4 columns</p>\n",
       "</div>"
      ],
      "text/plain": [
       "      alcohol  sugar    pH  class\n",
       "0         9.4    1.9  3.51    0.0\n",
       "1         9.8    2.6  3.20    0.0\n",
       "2         9.8    2.3  3.26    0.0\n",
       "3         9.8    1.9  3.16    0.0\n",
       "4         9.4    1.9  3.51    0.0\n",
       "...       ...    ...   ...    ...\n",
       "6492     11.2    1.6  3.27    1.0\n",
       "6493      9.6    8.0  3.15    1.0\n",
       "6494      9.4    1.2  2.99    1.0\n",
       "6495     12.8    1.1  3.34    1.0\n",
       "6496     11.8    0.8  3.26    1.0\n",
       "\n",
       "[6497 rows x 4 columns]"
      ]
     },
     "execution_count": 1,
     "metadata": {},
     "output_type": "execute_result"
    }
   ],
   "source": [
    "### wine.csv 데이터 읽어들이기\n",
    "# - 변수명 : wine\n",
    "import pandas as pd\n",
    "\n",
    "file_path = './data/08_wine.csv'\n",
    "wine = pd.read_csv(file_path)\n",
    "wine"
   ]
  },
  {
   "cell_type": "code",
   "execution_count": 2,
   "id": "e9e055e1-05e0-4c05-a152-c0afcadebc8c",
   "metadata": {},
   "outputs": [
    {
     "name": "stdout",
     "output_type": "stream",
     "text": [
      "<class 'pandas.core.frame.DataFrame'>\n",
      "RangeIndex: 6497 entries, 0 to 6496\n",
      "Data columns (total 4 columns):\n",
      " #   Column   Non-Null Count  Dtype  \n",
      "---  ------   --------------  -----  \n",
      " 0   alcohol  6497 non-null   float64\n",
      " 1   sugar    6497 non-null   float64\n",
      " 2   pH       6497 non-null   float64\n",
      " 3   class    6497 non-null   float64\n",
      "dtypes: float64(4)\n",
      "memory usage: 203.2 KB\n"
     ]
    },
    {
     "data": {
      "text/html": [
       "<div>\n",
       "<style scoped>\n",
       "    .dataframe tbody tr th:only-of-type {\n",
       "        vertical-align: middle;\n",
       "    }\n",
       "\n",
       "    .dataframe tbody tr th {\n",
       "        vertical-align: top;\n",
       "    }\n",
       "\n",
       "    .dataframe thead th {\n",
       "        text-align: right;\n",
       "    }\n",
       "</style>\n",
       "<table border=\"1\" class=\"dataframe\">\n",
       "  <thead>\n",
       "    <tr style=\"text-align: right;\">\n",
       "      <th></th>\n",
       "      <th>alcohol</th>\n",
       "      <th>sugar</th>\n",
       "      <th>pH</th>\n",
       "      <th>class</th>\n",
       "    </tr>\n",
       "  </thead>\n",
       "  <tbody>\n",
       "    <tr>\n",
       "      <th>count</th>\n",
       "      <td>6497.000000</td>\n",
       "      <td>6497.000000</td>\n",
       "      <td>6497.000000</td>\n",
       "      <td>6497.000000</td>\n",
       "    </tr>\n",
       "    <tr>\n",
       "      <th>mean</th>\n",
       "      <td>10.491801</td>\n",
       "      <td>5.443235</td>\n",
       "      <td>3.218501</td>\n",
       "      <td>0.753886</td>\n",
       "    </tr>\n",
       "    <tr>\n",
       "      <th>std</th>\n",
       "      <td>1.192712</td>\n",
       "      <td>4.757804</td>\n",
       "      <td>0.160787</td>\n",
       "      <td>0.430779</td>\n",
       "    </tr>\n",
       "    <tr>\n",
       "      <th>min</th>\n",
       "      <td>8.000000</td>\n",
       "      <td>0.600000</td>\n",
       "      <td>2.720000</td>\n",
       "      <td>0.000000</td>\n",
       "    </tr>\n",
       "    <tr>\n",
       "      <th>25%</th>\n",
       "      <td>9.500000</td>\n",
       "      <td>1.800000</td>\n",
       "      <td>3.110000</td>\n",
       "      <td>1.000000</td>\n",
       "    </tr>\n",
       "    <tr>\n",
       "      <th>50%</th>\n",
       "      <td>10.300000</td>\n",
       "      <td>3.000000</td>\n",
       "      <td>3.210000</td>\n",
       "      <td>1.000000</td>\n",
       "    </tr>\n",
       "    <tr>\n",
       "      <th>75%</th>\n",
       "      <td>11.300000</td>\n",
       "      <td>8.100000</td>\n",
       "      <td>3.320000</td>\n",
       "      <td>1.000000</td>\n",
       "    </tr>\n",
       "    <tr>\n",
       "      <th>max</th>\n",
       "      <td>14.900000</td>\n",
       "      <td>65.800000</td>\n",
       "      <td>4.010000</td>\n",
       "      <td>1.000000</td>\n",
       "    </tr>\n",
       "  </tbody>\n",
       "</table>\n",
       "</div>"
      ],
      "text/plain": [
       "           alcohol        sugar           pH        class\n",
       "count  6497.000000  6497.000000  6497.000000  6497.000000\n",
       "mean     10.491801     5.443235     3.218501     0.753886\n",
       "std       1.192712     4.757804     0.160787     0.430779\n",
       "min       8.000000     0.600000     2.720000     0.000000\n",
       "25%       9.500000     1.800000     3.110000     1.000000\n",
       "50%      10.300000     3.000000     3.210000     1.000000\n",
       "75%      11.300000     8.100000     3.320000     1.000000\n",
       "max      14.900000    65.800000     4.010000     1.000000"
      ]
     },
     "execution_count": 2,
     "metadata": {},
     "output_type": "execute_result"
    }
   ],
   "source": [
    "### 결측치와 이상치 기본 확인하기\n",
    "wine.info()\n",
    "wine.describe()"
   ]
  },
  {
   "cell_type": "markdown",
   "id": "dc5a8d37-f898-4cb6-84a9-3c6caa4d38be",
   "metadata": {},
   "source": [
    "### <와인 종류 분류하기>\n",
    "\n",
    "- 와인 종류(class) : 레드 와인(0), 화이트 와인(1)\n",
    "\n",
    "### <훈련에 사용할 데이터>\n",
    "\n",
    "- 독립 변수 : alcohol(알콜), sugar(당도), pH(산성도)\n",
    "\n",
    "- 종속 변수 : class(와인 종류)"
   ]
  },
  {
   "cell_type": "code",
   "execution_count": 3,
   "id": "bfe2e4b5-3873-47b9-9c6e-e81e7dbb4b71",
   "metadata": {},
   "outputs": [
    {
     "data": {
      "text/plain": [
       "((6497, 3), (6497,))"
      ]
     },
     "execution_count": 3,
     "metadata": {},
     "output_type": "execute_result"
    }
   ],
   "source": [
    "### 독립 변수와 종속 변수로 데이터 분리하기\n",
    "# - 독립 변수명 : data\n",
    "# - 종속 변수명 : target\n",
    "# - numpy 배열 타입으로 데이터를 분리 생성\n",
    "\n",
    "data = wine[['alcohol','sugar','pH']].to_numpy()\n",
    "target = wine['class'].to_numpy()\n",
    "\n",
    "data.shape, target.shape"
   ]
  },
  {
   "cell_type": "code",
   "execution_count": 4,
   "id": "3935ef76-bbc2-4efa-a3de-09f0e0ee0f2a",
   "metadata": {},
   "outputs": [],
   "source": [
    "### 훈련:테스트 데이터로 분류하기\n",
    "# - 훈련(8) : 테스트(2)로 분류하기\n",
    "# - 사용 변수 : train_input, train_target, test_input, test_target\n",
    "\n",
    "# 라이브러리 import\n",
    "from sklearn.model_selection import train_test_split\n",
    "\n",
    "train_input, test_input, train_target, test_target = train_test_split(data,target, test_size=0.2, random_state=42)"
   ]
  },
  {
   "cell_type": "code",
   "execution_count": 5,
   "id": "7212e27d-89f5-46c6-a46a-afdb7fc97e88",
   "metadata": {},
   "outputs": [
    {
     "data": {
      "text/plain": [
       "((5197, 3), (1300, 3), (5197,), (1300,))"
      ]
     },
     "execution_count": 5,
     "metadata": {},
     "output_type": "execute_result"
    }
   ],
   "source": [
    "train_input.shape, test_input.shape, train_target.shape, test_target.shape"
   ]
  },
  {
   "cell_type": "markdown",
   "id": "753a69ef-faab-4989-b06b-a5679aaad059",
   "metadata": {},
   "source": [
    "### <데이터 스케일링>\n",
    "\n",
    "- 서로 다른 변수(특성) 값의 크기(단위)를 일정한 수준으로 맞추는 작업을 의미함\n",
    "\n",
    "- 수치형 변수(특성)에만 적용함\n",
    "\n",
    "### <스케일링 방법 3가지>\n",
    "- 정규화 : StandardScaler, RobustScaler\n",
    "\n",
    "- 표준화 : MinMaxScaler\n",
    "\n",
    "    - StandardScaler : 분류 또는 회귀에서 사용 가능하며, 주로 분류에서 사용됨\n",
    " \n",
    "    - RobustScaler : 분류 및 회귀에서 모두 사용 가능(많이 사용되지 않음)\n",
    " \n",
    "    - MinMaxScaler : 분류 또는 회귀에서 사용 가능하며, 주로 회귀에서 사용됨 (최대 및 최소 범위 내에서 처리되는 방식)\n",
    " \n",
    "- 스케일링의 경우 StandardScaler 또는 MinMaxScaler가 주로 사용됨(회귀 / 분류 구분하지 않고 모두 적용 후 훈련 성능 비교하면 좋음)"
   ]
  },
  {
   "cell_type": "code",
   "execution_count": 6,
   "id": "c4248b08-5389-46a2-8378-2c4437297a8b",
   "metadata": {},
   "outputs": [
    {
     "data": {
      "text/plain": [
       "((5197, 3), (1300, 3))"
      ]
     },
     "execution_count": 6,
     "metadata": {},
     "output_type": "execute_result"
    }
   ],
   "source": [
    "### 데이터 스케일링(정규화 또는 표준화)\n",
    "from sklearn.preprocessing import StandardScaler, MinMaxScaler, RobustScaler\n",
    "\n",
    "### StStandardScaler로 정규화\n",
    "# - 클래스 : ss\n",
    "# - 독립 변수명 : train_std_scaler, test_std_scaler\n",
    "\n",
    "ss = StandardScaler()\n",
    "ss.fit(train_input)\n",
    "\n",
    "train_std_scaler = ss.transform(train_input)\n",
    "test_std_scaler = ss.transform(test_input)\n",
    "\n",
    "train_std_scaler.shape, test_std_scaler.shape"
   ]
  },
  {
   "cell_type": "code",
   "execution_count": 7,
   "id": "79f24caf-9760-4a80-b3a9-b68d5ba49405",
   "metadata": {},
   "outputs": [
    {
     "data": {
      "text/plain": [
       "((5197, 3), (1300, 3))"
      ]
     },
     "execution_count": 7,
     "metadata": {},
     "output_type": "execute_result"
    }
   ],
   "source": [
    "### RobustScaler로 스케일링하기\n",
    "# - 클래스명 : rs\n",
    "# - 독립변수명 : train_rs_scaler, test_rs_scaler\n",
    "rs = RobustScaler()\n",
    "rs.fit(train_input)\n",
    "\n",
    "train_rs_scaler = rs.transform(train_input)\n",
    "test_rs_scaler = rs.transform(test_input)\n",
    "\n",
    "train_rs_scaler.shape, test_rs_scaler.shape"
   ]
  },
  {
   "cell_type": "code",
   "execution_count": 8,
   "id": "43a4c9a2-1726-4cf9-b8cb-1ead1b185bf6",
   "metadata": {},
   "outputs": [
    {
     "data": {
      "text/plain": [
       "((5197, 3), (1300, 3))"
      ]
     },
     "execution_count": 8,
     "metadata": {},
     "output_type": "execute_result"
    }
   ],
   "source": [
    "### MinMaxScaler로 스케일링하기\n",
    "# - 클래스명 : mm\n",
    "# - 독립변수명 : train_mm_scaler, test_mm_scaler\n",
    "mm = MinMaxScaler()\n",
    "mm.fit(train_input)\n",
    "\n",
    "train_mm_scaler = mm.transform(train_input)\n",
    "test_mm_scaler = mm.transform(test_input)\n",
    "\n",
    "train_mm_scaler.shape, test_mm_scaler.shape"
   ]
  },
  {
   "cell_type": "markdown",
   "id": "4ca0534c-602e-43ca-b53d-1b01d4f04be2",
   "metadata": {},
   "source": [
    "##### 내 코드"
   ]
  },
  {
   "cell_type": "code",
   "execution_count": 9,
   "id": "791660f8-c213-4660-9b26-58d84cd172fc",
   "metadata": {},
   "outputs": [
    {
     "data": {
      "text/plain": [
       "{'StandardScaler': (array([[ 0.01376574,  0.4646116 , -0.16888369],\n",
       "         [ 1.60871671, -0.70299854,  0.26967864],\n",
       "         [ 1.10504798, -0.70299854,  1.20945505],\n",
       "         ...,\n",
       "         [-0.82568214,  0.0267578 ,  0.14437512],\n",
       "         [-0.82568214,  0.52716215, -0.23153545],\n",
       "         [-0.82568214, -0.57789745,  1.83597265]]),\n",
       "  array([[ 1.44082714,  1.52797084,  0.26967864],\n",
       "         [-0.48990299, -0.68214836,  0.3323304 ],\n",
       "         [ 1.27293756,  0.40206106, -0.23153545],\n",
       "         ...,\n",
       "         [ 1.60871671, -0.76554908, -0.16888369],\n",
       "         [-0.90962693,  0.88161523,  0.52028568],\n",
       "         [-1.49724045,  2.09092573, -1.98578474]])),\n",
       " 'RobustScaler': (array([[ 0.11111111,  0.734375  , -0.0952381 ],\n",
       "         [ 1.16666667, -0.140625  ,  0.23809524],\n",
       "         [ 0.83333333, -0.140625  ,  0.95238095],\n",
       "         ...,\n",
       "         [-0.44444444,  0.40625   ,  0.14285714],\n",
       "         [-0.44444444,  0.78125   , -0.14285714],\n",
       "         [-0.44444444, -0.046875  ,  1.42857143]]),\n",
       "  array([[ 1.05555556,  1.53125   ,  0.23809524],\n",
       "         [-0.22222222, -0.125     ,  0.28571429],\n",
       "         [ 0.94444444,  0.6875    , -0.14285714],\n",
       "         ...,\n",
       "         [ 1.16666667, -0.1875    , -0.0952381 ],\n",
       "         [-0.5       ,  1.046875  ,  0.42857143],\n",
       "         [-0.88888889,  1.953125  , -1.47619048]])),\n",
       " 'MinMaxScaler': (array([[0.40322581, 0.10889571, 0.35433071],\n",
       "         [0.70967742, 0.02300613, 0.40944882],\n",
       "         [0.61290323, 0.02300613, 0.52755906],\n",
       "         ...,\n",
       "         [0.24193548, 0.07668712, 0.39370079],\n",
       "         [0.24193548, 0.11349693, 0.34645669],\n",
       "         [0.24193548, 0.03220859, 0.60629921]]),\n",
       "  array([[0.67741935, 0.18711656, 0.40944882],\n",
       "         [0.30645161, 0.02453988, 0.41732283],\n",
       "         [0.64516129, 0.10429448, 0.34645669],\n",
       "         ...,\n",
       "         [0.70967742, 0.01840491, 0.35433071],\n",
       "         [0.22580645, 0.13957055, 0.44094488],\n",
       "         [0.11290323, 0.22852761, 0.12598425]]))}"
      ]
     },
     "execution_count": 9,
     "metadata": {},
     "output_type": "execute_result"
    }
   ],
   "source": [
    "### 스케일링 처리를 함수로 만들어서 사용해보기\n",
    "# - 함수 이름 : getScaler\n",
    "# - 딕셔너리에 담아서 사용. 딕셔너리 이름 : dict_scaler\n",
    "# - 딕셔너리 내에 key는 스케일링 클래스 이름, value는 스케일링처리된 train 및 test 데이터를 튜플 형태로\n",
    "\n",
    "dict_scaler = {}\n",
    "\n",
    "models = [ss,rs,mm]\n",
    "\n",
    "def getScaler(model,X_train, X_test):\n",
    "    model_name = model.__class__.__name__\n",
    "    model.fit(X_train)\n",
    "    X_train_scaled = model.transform(X_train)\n",
    "    X_test_scaled = model.transform(X_test)\n",
    "    dict_scaler[model_name] = (X_train_scaled, X_test_scaled)\n",
    "    return X_train_scaled, X_test_scaled\n",
    "\n",
    "for m in models:\n",
    "    getScaler(m,train_input,test_input)\n",
    "\n",
    "dict_scaler"
   ]
  },
  {
   "cell_type": "markdown",
   "id": "ca539968-fcaa-4c05-8c52-b7733c4276ab",
   "metadata": {},
   "source": [
    "##### 강사님 코드"
   ]
  },
  {
   "cell_type": "code",
   "execution_count": 10,
   "id": "6a0106b3-7ce7-41ce-9bd8-c80e28f792b9",
   "metadata": {},
   "outputs": [
    {
     "data": {
      "text/plain": [
       "{'StandardScaler': (array([[ 0.01376574,  0.4646116 , -0.16888369],\n",
       "         [ 1.60871671, -0.70299854,  0.26967864],\n",
       "         [ 1.10504798, -0.70299854,  1.20945505],\n",
       "         ...,\n",
       "         [-0.82568214,  0.0267578 ,  0.14437512],\n",
       "         [-0.82568214,  0.52716215, -0.23153545],\n",
       "         [-0.82568214, -0.57789745,  1.83597265]]),\n",
       "  array([[ 1.44082714,  1.52797084,  0.26967864],\n",
       "         [-0.48990299, -0.68214836,  0.3323304 ],\n",
       "         [ 1.27293756,  0.40206106, -0.23153545],\n",
       "         ...,\n",
       "         [ 1.60871671, -0.76554908, -0.16888369],\n",
       "         [-0.90962693,  0.88161523,  0.52028568],\n",
       "         [-1.49724045,  2.09092573, -1.98578474]])),\n",
       " 'RobustScaler': (array([[ 0.11111111,  0.734375  , -0.0952381 ],\n",
       "         [ 1.16666667, -0.140625  ,  0.23809524],\n",
       "         [ 0.83333333, -0.140625  ,  0.95238095],\n",
       "         ...,\n",
       "         [-0.44444444,  0.40625   ,  0.14285714],\n",
       "         [-0.44444444,  0.78125   , -0.14285714],\n",
       "         [-0.44444444, -0.046875  ,  1.42857143]]),\n",
       "  array([[ 1.05555556,  1.53125   ,  0.23809524],\n",
       "         [-0.22222222, -0.125     ,  0.28571429],\n",
       "         [ 0.94444444,  0.6875    , -0.14285714],\n",
       "         ...,\n",
       "         [ 1.16666667, -0.1875    , -0.0952381 ],\n",
       "         [-0.5       ,  1.046875  ,  0.42857143],\n",
       "         [-0.88888889,  1.953125  , -1.47619048]])),\n",
       " 'MinMaxScaler': (array([[0.40322581, 0.10889571, 0.35433071],\n",
       "         [0.70967742, 0.02300613, 0.40944882],\n",
       "         [0.61290323, 0.02300613, 0.52755906],\n",
       "         ...,\n",
       "         [0.24193548, 0.07668712, 0.39370079],\n",
       "         [0.24193548, 0.11349693, 0.34645669],\n",
       "         [0.24193548, 0.03220859, 0.60629921]]),\n",
       "  array([[0.67741935, 0.18711656, 0.40944882],\n",
       "         [0.30645161, 0.02453988, 0.41732283],\n",
       "         [0.64516129, 0.10429448, 0.34645669],\n",
       "         ...,\n",
       "         [0.70967742, 0.01840491, 0.35433071],\n",
       "         [0.22580645, 0.13957055, 0.44094488],\n",
       "         [0.11290323, 0.22852761, 0.12598425]]))}"
      ]
     },
     "execution_count": 10,
     "metadata": {},
     "output_type": "execute_result"
    }
   ],
   "source": [
    "def getScaler_(scaler,X_train, X_test):\n",
    "    scaler.fit(X_train)\n",
    "    X_train_scaler = scaler.transform(X_train)\n",
    "    X_test_scaler = scaler.transform(X_test)\n",
    "\n",
    "    return X_train_scaler, X_test_scaler\n",
    "\n",
    "ss = StandardScaler()\n",
    "rs = RobustScaler()\n",
    "mm = MinMaxScaler()\n",
    "list_scalers=[ss,rs,mm]\n",
    "\n",
    "dict_scaler_ = {}\n",
    "\n",
    "for s in list_scalers:\n",
    "    sName = s.__class__.__name__\n",
    "    dict_scaler_[sName] = getScaler_(s,train_input,test_input)\n",
    "dict_scaler_"
   ]
  },
  {
   "cell_type": "markdown",
   "id": "e73321d0-2d2c-4fcf-82ae-a23144df7c7a",
   "metadata": {},
   "source": [
    "### <랜덤 포레스트(Random Forest) 분류 모델로 훈련하기>\n",
    "\n",
    "- 클래스 변수명 : rf\n",
    "\n",
    "- 훈련 및 테스트 데이터 : StandardScaler로 변환된 데이터 사용"
   ]
  },
  {
   "cell_type": "code",
   "execution_count": 11,
   "id": "bc5b9530-8b66-4b9f-b27d-7cc505d6358e",
   "metadata": {},
   "outputs": [],
   "source": [
    "### 훈련모델 라이브러리 import\n",
    "from sklearn.ensemble import RandomForestClassifier"
   ]
  },
  {
   "cell_type": "code",
   "execution_count": 12,
   "id": "7dd30b83-79fb-49d6-86e9-2f50db66bc1d",
   "metadata": {},
   "outputs": [],
   "source": [
    "### 훈련 모델 생성\n",
    "rf = RandomForestClassifier(n_jobs=-1, random_state=42)"
   ]
  },
  {
   "cell_type": "code",
   "execution_count": 13,
   "id": "24c06fab-13d7-4e37-bb5f-ff38b0fc0e8d",
   "metadata": {},
   "outputs": [
    {
     "data": {
      "text/html": [
       "<style>#sk-container-id-1 {color: black;}#sk-container-id-1 pre{padding: 0;}#sk-container-id-1 div.sk-toggleable {background-color: white;}#sk-container-id-1 label.sk-toggleable__label {cursor: pointer;display: block;width: 100%;margin-bottom: 0;padding: 0.3em;box-sizing: border-box;text-align: center;}#sk-container-id-1 label.sk-toggleable__label-arrow:before {content: \"▸\";float: left;margin-right: 0.25em;color: #696969;}#sk-container-id-1 label.sk-toggleable__label-arrow:hover:before {color: black;}#sk-container-id-1 div.sk-estimator:hover label.sk-toggleable__label-arrow:before {color: black;}#sk-container-id-1 div.sk-toggleable__content {max-height: 0;max-width: 0;overflow: hidden;text-align: left;background-color: #f0f8ff;}#sk-container-id-1 div.sk-toggleable__content pre {margin: 0.2em;color: black;border-radius: 0.25em;background-color: #f0f8ff;}#sk-container-id-1 input.sk-toggleable__control:checked~div.sk-toggleable__content {max-height: 200px;max-width: 100%;overflow: auto;}#sk-container-id-1 input.sk-toggleable__control:checked~label.sk-toggleable__label-arrow:before {content: \"▾\";}#sk-container-id-1 div.sk-estimator input.sk-toggleable__control:checked~label.sk-toggleable__label {background-color: #d4ebff;}#sk-container-id-1 div.sk-label input.sk-toggleable__control:checked~label.sk-toggleable__label {background-color: #d4ebff;}#sk-container-id-1 input.sk-hidden--visually {border: 0;clip: rect(1px 1px 1px 1px);clip: rect(1px, 1px, 1px, 1px);height: 1px;margin: -1px;overflow: hidden;padding: 0;position: absolute;width: 1px;}#sk-container-id-1 div.sk-estimator {font-family: monospace;background-color: #f0f8ff;border: 1px dotted black;border-radius: 0.25em;box-sizing: border-box;margin-bottom: 0.5em;}#sk-container-id-1 div.sk-estimator:hover {background-color: #d4ebff;}#sk-container-id-1 div.sk-parallel-item::after {content: \"\";width: 100%;border-bottom: 1px solid gray;flex-grow: 1;}#sk-container-id-1 div.sk-label:hover label.sk-toggleable__label {background-color: #d4ebff;}#sk-container-id-1 div.sk-serial::before {content: \"\";position: absolute;border-left: 1px solid gray;box-sizing: border-box;top: 0;bottom: 0;left: 50%;z-index: 0;}#sk-container-id-1 div.sk-serial {display: flex;flex-direction: column;align-items: center;background-color: white;padding-right: 0.2em;padding-left: 0.2em;position: relative;}#sk-container-id-1 div.sk-item {position: relative;z-index: 1;}#sk-container-id-1 div.sk-parallel {display: flex;align-items: stretch;justify-content: center;background-color: white;position: relative;}#sk-container-id-1 div.sk-item::before, #sk-container-id-1 div.sk-parallel-item::before {content: \"\";position: absolute;border-left: 1px solid gray;box-sizing: border-box;top: 0;bottom: 0;left: 50%;z-index: -1;}#sk-container-id-1 div.sk-parallel-item {display: flex;flex-direction: column;z-index: 1;position: relative;background-color: white;}#sk-container-id-1 div.sk-parallel-item:first-child::after {align-self: flex-end;width: 50%;}#sk-container-id-1 div.sk-parallel-item:last-child::after {align-self: flex-start;width: 50%;}#sk-container-id-1 div.sk-parallel-item:only-child::after {width: 0;}#sk-container-id-1 div.sk-dashed-wrapped {border: 1px dashed gray;margin: 0 0.4em 0.5em 0.4em;box-sizing: border-box;padding-bottom: 0.4em;background-color: white;}#sk-container-id-1 div.sk-label label {font-family: monospace;font-weight: bold;display: inline-block;line-height: 1.2em;}#sk-container-id-1 div.sk-label-container {text-align: center;}#sk-container-id-1 div.sk-container {/* jupyter's `normalize.less` sets `[hidden] { display: none; }` but bootstrap.min.css set `[hidden] { display: none !important; }` so we also need the `!important` here to be able to override the default hidden behavior on the sphinx rendered scikit-learn.org. See: https://github.com/scikit-learn/scikit-learn/issues/21755 */display: inline-block !important;position: relative;}#sk-container-id-1 div.sk-text-repr-fallback {display: none;}</style><div id=\"sk-container-id-1\" class=\"sk-top-container\"><div class=\"sk-text-repr-fallback\"><pre>RandomForestClassifier(n_jobs=-1, random_state=42)</pre><b>In a Jupyter environment, please rerun this cell to show the HTML representation or trust the notebook. <br />On GitHub, the HTML representation is unable to render, please try loading this page with nbviewer.org.</b></div><div class=\"sk-container\" hidden><div class=\"sk-item\"><div class=\"sk-estimator sk-toggleable\"><input class=\"sk-toggleable__control sk-hidden--visually\" id=\"sk-estimator-id-1\" type=\"checkbox\" checked><label for=\"sk-estimator-id-1\" class=\"sk-toggleable__label sk-toggleable__label-arrow\">RandomForestClassifier</label><div class=\"sk-toggleable__content\"><pre>RandomForestClassifier(n_jobs=-1, random_state=42)</pre></div></div></div></div></div>"
      ],
      "text/plain": [
       "RandomForestClassifier(n_jobs=-1, random_state=42)"
      ]
     },
     "execution_count": 13,
     "metadata": {},
     "output_type": "execute_result"
    }
   ],
   "source": [
    "### 훈련시키기\n",
    "rf.fit(dict_scaler_['StandardScaler'][0],train_target)"
   ]
  },
  {
   "cell_type": "code",
   "execution_count": 14,
   "id": "38746241-fbba-40c0-a098-af3c2e2d2a6b",
   "metadata": {},
   "outputs": [
    {
     "name": "stdout",
     "output_type": "stream",
     "text": [
      "0.9969 / 0.8892 / 0.1077\n"
     ]
    }
   ],
   "source": [
    "### 정확도 확인하기\n",
    "train_score = rf.score(dict_scaler_['StandardScaler'][0],train_target)\n",
    "test_score = rf.score(dict_scaler_['StandardScaler'][1],test_target)\n",
    "print(f'{train_score:.4f} / {test_score:.4f} / {train_score-test_score:.4f}')"
   ]
  },
  {
   "cell_type": "markdown",
   "id": "d4b842b0-6ef6-4184-b614-48d937ef8af7",
   "metadata": {},
   "source": [
    "#### <해석>\n",
    "\n",
    "- 과대적합이 발생하는 것으로 보인다.\n",
    "\n",
    "- 성능 향상을 위한 하이퍼 파라미터 튜닝, 또는 데이터의 증가가 필요하다."
   ]
  },
  {
   "cell_type": "code",
   "execution_count": 15,
   "id": "c409bf30-1a0f-4087-a222-7d3bc48bb123",
   "metadata": {},
   "outputs": [
    {
     "name": "stdout",
     "output_type": "stream",
     "text": [
      "0.9969 / 0.8877 / 0.1092\n"
     ]
    }
   ],
   "source": [
    "### RobustScaler 데이터 사용\n",
    "\n",
    "### 훈련시키기\n",
    "rf.fit(dict_scaler_['RobustScaler'][0],train_target)\n",
    "### 정확도 확인하기\n",
    "train_score = rf.score(dict_scaler_['RobustScaler'][0],train_target)\n",
    "test_score = rf.score(dict_scaler_['RobustScaler'][1],test_target)\n",
    "print(f'{train_score:.4f} / {test_score:.4f} / {train_score-test_score:.4f}')"
   ]
  },
  {
   "cell_type": "markdown",
   "id": "52afc351-9314-4e72-ac5e-4b4b67c67f5d",
   "metadata": {},
   "source": [
    "#### <해석>"
   ]
  },
  {
   "cell_type": "code",
   "execution_count": 16,
   "id": "a2498c19-4ee5-48b4-9364-2515a71cc041",
   "metadata": {},
   "outputs": [
    {
     "name": "stdout",
     "output_type": "stream",
     "text": [
      "0.9969 / 0.8877 / 0.1092\n"
     ]
    }
   ],
   "source": [
    "### MinMaxScaler 데이터 사용\n",
    "\n",
    "### 훈련시키기\n",
    "rf.fit(dict_scaler_['MinMaxScaler'][0],train_target)\n",
    "### 정확도 확인하기\n",
    "train_score = rf.score(dict_scaler_['MinMaxScaler'][0],train_target)\n",
    "test_score = rf.score(dict_scaler_['MinMaxScaler'][1],test_target)\n",
    "print(f'{train_score:.4f} / {test_score:.4f} / {train_score-test_score:.4f}')"
   ]
  },
  {
   "cell_type": "code",
   "execution_count": 17,
   "id": "d1cf42e9-4c85-4409-a49a-4ef20d97c10e",
   "metadata": {},
   "outputs": [
    {
     "name": "stdout",
     "output_type": "stream",
     "text": [
      "0.9969 / 0.8892 / 0.1077\n"
     ]
    }
   ],
   "source": [
    "### 훈련시키기\n",
    "rf.fit(dict_scaler_['StandardScaler'][0],train_target)\n",
    "### 정확도 확인하기\n",
    "train_score = rf.score(dict_scaler_['StandardScaler'][0],train_target)\n",
    "test_score = rf.score(dict_scaler_['StandardScaler'][1],test_target)\n",
    "print(f'{train_score:.4f} / {test_score:.4f} / {train_score-test_score:.4f}')"
   ]
  },
  {
   "cell_type": "code",
   "execution_count": 18,
   "id": "e030cd1f-9d67-4a51-8f52-3f24692b30d0",
   "metadata": {},
   "outputs": [
    {
     "data": {
      "text/plain": [
       "array([1., 0., 1., ..., 1., 1., 1.])"
      ]
     },
     "execution_count": 18,
     "metadata": {},
     "output_type": "execute_result"
    }
   ],
   "source": [
    "### 예측하기\n",
    "test_pred = rf.predict(dict_scaler_['StandardScaler'][1])\n",
    "test_pred"
   ]
  },
  {
   "cell_type": "code",
   "execution_count": 19,
   "id": "7456386e-bfb6-480f-9948-2edce0df6c3d",
   "metadata": {},
   "outputs": [
    {
     "name": "stdout",
     "output_type": "stream",
     "text": [
      "원본 : [1. 0. 1. 1. 1. 0. 1. 1. 0. 1.]\n",
      "예측 : [1. 0. 1. 1. 1. 1. 1. 1. 0. 1.]\n"
     ]
    }
   ],
   "source": [
    "### 실제 원본 데이터와 예측 데이터 10개만 확인\n",
    "print(f'원본 : {test_target[:10]}')\n",
    "print(f'예측 : {test_pred[:10]}')"
   ]
  },
  {
   "cell_type": "markdown",
   "id": "8e83949f-a635-4cdb-88c0-a741594fd87d",
   "metadata": {},
   "source": [
    "### <분류 모델 평가 방법>\n",
    "\n",
    "- 정확도, 정밀도, 재현율, F1-Score 값을 이용해서 평가한다.\n",
    "\n",
    "- 예측 시 부정확한 오류가 있는지 확인 : 오류는 잘못 맞춘 경우를 의미한다(오류는 '오차행렬도(혼동행렬도)'를 통해 확인한다).\n",
    "\n",
    "### <평가 기준>\n",
    "\n",
    "- 정확도를 이용하여 과적합 여부 확인 (이미 위에서 진행함)\n",
    "\n",
    "- 평가 기준\n",
    "\n",
    "    - 재현율이 높고, F1-Score값이 높은 모델을 선정한다.\n",
    "\n",
    "    - 재현율이 낮은 경우(0에 가까운 경우)에는 부정확한 오류가 있다는 의미임\n",
    "\n",
    "- 정확도, 정밀도, 재현율, F1-Score 모든 값의 범위는 0~1 사이의 값을 가지며, 확률을 의미한다.\n",
    "\n",
    "- 값은 높을수록 좋다(다만, 값이 높더라도 오차행렬도를 통해 오류 확인을 꼭 해야 한다)."
   ]
  },
  {
   "cell_type": "markdown",
   "id": "e71e6561-5674-487b-a7d6-0d35335cf800",
   "metadata": {},
   "source": [
    "### 오차행렬도 그리기 "
   ]
  },
  {
   "cell_type": "code",
   "execution_count": 20,
   "id": "31f8bce7-36cc-428e-b26a-37b278a2a59c",
   "metadata": {},
   "outputs": [],
   "source": [
    "### 시각화 라이브러리 import\n",
    "import matplotlib.pyplot as plt\n",
    "import seaborn as sns\n",
    "import numpy as np\n",
    "\n",
    "### 한글 처리\n",
    "plt.rc('font',family='Malgun Gothic')\n",
    "\n",
    "### 마이너스 기호 처리\n",
    "plt.rcParams['axes.unicode_minus'] = True\n",
    "\n",
    "### 오차행렬 계산 라이브러리\n",
    "from sklearn.metrics import confusion_matrix\n",
    "\n",
    "### 오차행렬 시각화 라이브러리\n",
    "from sklearn.metrics import ConfusionMatrixDisplay"
   ]
  },
  {
   "cell_type": "code",
   "execution_count": 24,
   "id": "b426d6ec-4538-4bd1-85db-b49cccac10d1",
   "metadata": {},
   "outputs": [
    {
     "data": {
      "text/plain": [
       "array([0., 1.])"
      ]
     },
     "execution_count": 24,
     "metadata": {},
     "output_type": "execute_result"
    }
   ],
   "source": [
    "### 모델이 사용한 범주 데이터 추출하기\n",
    "rf.classes_"
   ]
  },
  {
   "cell_type": "code",
   "execution_count": 30,
   "id": "8011addd-795b-429b-8ca2-28a12506c10c",
   "metadata": {},
   "outputs": [
    {
     "data": {
      "text/plain": [
       "array([[266,  75],\n",
       "       [ 69, 890]], dtype=int64)"
      ]
     },
     "execution_count": 30,
     "metadata": {},
     "output_type": "execute_result"
    }
   ],
   "source": [
    "### 오차행렬 평가 매트릭스 추출하기\n",
    "# - 사용 데이터 = 테스트 종속 변수, 테스트 예측 결과\n",
    "# - labels : 범주값(rf.classes_ : 모델이 사용한 범주 값-> 실제 class 특성에 있는 0과 1)\n",
    "\n",
    "cm = confusion_matrix(test_target, test_pred, labels=rf.classes_)\n",
    "cm"
   ]
  },
  {
   "cell_type": "code",
   "execution_count": 31,
   "id": "e7de0e2c-12a6-4fe7-b213-5928952e2e8f",
   "metadata": {},
   "outputs": [
    {
     "data": {
      "text/plain": [
       "(1300, 1300)"
      ]
     },
     "execution_count": 31,
     "metadata": {},
     "output_type": "execute_result"
    }
   ],
   "source": [
    "len(test_target) , len(test_pred)"
   ]
  },
  {
   "cell_type": "code",
   "execution_count": 32,
   "id": "c008fe6d-d211-4ddb-a557-66c89398d097",
   "metadata": {},
   "outputs": [
    {
     "data": {
      "image/png": "[encoded data removed]",
      "text/plain": [
       "<Figure size 640x480 with 2 Axes>"
      ]
     },
     "metadata": {},
     "output_type": "display_data"
    }
   ],
   "source": [
    "### 오차행렬 데이터를 시각화 하기 -> 이를 '오차행렬도'라고 칭한다.\n",
    "disp = ConfusionMatrixDisplay(confusion_matrix=cm, display_labels=rf.classes_, )\n",
    "disp.plot(cmap='PuBu');"
   ]
  },
  {
   "cell_type": "markdown",
   "id": "c376eacd-f137-4913-9eb4-f248337cf2d5",
   "metadata": {},
   "source": [
    "![](설명_오차행렬(혼동행렬)의_긍정(Positive)_부정(Negative)_평가_결과.jpg)"
   ]
  },
  {
   "cell_type": "markdown",
   "id": "b4c42aa9-506a-45ea-90dd-b5cd256a081b",
   "metadata": {},
   "source": [
    "### <오차 행렬(혼동 행렬)>\n",
    "\n",
    "- 어떠한 유형의 오류가 발생하고 있는지를 나타내는 값\n",
    "\n",
    "- 이를 시각화하는 것을 오차행렬도 또는 혼동행렬도라고 칭한다\n",
    "\n",
    "- 정확도(score)의 값과 오차행렬도의 시각화 결과로 모델을 선정할 수 있음\n",
    "\n",
    "### <해석 방법>\n",
    "\n",
    "- 긍정(positive)적 오류인지, 부정(Negative)적 오류인지로 해석된다.\n",
    "\n",
    "- 오류의 종류 : 긍정적(Positive) 오류와, 부정적(Negative) 오류로 구분한다.\n",
    "\n",
    "    - FP(False Positive)\n",
    " \n",
    "        - 예측 결과가 맞지는 않음(False)\n",
    "     \n",
    "        - 긍정적(Positive) 오류로 해석함\n",
    "     \n",
    "        - 위험하지 않은 오류\n",
    "     \n",
    "        - 0을 1로 예측한 경우\n",
    "     \n",
    "    - FN(False Negative)\n",
    " \n",
    "        - 예측 결과가 맞지 않음(False)\n",
    "     \n",
    "        - 부정적(Negative) 오류로 해석함\n",
    "     \n",
    "        - 위험한 오류\n",
    "     \n",
    "        - 정확도(score)의 값이 크더라도, FN의 값이 큰 경우에는 재현율 값이 낮아지기에, 예측모델로 사용하는데 고려해야 함\n",
    "     \n",
    "        - 1을 0으로 예측한 경우\n",
    "     \n",
    "    - TP(True Positive)\n",
    " \n",
    "        - 예측 결과가 맞는 경우(True)\n",
    "     \n",
    "        - 1을 1로 예측한 경우\n",
    "     \n",
    "    - TN(True Negative)\n",
    "\n",
    "        - 예측 결과가 맞는 경우(True)\n",
    "     \n",
    "        - 0을 0으로 예측한 경우\n",
    "     \n",
    "### <평가에 사용되는 값>\n",
    "\n",
    "- 정확도, 정밀도, 재현율, F1-Score\n",
    "\n",
    "    - 정확도(Accuracy)\n",
    " \n",
    "        - 분류 모델에서 `score()`을 통해 나온 값과 동일하다.\n",
    "     \n",
    "        - 예측 결과가 실제값과 얼마나정확한가를 나타내는 값\n",
    "     \n",
    "        - Accuracy = (TP+TN) /(TP+TN+FP+FN)\n",
    " \n",
    "    - 정밀도(Precision)\n",
    "\n",
    "        - 모델이 1로 예측한 데이터 중에 실제 1로 잘 예측한 값\n",
    "     \n",
    "        - Precision = TP / (TP+FP)\n",
    "     \n",
    "    - 재현율(recall)\n",
    " \n",
    "        - 실제로 1인 데이터를 1로 예측한 값\n",
    "     \n",
    "        - Recall = TP / (TP+FN)\n",
    "     \n",
    "        - 위험한 오류가 포함되어 있음(1을 0으로 판단한 경우)\n",
    " \n",
    "    - F1-Score\n",
    " \n",
    "        - 정밀도와 재현율을 조합하여 하나의 통계치로 반환한 값\n",
    "     \n",
    "        - F1-Score = (정밀도* 재현율) / (정밀도 + 재현율)\n",
    "     \n",
    "### <최종 모델 선정 방법>\n",
    "\n",
    "- 과소 및 과대 적합이 일어나지 않아야 함 : `score()`를 통해 확인함 -> Accuracy는 별도로 계산하지 않아도 됨\n",
    "\n",
    "- 재현율과 F1-Score가 모두 높으면 우수한 모델로 평가할 수 있다.\n",
    "\n",
    "- 재현율이 현저히 낮은 경우에는 모델 선정에서 고려할 필요성 있음(제외 대상 모델 또는 성능 향상 필요)"
   ]
  },
  {
   "cell_type": "code",
   "execution_count": 33,
   "id": "1166629e-8af6-4146-9752-7212d4007ff6",
   "metadata": {},
   "outputs": [],
   "source": [
    "### 분류 모델 평가 라이브러리\n",
    "# - 모두 함수 : 사용되는 데이터는 테스트(또는 검증) 종속 변수, 예측 결과\n",
    "\n",
    "# - 정확도, 정밀도, 재현율, F1-score\n",
    "from sklearn.metrics import accuracy_score, precision_score, recall_score, f1_score"
   ]
  },
  {
   "cell_type": "code",
   "execution_count": 41,
   "id": "2bbec341-a054-469e-9f80-5bd6d9917c3c",
   "metadata": {},
   "outputs": [
    {
     "name": "stdout",
     "output_type": "stream",
     "text": [
      "train_score =0.9969, test_score=0.8892,accuracy=0.8892, precision=0.9223, recall=0.9281, f1_score=0.9252\n"
     ]
    }
   ],
   "source": [
    "### 정확도\n",
    "acc = accuracy_score(test_target, test_pred)\n",
    "\n",
    "### 정밀도\n",
    "pre = precision_score(test_target, test_pred)\n",
    "\n",
    "### 재현율\n",
    "rec = recall_score(test_target, test_pred)\n",
    "\n",
    "### F-1 Score\n",
    "f1 = f1_score(test_target, test_pred)\n",
    "\n",
    "print(f'train_score ={train_score:.4f}, test_score={test_score:.4f},accuracy={acc:.4f}, precision={pre:.4f}, recall={rec:.4f}, f1_score={f1:.4f}')"
   ]
  },
  {
   "cell_type": "markdown",
   "id": "f77fcbc4-e8ab-4102-8eb2-90d0cdc23ca8",
   "metadata": {},
   "source": [
    "#### 해석\n",
    "\n",
    "- 정밀도, 재현율, F1-Score는 0.92이상으로 매우 높은 값으로 성능 좋은 모델로 분석된다.\n",
    "\n",
    "- 훈련 정확도는 0.9969로 매우 높으나, 테스트 정확도는 0.8892로 다소 과대 적합을 보이고 있는 것으로 분석된다.\n",
    "\n",
    "- 과대 적합을 줄일 수 있는 방법을 모색하거나, 다른 모델, 또는 데이터 양을 늘리는 방법을 수행할 필요성이 있다."
   ]
  },
  {
   "cell_type": "code",
   "execution_count": null,
   "id": "0683562a-9c62-4d3b-bec8-428d43f96d54",
   "metadata": {},
   "outputs": [],
   "source": []
  },
  {
   "cell_type": "code",
   "execution_count": null,
   "id": "6e0efc3f-1fae-47e6-a68d-9bf67afe3a69",
   "metadata": {},
   "outputs": [],
   "source": []
  },
  {
   "cell_type": "code",
   "execution_count": null,
   "id": "15d2627d-1328-43a1-932f-da893e4c73be",
   "metadata": {},
   "outputs": [],
   "source": []
  },
  {
   "cell_type": "code",
   "execution_count": null,
   "id": "bedb3828-c7b0-4fb4-8832-7eb5d5b1219f",
   "metadata": {},
   "outputs": [],
   "source": []
  },
  {
   "cell_type": "code",
   "execution_count": null,
   "id": "18dde756-f98c-458e-b2fe-8d971dbc5840",
   "metadata": {},
   "outputs": [],
   "source": []
  },
  {
   "cell_type": "code",
   "execution_count": null,
   "id": "4ca7e487-aa52-454e-90fd-b39062458ce1",
   "metadata": {},
   "outputs": [],
   "source": []
  },
  {
   "cell_type": "code",
   "execution_count": null,
   "id": "e2106bbc-171f-4e32-a2b3-a5d2062cd7b4",
   "metadata": {},
   "outputs": [],
   "source": []
  },
  {
   "cell_type": "code",
   "execution_count": null,
   "id": "2aa08353-c80e-4c2f-9bea-b4b6cf93eaef",
   "metadata": {},
   "outputs": [],
   "source": []
  },
  {
   "cell_type": "code",
   "execution_count": null,
   "id": "26e3665b-7b3d-4ceb-8033-5a65002e9f59",
   "metadata": {},
   "outputs": [],
   "source": []
  },
  {
   "cell_type": "code",
   "execution_count": null,
   "id": "0080c0c8-b7d7-442e-be2c-582d5a0250b4",
   "metadata": {},
   "outputs": [],
   "source": []
  },
  {
   "cell_type": "code",
   "execution_count": null,
   "id": "37620f51-37b9-410b-a2d8-8cba67eab9a7",
   "metadata": {},
   "outputs": [],
   "source": []
  },
  {
   "cell_type": "code",
   "execution_count": null,
   "id": "11955f53-57d1-46e9-97d2-6c086dd4e832",
   "metadata": {},
   "outputs": [],
   "source": []
  },
  {
   "cell_type": "code",
   "execution_count": null,
   "id": "263771e2-cd03-4eab-81bf-6e43fa3d2311",
   "metadata": {},
   "outputs": [],
   "source": []
  },
  {
   "cell_type": "code",
   "execution_count": null,
   "id": "68a574ea-3683-4263-85fa-1843860c2dc0",
   "metadata": {},
   "outputs": [],
   "source": []
  },
  {
   "cell_type": "code",
   "execution_count": null,
   "id": "a8278381-ea18-4768-a257-b75654c84e0d",
   "metadata": {},
   "outputs": [],
   "source": []
  },
  {
   "cell_type": "code",
   "execution_count": null,
   "id": "71f80a64-8ed5-4caf-a757-2cdf2326ce0b",
   "metadata": {},
   "outputs": [],
   "source": []
  },
  {
   "cell_type": "code",
   "execution_count": null,
   "id": "a61c0ac4-c82d-4f25-aaed-a5c556868247",
   "metadata": {},
   "outputs": [],
   "source": []
  },
  {
   "cell_type": "code",
   "execution_count": null,
   "id": "af32f38e-ba97-440e-8125-2bb895f858da",
   "metadata": {},
   "outputs": [],
   "source": []
  },
  {
   "cell_type": "code",
   "execution_count": null,
   "id": "a81ec457-bd09-4f6a-af40-c4ea378983ca",
   "metadata": {},
   "outputs": [],
   "source": []
  },
  {
   "cell_type": "code",
   "execution_count": null,
   "id": "a593dc95-906d-4c29-bbff-38559d3a97f3",
   "metadata": {},
   "outputs": [],
   "source": []
  }
 ],
 "metadata": {
  "kernelspec": {
   "display_name": "Python 3 (ipykernel)",
   "language": "python",
   "name": "python3"
  },
  "language_info": {
   "codemirror_mode": {
    "name": "ipython",
    "version": 3
   },
   "file_extension": ".py",
   "mimetype": "text/x-python",
   "name": "python",
   "nbconvert_exporter": "python",
   "pygments_lexer": "ipython3",
   "version": "3.11.8"
  }
 },
 "nbformat": 4,
 "nbformat_minor": 5
}

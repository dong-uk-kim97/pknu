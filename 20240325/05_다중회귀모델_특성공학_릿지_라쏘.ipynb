{
 "cells": [
  {
   "cell_type": "markdown",
   "id": "ba4fa0f5-0b08-4452-9d50-2e747942caa7",
   "metadata": {},
   "source": [
    "### <다중회귀모델(Multiple Regression)>\n",
    "\n",
    "- 여러 개의 특성을 사용한 회귀모델\n",
    "\n",
    "- 특성이 많을수록 집중력과 복잡도가 높아짐(단, 훈련 시간이 오래 걸릴 수 있음, 시스템 성능에 따라 처리 시간이 결정됨)\n",
    "\n",
    "- 다중회귀모델 : $ y = a*x1 + b*x2 +c*x3 + ... + n*x_n + y절편 $"
   ]
  },
  {
   "cell_type": "code",
   "execution_count": 1,
   "id": "9d05e528-2a59-46d6-8919-ed7a5c1a2c6e",
   "metadata": {},
   "outputs": [],
   "source": [
    "import numpy as np\n",
    "import matplotlib.pyplot as plt\n",
    "from sklearn.model_selection import train_test_split\n",
    "from sklearn.linear_model import LinearRegression\n",
    "from sklearn.metrics import mean_absolute_error\n",
    "import pandas as pd\n",
    "\n",
    "### 시각화 시 한글 및 마이너스(-) 기호 사용을 위한 처리\n",
    "# - 한글 처리 : 폰트 지정\n",
    "plt.rcParams['font.family'] ='Malgun Gothic'\n",
    "\n",
    "# - 마이너스(-) 기호 처\n",
    "plt.rcParams['axes.unicode_minus'] =False"
   ]
  },
  {
   "cell_type": "code",
   "execution_count": 2,
   "id": "7224005a-e1aa-441d-95e9-c260734b2aca",
   "metadata": {},
   "outputs": [
    {
     "name": "stdout",
     "output_type": "stream",
     "text": [
      "<class 'pandas.core.frame.DataFrame'>\n",
      "RangeIndex: 56 entries, 0 to 55\n",
      "Data columns (total 3 columns):\n",
      " #   Column  Non-Null Count  Dtype  \n",
      "---  ------  --------------  -----  \n",
      " 0   length  56 non-null     float64\n",
      " 1   height  56 non-null     float64\n",
      " 2   width   56 non-null     float64\n",
      "dtypes: float64(3)\n",
      "memory usage: 1.4 KB\n"
     ]
    },
    {
     "data": {
      "text/html": [
       "<div>\n",
       "<style scoped>\n",
       "    .dataframe tbody tr th:only-of-type {\n",
       "        vertical-align: middle;\n",
       "    }\n",
       "\n",
       "    .dataframe tbody tr th {\n",
       "        vertical-align: top;\n",
       "    }\n",
       "\n",
       "    .dataframe thead th {\n",
       "        text-align: right;\n",
       "    }\n",
       "</style>\n",
       "<table border=\"1\" class=\"dataframe\">\n",
       "  <thead>\n",
       "    <tr style=\"text-align: right;\">\n",
       "      <th></th>\n",
       "      <th>length</th>\n",
       "      <th>height</th>\n",
       "      <th>width</th>\n",
       "    </tr>\n",
       "  </thead>\n",
       "  <tbody>\n",
       "    <tr>\n",
       "      <th>count</th>\n",
       "      <td>56.000000</td>\n",
       "      <td>56.000000</td>\n",
       "      <td>56.000000</td>\n",
       "    </tr>\n",
       "    <tr>\n",
       "      <th>mean</th>\n",
       "      <td>27.892857</td>\n",
       "      <td>7.862143</td>\n",
       "      <td>4.745536</td>\n",
       "    </tr>\n",
       "    <tr>\n",
       "      <th>std</th>\n",
       "      <td>9.021668</td>\n",
       "      <td>2.878343</td>\n",
       "      <td>1.775006</td>\n",
       "    </tr>\n",
       "    <tr>\n",
       "      <th>min</th>\n",
       "      <td>8.400000</td>\n",
       "      <td>2.110000</td>\n",
       "      <td>1.410000</td>\n",
       "    </tr>\n",
       "    <tr>\n",
       "      <th>25%</th>\n",
       "      <td>21.825000</td>\n",
       "      <td>5.690000</td>\n",
       "      <td>3.520000</td>\n",
       "    </tr>\n",
       "    <tr>\n",
       "      <th>50%</th>\n",
       "      <td>25.300000</td>\n",
       "      <td>6.920000</td>\n",
       "      <td>4.155000</td>\n",
       "    </tr>\n",
       "    <tr>\n",
       "      <th>75%</th>\n",
       "      <td>36.625000</td>\n",
       "      <td>10.850000</td>\n",
       "      <td>6.450000</td>\n",
       "    </tr>\n",
       "    <tr>\n",
       "      <th>max</th>\n",
       "      <td>44.000000</td>\n",
       "      <td>12.800000</td>\n",
       "      <td>8.140000</td>\n",
       "    </tr>\n",
       "  </tbody>\n",
       "</table>\n",
       "</div>"
      ],
      "text/plain": [
       "          length     height      width\n",
       "count  56.000000  56.000000  56.000000\n",
       "mean   27.892857   7.862143   4.745536\n",
       "std     9.021668   2.878343   1.775006\n",
       "min     8.400000   2.110000   1.410000\n",
       "25%    21.825000   5.690000   3.520000\n",
       "50%    25.300000   6.920000   4.155000\n",
       "75%    36.625000  10.850000   6.450000\n",
       "max    44.000000  12.800000   8.140000"
      ]
     },
     "execution_count": 2,
     "metadata": {},
     "output_type": "execute_result"
    }
   ],
   "source": [
    "### 01_농어의_길이_높이_두께_데이터.csv파일 읽어 들이기 \n",
    "# - 데이터프레임 변수 이름 : df\n",
    "\n",
    "df = pd.read_csv('./data/01_농어의_길이_높이_두께_데이터.csv')\n",
    "\n",
    "### 간단히 결측치 확인\n",
    "df.info()\n",
    "\n",
    "### 간단히 이상치 확인 : 기초통계 함수\n",
    " \n",
    "df.describe()"
   ]
  },
  {
   "cell_type": "markdown",
   "id": "8facc597-2c8b-4128-8416-962849dae660",
   "metadata": {},
   "source": [
    "### 분석 주제 : 농어의 길이, 두께, 너비를 이용하여 -> 무게 예측하기\n",
    "\n",
    "- 독립 변수 : 길이, 두께, 너비\n",
    "\n",
    "- 종속 변수 : 무게"
   ]
  },
  {
   "cell_type": "code",
   "execution_count": 3,
   "id": "6ad359b9-3ec9-4e28-bc9a-272d17ad5f2c",
   "metadata": {},
   "outputs": [
    {
     "data": {
      "text/plain": [
       "(56, 3)"
      ]
     },
     "execution_count": 3,
     "metadata": {},
     "output_type": "execute_result"
    }
   ],
   "source": [
    "### 독립변수 만들기\n",
    "### 데이터 프레임 타입의 독립변수를 2차원의 numpy array로 변환하기\n",
    "# - 왜 바꿔야 하는가 ? : 모델 훈련 시 2차원 배열 또는 리스트를 사용하기 때문에\n",
    "\n",
    "perch_full = df.to_numpy()\n",
    "perch_full.shape"
   ]
  },
  {
   "cell_type": "code",
   "execution_count": 4,
   "id": "9e8012bf-a3b4-4edb-b286-57308767c3d2",
   "metadata": {},
   "outputs": [
    {
     "data": {
      "text/plain": [
       "(56,)"
      ]
     },
     "execution_count": 4,
     "metadata": {},
     "output_type": "execute_result"
    }
   ],
   "source": [
    "### 종속변수 만들기\n",
    "# 농어 무게\n",
    "perch_weight = np.array(\n",
    "    [5.9, 32.0, 40.0, 51.5, 70.0, 100.0, 78.0, 80.0, 85.0, 85.0, \n",
    "     110.0, 115.0, 125.0, 130.0, 120.0, 120.0, 130.0, 135.0, 110.0, \n",
    "     130.0, 150.0, 145.0, 150.0, 170.0, 225.0, 145.0, 188.0, 180.0, \n",
    "     197.0, 218.0, 300.0, 260.0, 265.0, 250.0, 250.0, 300.0, 320.0, \n",
    "     514.0, 556.0, 840.0, 685.0, 700.0, 700.0, 690.0, 900.0, 650.0, \n",
    "     820.0, 850.0, 900.0, 1015.0, 820.0, 1100.0, 1000.0, 1100.0, \n",
    "     1000.0, 1000.0]\n",
    "     )\n",
    "perch_weight.shape"
   ]
  },
  {
   "cell_type": "code",
   "execution_count": 5,
   "id": "992ce209-5f32-45ac-8609-848110bfc41c",
   "metadata": {},
   "outputs": [
    {
     "name": "stdout",
     "output_type": "stream",
     "text": [
      "(39, 3) (39,)\n",
      "(17, 3) (17,)\n"
     ]
    }
   ],
   "source": [
    "### 훈련:테스트 = 7:3으로 분류하기\n",
    "# - 사용변수 : train_input, test_input, train_target, test_target\n",
    "train_input, test_input, train_target, test_target = train_test_split(perch_full, perch_weight, test_size=0.3,random_state=42)\n",
    "\n",
    "print(train_input.shape, train_target.shape)\n",
    "print(test_input.shape,test_target.shape)"
   ]
  },
  {
   "cell_type": "code",
   "execution_count": 6,
   "id": "863d0836-a0aa-4761-929e-5940ffe26284",
   "metadata": {},
   "outputs": [
    {
     "name": "stdout",
     "output_type": "stream",
     "text": [
      "0.9537065271284176 0.8863420836347778\n"
     ]
    }
   ],
   "source": [
    "### 훈련 모델 생성\n",
    "lr = LinearRegression()\n",
    "\n",
    "### 훈련시키기\n",
    "lr.fit(train_input, train_target)\n",
    "\n",
    "### 훈련 및 테스트 정확도 확인하기\n",
    "train_score = lr.score(train_input, train_target)\n",
    "test_score = lr.score(test_input, test_target)\n",
    "print(train_score, test_score)"
   ]
  },
  {
   "cell_type": "markdown",
   "id": "a63bd5f9-565b-489d-bdff-cdc991a1696f",
   "metadata": {},
   "source": [
    "#### 해석\n",
    "\n",
    "- 농어의 길이, 두께, 너비 특성을 활용하여 농어의 무게를 예측하는 다항회귀모델을 만들었다.\n",
    "\n",
    "- 훈련 정확도가 0.95로 괜찮은 성능을 보이고 있고, 훈련 정확도가 테스트 정확도보다 크고 0.1보다 작은 차이를 보이기 때문에 과대적합이라고 보기 어렵다.\n",
    "\n",
    "- 과대적합이 일어나지 않았기 때문에 일반화된 모델이라고 판단된다."
   ]
  },
  {
   "cell_type": "code",
   "execution_count": 7,
   "id": "00ceed36-57a0-4539-9055-99bfdb97b16b",
   "metadata": {},
   "outputs": [
    {
     "name": "stdout",
     "output_type": "stream",
     "text": [
      "[-328.54944233   48.99648009  328.530777    168.01071374  147.28466932\n",
      "  790.89418753  383.33837613  247.89949679  814.06695812  123.2000108\n",
      "  981.8543067   -37.63667416  356.2229673   419.56345249   48.15564696\n",
      "  140.06819759   46.70641917]\n"
     ]
    }
   ],
   "source": [
    "### 테스트 데이터로 예측하기\n",
    "pred = lr.predict(test_input)\n",
    "print(pred)"
   ]
  },
  {
   "cell_type": "code",
   "execution_count": 8,
   "id": "27f5cef7-b361-463d-87d6-cebe1e9072f7",
   "metadata": {},
   "outputs": [
    {
     "data": {
      "text/plain": [
       "68.56651514640546"
      ]
     },
     "execution_count": 8,
     "metadata": {},
     "output_type": "execute_result"
    }
   ],
   "source": [
    "### 평균절대오차(MAE) 확인하기\n",
    "mae = mean_absolute_error(test_target, pred)\n",
    "mae"
   ]
  },
  {
   "cell_type": "markdown",
   "id": "418de419-9607-4b9c-8374-a9831e6379e4",
   "metadata": {},
   "source": [
    "#### 해석\n",
    "\n",
    "- 해당 모델로 예측했을 때 기본적으로 +- 68.57 정도의 오차가 발생할 수 있는 모델로 판단"
   ]
  },
  {
   "cell_type": "markdown",
   "id": "ce838579-496d-441f-9cee-e80ae8d4531e",
   "metadata": {},
   "source": [
    "#####  좋은 모델임에도 불구하고, 성능향상을 더 할 수 있는 방법을 적용해본다.\n",
    "\n",
    "- 특성공학을 적용하여 특성을 증가시킨다(특성, 즉 컬럼을 추가한다).\n",
    "\n",
    "- 집중력(복잡도)를 강하게 하는 방법임."
   ]
  },
  {
   "cell_type": "markdown",
   "id": "5d5fc6e8-84b0-4aab-aaff-5da1eb979009",
   "metadata": {},
   "source": [
    "### <특성을 생성하는 라이브러리>\n",
    "\n",
    "- 사용 패키지 : sklearn.preprocessing\n",
    "\n",
    "- 사용모델(클래스) : 특성을 생성하는 모델(훈련 모델은 아님), PolynomialFeatures() -> \"변환기\"라고 칭함\n",
    "\n",
    "- 사용함수 : fit() -> 훈련 독립변수를 이용하여 특성의 패턴을 찾는다. / transform() -> 찾은 특성의 패턴을 이용하여 특성을 생성한다.\n",
    "\n",
    "- 종속변수는 절대 사용하거나 변경하면 안 된다. 독립변수만 사용된다."
   ]
  },
  {
   "cell_type": "code",
   "execution_count": 9,
   "id": "443d4b79-a427-4c39-b197-23e5a02eec49",
   "metadata": {},
   "outputs": [],
   "source": [
    "### 클래스 생성하기\n",
    "# include_bias : 해당 클래스가 특성을 추가 시킬 때 y절편값도 생성을 하기 때문에 우리는 특성만 필요하다. \n",
    "# 따라서 y절편은 제외한다라는 의미로 include_bias =False로 설정 (y절편 생성 여부 설정 속성)\n",
    "from sklearn.preprocessing import PolynomialFeatures\n",
    "poly = PolynomialFeatures(include_bias=False)"
   ]
  },
  {
   "cell_type": "code",
   "execution_count": 10,
   "id": "ac0437bf-65dc-4bd8-8bf7-f771d08a4918",
   "metadata": {},
   "outputs": [
    {
     "data": {
      "text/plain": [
       "array([[ 2.,  3.,  4.,  4.,  6.,  8.,  9., 12., 16.]])"
      ]
     },
     "execution_count": 10,
     "metadata": {},
     "output_type": "execute_result"
    }
   ],
   "source": [
    "### 예제 데이터로 작동방식 확인하기\n",
    "temp_data = [[2,3,4]]\n",
    "\n",
    "### 독립변수의 특성들을 이용해서 패턴 찾기\n",
    "poly.fit(temp_data)\n",
    "\n",
    "### 찾은 패턴으로 특성 추가시키기\n",
    "poly.transform(temp_data)"
   ]
  },
  {
   "cell_type": "markdown",
   "id": "95a638c0-78ab-4ba3-bb95-88a642c965d0",
   "metadata": {},
   "source": [
    "#### 특성 패턴\n",
    "\n",
    "1. 사용된 독립변수에 처음에 그대로 제시됨(3개 특성 제시)\n",
    "\n",
    "2. 첫번째 값을 제곱한 값\n",
    "\n",
    "3. 첫번째 값과 두번째 값 곱한 값\n",
    "\n",
    "4. 첫번째 값과 세번쨰 값 곱한 값\n",
    "\n",
    "5. 두번째 값을 제곱한 값\n",
    "\n",
    "6. 두번째 값과 세번째 값 곱한 값\n",
    "\n",
    "7. 세번째 값을 제곱한 값"
   ]
  },
  {
   "cell_type": "code",
   "execution_count": 11,
   "id": "897560d1-5203-4767-8bf6-bbb17fbbc000",
   "metadata": {},
   "outputs": [
    {
     "data": {
      "text/plain": [
       "array([[ 2.,  3.,  4.,  4.,  6.,  8.,  9., 12., 16.,  8., 12., 16., 18.,\n",
       "        24., 32., 27., 36., 48., 64.]])"
      ]
     },
     "execution_count": 11,
     "metadata": {},
     "output_type": "execute_result"
    }
   ],
   "source": [
    "### 차원(degree)을 이용하여 패턴 만들어서 특성 추가하기 -> degree는 4이상 사용하지 않음 / default = 2\n",
    "poly = PolynomialFeatures(degree=3, include_bias=False)\n",
    "poly.fit_transform(temp_data)"
   ]
  },
  {
   "cell_type": "code",
   "execution_count": 12,
   "id": "d5b57db8-de80-4259-bc7d-0b913ac7abb8",
   "metadata": {},
   "outputs": [
    {
     "data": {
      "text/plain": [
       "array(['x0', 'x1', 'x2', 'x0^2', 'x0 x1', 'x0 x2', 'x1^2', 'x1 x2',\n",
       "       'x2^2', 'x0^3', 'x0^2 x1', 'x0^2 x2', 'x0 x1^2', 'x0 x1 x2',\n",
       "       'x0 x2^2', 'x1^3', 'x1^2 x2', 'x1 x2^2', 'x2^3'], dtype=object)"
      ]
     },
     "execution_count": 12,
     "metadata": {},
     "output_type": "execute_result"
    }
   ],
   "source": [
    "### 패턴 확인하는 함수 이용하기\n",
    "poly.get_feature_names_out()"
   ]
  },
  {
   "cell_type": "code",
   "execution_count": 13,
   "id": "cc9ac0bf-c088-43ad-a24d-c3854b00f05c",
   "metadata": {},
   "outputs": [
    {
     "data": {
      "text/html": [
       "<style>#sk-container-id-1 {color: black;}#sk-container-id-1 pre{padding: 0;}#sk-container-id-1 div.sk-toggleable {background-color: white;}#sk-container-id-1 label.sk-toggleable__label {cursor: pointer;display: block;width: 100%;margin-bottom: 0;padding: 0.3em;box-sizing: border-box;text-align: center;}#sk-container-id-1 label.sk-toggleable__label-arrow:before {content: \"▸\";float: left;margin-right: 0.25em;color: #696969;}#sk-container-id-1 label.sk-toggleable__label-arrow:hover:before {color: black;}#sk-container-id-1 div.sk-estimator:hover label.sk-toggleable__label-arrow:before {color: black;}#sk-container-id-1 div.sk-toggleable__content {max-height: 0;max-width: 0;overflow: hidden;text-align: left;background-color: #f0f8ff;}#sk-container-id-1 div.sk-toggleable__content pre {margin: 0.2em;color: black;border-radius: 0.25em;background-color: #f0f8ff;}#sk-container-id-1 input.sk-toggleable__control:checked~div.sk-toggleable__content {max-height: 200px;max-width: 100%;overflow: auto;}#sk-container-id-1 input.sk-toggleable__control:checked~label.sk-toggleable__label-arrow:before {content: \"▾\";}#sk-container-id-1 div.sk-estimator input.sk-toggleable__control:checked~label.sk-toggleable__label {background-color: #d4ebff;}#sk-container-id-1 div.sk-label input.sk-toggleable__control:checked~label.sk-toggleable__label {background-color: #d4ebff;}#sk-container-id-1 input.sk-hidden--visually {border: 0;clip: rect(1px 1px 1px 1px);clip: rect(1px, 1px, 1px, 1px);height: 1px;margin: -1px;overflow: hidden;padding: 0;position: absolute;width: 1px;}#sk-container-id-1 div.sk-estimator {font-family: monospace;background-color: #f0f8ff;border: 1px dotted black;border-radius: 0.25em;box-sizing: border-box;margin-bottom: 0.5em;}#sk-container-id-1 div.sk-estimator:hover {background-color: #d4ebff;}#sk-container-id-1 div.sk-parallel-item::after {content: \"\";width: 100%;border-bottom: 1px solid gray;flex-grow: 1;}#sk-container-id-1 div.sk-label:hover label.sk-toggleable__label {background-color: #d4ebff;}#sk-container-id-1 div.sk-serial::before {content: \"\";position: absolute;border-left: 1px solid gray;box-sizing: border-box;top: 0;bottom: 0;left: 50%;z-index: 0;}#sk-container-id-1 div.sk-serial {display: flex;flex-direction: column;align-items: center;background-color: white;padding-right: 0.2em;padding-left: 0.2em;position: relative;}#sk-container-id-1 div.sk-item {position: relative;z-index: 1;}#sk-container-id-1 div.sk-parallel {display: flex;align-items: stretch;justify-content: center;background-color: white;position: relative;}#sk-container-id-1 div.sk-item::before, #sk-container-id-1 div.sk-parallel-item::before {content: \"\";position: absolute;border-left: 1px solid gray;box-sizing: border-box;top: 0;bottom: 0;left: 50%;z-index: -1;}#sk-container-id-1 div.sk-parallel-item {display: flex;flex-direction: column;z-index: 1;position: relative;background-color: white;}#sk-container-id-1 div.sk-parallel-item:first-child::after {align-self: flex-end;width: 50%;}#sk-container-id-1 div.sk-parallel-item:last-child::after {align-self: flex-start;width: 50%;}#sk-container-id-1 div.sk-parallel-item:only-child::after {width: 0;}#sk-container-id-1 div.sk-dashed-wrapped {border: 1px dashed gray;margin: 0 0.4em 0.5em 0.4em;box-sizing: border-box;padding-bottom: 0.4em;background-color: white;}#sk-container-id-1 div.sk-label label {font-family: monospace;font-weight: bold;display: inline-block;line-height: 1.2em;}#sk-container-id-1 div.sk-label-container {text-align: center;}#sk-container-id-1 div.sk-container {/* jupyter's `normalize.less` sets `[hidden] { display: none; }` but bootstrap.min.css set `[hidden] { display: none !important; }` so we also need the `!important` here to be able to override the default hidden behavior on the sphinx rendered scikit-learn.org. See: https://github.com/scikit-learn/scikit-learn/issues/21755 */display: inline-block !important;position: relative;}#sk-container-id-1 div.sk-text-repr-fallback {display: none;}</style><div id=\"sk-container-id-1\" class=\"sk-top-container\"><div class=\"sk-text-repr-fallback\"><pre>PolynomialFeatures(include_bias=False)</pre><b>In a Jupyter environment, please rerun this cell to show the HTML representation or trust the notebook. <br />On GitHub, the HTML representation is unable to render, please try loading this page with nbviewer.org.</b></div><div class=\"sk-container\" hidden><div class=\"sk-item\"><div class=\"sk-estimator sk-toggleable\"><input class=\"sk-toggleable__control sk-hidden--visually\" id=\"sk-estimator-id-1\" type=\"checkbox\" checked><label for=\"sk-estimator-id-1\" class=\"sk-toggleable__label sk-toggleable__label-arrow\">PolynomialFeatures</label><div class=\"sk-toggleable__content\"><pre>PolynomialFeatures(include_bias=False)</pre></div></div></div></div></div>"
      ],
      "text/plain": [
       "PolynomialFeatures(include_bias=False)"
      ]
     },
     "execution_count": 13,
     "metadata": {},
     "output_type": "execute_result"
    }
   ],
   "source": [
    "### --------------------------------------------------\n",
    "### 실제 독립변수를 이용해서 특성 생성하기\n",
    "### 기존 특성의 패턴을 찾아서 새로운 특성을 만들어내는 클래스(변환기라는 이름을 붙임)\n",
    "\n",
    "poly = PolynomialFeatures(degree=2, include_bias=False)\n",
    "poly"
   ]
  },
  {
   "cell_type": "code",
   "execution_count": 14,
   "id": "b245020c-e06c-40d3-b626-bee322d2de1b",
   "metadata": {},
   "outputs": [
    {
     "data": {
      "text/html": [
       "<style>#sk-container-id-2 {color: black;}#sk-container-id-2 pre{padding: 0;}#sk-container-id-2 div.sk-toggleable {background-color: white;}#sk-container-id-2 label.sk-toggleable__label {cursor: pointer;display: block;width: 100%;margin-bottom: 0;padding: 0.3em;box-sizing: border-box;text-align: center;}#sk-container-id-2 label.sk-toggleable__label-arrow:before {content: \"▸\";float: left;margin-right: 0.25em;color: #696969;}#sk-container-id-2 label.sk-toggleable__label-arrow:hover:before {color: black;}#sk-container-id-2 div.sk-estimator:hover label.sk-toggleable__label-arrow:before {color: black;}#sk-container-id-2 div.sk-toggleable__content {max-height: 0;max-width: 0;overflow: hidden;text-align: left;background-color: #f0f8ff;}#sk-container-id-2 div.sk-toggleable__content pre {margin: 0.2em;color: black;border-radius: 0.25em;background-color: #f0f8ff;}#sk-container-id-2 input.sk-toggleable__control:checked~div.sk-toggleable__content {max-height: 200px;max-width: 100%;overflow: auto;}#sk-container-id-2 input.sk-toggleable__control:checked~label.sk-toggleable__label-arrow:before {content: \"▾\";}#sk-container-id-2 div.sk-estimator input.sk-toggleable__control:checked~label.sk-toggleable__label {background-color: #d4ebff;}#sk-container-id-2 div.sk-label input.sk-toggleable__control:checked~label.sk-toggleable__label {background-color: #d4ebff;}#sk-container-id-2 input.sk-hidden--visually {border: 0;clip: rect(1px 1px 1px 1px);clip: rect(1px, 1px, 1px, 1px);height: 1px;margin: -1px;overflow: hidden;padding: 0;position: absolute;width: 1px;}#sk-container-id-2 div.sk-estimator {font-family: monospace;background-color: #f0f8ff;border: 1px dotted black;border-radius: 0.25em;box-sizing: border-box;margin-bottom: 0.5em;}#sk-container-id-2 div.sk-estimator:hover {background-color: #d4ebff;}#sk-container-id-2 div.sk-parallel-item::after {content: \"\";width: 100%;border-bottom: 1px solid gray;flex-grow: 1;}#sk-container-id-2 div.sk-label:hover label.sk-toggleable__label {background-color: #d4ebff;}#sk-container-id-2 div.sk-serial::before {content: \"\";position: absolute;border-left: 1px solid gray;box-sizing: border-box;top: 0;bottom: 0;left: 50%;z-index: 0;}#sk-container-id-2 div.sk-serial {display: flex;flex-direction: column;align-items: center;background-color: white;padding-right: 0.2em;padding-left: 0.2em;position: relative;}#sk-container-id-2 div.sk-item {position: relative;z-index: 1;}#sk-container-id-2 div.sk-parallel {display: flex;align-items: stretch;justify-content: center;background-color: white;position: relative;}#sk-container-id-2 div.sk-item::before, #sk-container-id-2 div.sk-parallel-item::before {content: \"\";position: absolute;border-left: 1px solid gray;box-sizing: border-box;top: 0;bottom: 0;left: 50%;z-index: -1;}#sk-container-id-2 div.sk-parallel-item {display: flex;flex-direction: column;z-index: 1;position: relative;background-color: white;}#sk-container-id-2 div.sk-parallel-item:first-child::after {align-self: flex-end;width: 50%;}#sk-container-id-2 div.sk-parallel-item:last-child::after {align-self: flex-start;width: 50%;}#sk-container-id-2 div.sk-parallel-item:only-child::after {width: 0;}#sk-container-id-2 div.sk-dashed-wrapped {border: 1px dashed gray;margin: 0 0.4em 0.5em 0.4em;box-sizing: border-box;padding-bottom: 0.4em;background-color: white;}#sk-container-id-2 div.sk-label label {font-family: monospace;font-weight: bold;display: inline-block;line-height: 1.2em;}#sk-container-id-2 div.sk-label-container {text-align: center;}#sk-container-id-2 div.sk-container {/* jupyter's `normalize.less` sets `[hidden] { display: none; }` but bootstrap.min.css set `[hidden] { display: none !important; }` so we also need the `!important` here to be able to override the default hidden behavior on the sphinx rendered scikit-learn.org. See: https://github.com/scikit-learn/scikit-learn/issues/21755 */display: inline-block !important;position: relative;}#sk-container-id-2 div.sk-text-repr-fallback {display: none;}</style><div id=\"sk-container-id-2\" class=\"sk-top-container\"><div class=\"sk-text-repr-fallback\"><pre>PolynomialFeatures(include_bias=False)</pre><b>In a Jupyter environment, please rerun this cell to show the HTML representation or trust the notebook. <br />On GitHub, the HTML representation is unable to render, please try loading this page with nbviewer.org.</b></div><div class=\"sk-container\" hidden><div class=\"sk-item\"><div class=\"sk-estimator sk-toggleable\"><input class=\"sk-toggleable__control sk-hidden--visually\" id=\"sk-estimator-id-2\" type=\"checkbox\" checked><label for=\"sk-estimator-id-2\" class=\"sk-toggleable__label sk-toggleable__label-arrow\">PolynomialFeatures</label><div class=\"sk-toggleable__content\"><pre>PolynomialFeatures(include_bias=False)</pre></div></div></div></div></div>"
      ],
      "text/plain": [
       "PolynomialFeatures(include_bias=False)"
      ]
     },
     "execution_count": 14,
     "metadata": {},
     "output_type": "execute_result"
    }
   ],
   "source": [
    "### 패턴 찾기\n",
    "# - 패턴을 찾을 때는 항상 훈련 독립 변수만 사용한다.\n",
    "# - 테스트 데이터는 사용하지 않는다.\n",
    "\n",
    "poly.fit(train_input)"
   ]
  },
  {
   "cell_type": "code",
   "execution_count": 15,
   "id": "d1e87782-e859-4cfb-acb3-c640f638c920",
   "metadata": {},
   "outputs": [
    {
     "data": {
      "text/plain": [
       "((39, 9), (17, 9))"
      ]
     },
     "execution_count": 15,
     "metadata": {},
     "output_type": "execute_result"
    }
   ],
   "source": [
    "### 새로운 특성 생성하기\n",
    "### - 특성을 생성할 때는 훈련 및 테스트 독립변수 모두 적용한다.\n",
    "\n",
    "# 훈련 독립변수에 특성 생성하기\n",
    "train_poly = poly.transform(train_input)\n",
    "\n",
    "# 테스트 독립변수에 특성 생성하기\n",
    "test_poly = poly.transform(test_input)\n",
    "\n",
    "train_poly.shape, test_poly.shape"
   ]
  },
  {
   "cell_type": "code",
   "execution_count": 16,
   "id": "488cfaa8-7687-4554-ba0d-c714ecd1b0f1",
   "metadata": {},
   "outputs": [
    {
     "data": {
      "text/plain": [
       "array([[8.400000e+00, 2.110000e+00, 1.410000e+00, 7.056000e+01,\n",
       "        1.772400e+01, 1.184400e+01, 4.452100e+00, 2.975100e+00,\n",
       "        1.988100e+00],\n",
       "       [1.800000e+01, 5.220000e+00, 3.320000e+00, 3.240000e+02,\n",
       "        9.396000e+01, 5.976000e+01, 2.724840e+01, 1.733040e+01,\n",
       "        1.102240e+01],\n",
       "       [2.750000e+01, 7.280000e+00, 4.570000e+00, 7.562500e+02,\n",
       "        2.002000e+02, 1.256750e+02, 5.299840e+01, 3.326960e+01,\n",
       "        2.088490e+01],\n",
       "       [2.130000e+01, 6.380000e+00, 3.530000e+00, 4.536900e+02,\n",
       "        1.358940e+02, 7.518900e+01, 4.070440e+01, 2.252140e+01,\n",
       "        1.246090e+01],\n",
       "       [2.250000e+01, 5.860000e+00, 3.620000e+00, 5.062500e+02,\n",
       "        1.318500e+02, 8.145000e+01, 3.433960e+01, 2.121320e+01,\n",
       "        1.310440e+01],\n",
       "       [4.000000e+01, 1.114000e+01, 6.630000e+00, 1.600000e+03,\n",
       "        4.456000e+02, 2.652000e+02, 1.240996e+02, 7.385820e+01,\n",
       "        4.395690e+01],\n",
       "       [3.000000e+01, 7.620000e+00, 4.770000e+00, 9.000000e+02,\n",
       "        2.286000e+02, 1.431000e+02, 5.806440e+01, 3.634740e+01,\n",
       "        2.275290e+01],\n",
       "       [2.460000e+01, 6.730000e+00, 4.170000e+00, 6.051600e+02,\n",
       "        1.655580e+02, 1.025820e+02, 4.529290e+01, 2.806410e+01,\n",
       "        1.738890e+01],\n",
       "       [3.900000e+01, 1.114000e+01, 7.490000e+00, 1.521000e+03,\n",
       "        4.344600e+02, 2.921100e+02, 1.240996e+02, 8.343860e+01,\n",
       "        5.610010e+01],\n",
       "       [2.100000e+01, 5.690000e+00, 3.670000e+00, 4.410000e+02,\n",
       "        1.194900e+02, 7.707000e+01, 3.237610e+01, 2.088230e+01,\n",
       "        1.346890e+01],\n",
       "       [4.350000e+01, 1.260000e+01, 8.140000e+00, 1.892250e+03,\n",
       "        5.481000e+02, 3.540900e+02, 1.587600e+02, 1.025640e+02,\n",
       "        6.625960e+01],\n",
       "       [1.620000e+01, 4.590000e+00, 2.630000e+00, 2.624400e+02,\n",
       "        7.435800e+01, 4.260600e+01, 2.106810e+01, 1.207170e+01,\n",
       "        6.916900e+00],\n",
       "       [2.800000e+01, 7.820000e+00, 4.200000e+00, 7.840000e+02,\n",
       "        2.189600e+02, 1.176000e+02, 6.115240e+01, 3.284400e+01,\n",
       "        1.764000e+01],\n",
       "       [2.730000e+01, 8.320000e+00, 5.140000e+00, 7.452900e+02,\n",
       "        2.271360e+02, 1.403220e+02, 6.922240e+01, 4.276480e+01,\n",
       "        2.641960e+01],\n",
       "       [1.960000e+01, 5.140000e+00, 3.040000e+00, 3.841600e+02,\n",
       "        1.007440e+02, 5.958400e+01, 2.641960e+01, 1.562560e+01,\n",
       "        9.241600e+00],\n",
       "       [2.200000e+01, 5.880000e+00, 3.520000e+00, 4.840000e+02,\n",
       "        1.293600e+02, 7.744000e+01, 3.457440e+01, 2.069760e+01,\n",
       "        1.239040e+01],\n",
       "       [1.870000e+01, 5.200000e+00, 3.120000e+00, 3.496900e+02,\n",
       "        9.724000e+01, 5.834400e+01, 2.704000e+01, 1.622400e+01,\n",
       "        9.734400e+00]])"
      ]
     },
     "execution_count": 16,
     "metadata": {},
     "output_type": "execute_result"
    }
   ],
   "source": [
    "train_poly\n",
    "test_poly"
   ]
  },
  {
   "cell_type": "code",
   "execution_count": 17,
   "id": "6aec2415-1921-42cb-8f14-e778de4f0a03",
   "metadata": {},
   "outputs": [
    {
     "data": {
      "text/plain": [
       "array(['x0', 'x1', 'x2', 'x0^2', 'x0 x1', 'x0 x2', 'x1^2', 'x1 x2',\n",
       "       'x2^2'], dtype=object)"
      ]
     },
     "execution_count": 17,
     "metadata": {},
     "output_type": "execute_result"
    }
   ],
   "source": [
    "### 특성 생성에 사용된 패턴 확인하기\n",
    "poly.get_feature_names_out()"
   ]
  },
  {
   "cell_type": "code",
   "execution_count": 18,
   "id": "e03b53a7-9e3a-48ff-8297-79d1d97f57ac",
   "metadata": {},
   "outputs": [
    {
     "name": "stdout",
     "output_type": "stream",
     "text": [
      "0.9898271546307026 0.9713771600629739\n",
      "0.018449994567728667\n"
     ]
    }
   ],
   "source": [
    "### 모델 생성하기\n",
    "lr = LinearRegression()\n",
    "\n",
    "### 모델 훈련시키기\n",
    "lr.fit(train_poly, train_target)\n",
    "\n",
    "### 훈련 및 테스트 정확도 확인하기\n",
    "train_score = lr.score(train_poly,train_target)\n",
    "test_score = lr.score(test_poly,test_target)\n",
    "\n",
    "print(train_score, test_score)\n",
    "print(train_score - test_score)"
   ]
  },
  {
   "cell_type": "markdown",
   "id": "62a35ff2-320c-47f3-9e40-9a275ea21c3d",
   "metadata": {},
   "source": [
    "#### 해석 팁\n",
    "\n",
    "- 과소/과대 적합이 있다면, -> 모델 튜닝 -> 모델 훈련 -> 정확도 확인을 반복하면서  가장 일반화된 모델이 되는 시점을 찾아야 함\n",
    "\n",
    "\n",
    "- 일반화된 모델을 찾은 후 아래 예측으로 넘어간다."
   ]
  },
  {
   "cell_type": "markdown",
   "id": "45223da4-234d-4ca0-b6cd-fc4783558c95",
   "metadata": {},
   "source": [
    "#### 해석\n",
    "\n",
    "- 훈련 정확도와 테스트 정확도가 약 0.02정도 차이가 나면서 훈련 정확도가 테스트 정확도보다 크기 때문에 과소/과대 적합이 일어났다고 볼 수 없다.\n",
    "\n",
    "- 훈련 정확도 0.989로 매우 훌륭한 성능을 지닌 모델로 판단된다.\n",
    "\n",
    "- 그렇기 때문에 이 모델은 일반화된 모델로 예측이 가능하다.\n"
   ]
  },
  {
   "cell_type": "code",
   "execution_count": 19,
   "id": "43c0a227-091c-4646-b9b2-51fcd4f1369a",
   "metadata": {},
   "outputs": [
    {
     "data": {
      "text/plain": [
       "array([  22.92877835,   31.10777487,  250.98436388,  111.59208216,\n",
       "        128.85787135,  779.24558158,  304.72417951,  176.31471164,\n",
       "        916.8961555 ,   98.7200446 , 1180.23592257,   34.86148711,\n",
       "        288.45880297,  272.52503942,   85.71366627,  120.24574045,\n",
       "         59.93605383])"
      ]
     },
     "execution_count": 19,
     "metadata": {},
     "output_type": "execute_result"
    }
   ],
   "source": [
    "### 테스트 데이터로 예측하기\n",
    "pred = lr.predict(test_poly)\n",
    "pred"
   ]
  },
  {
   "cell_type": "code",
   "execution_count": 20,
   "id": "75077718-0185-4fda-b5b0-3a4f1c46868f",
   "metadata": {},
   "outputs": [
    {
     "data": {
      "text/plain": [
       "30.216889590337882"
      ]
     },
     "execution_count": 20,
     "metadata": {},
     "output_type": "execute_result"
    }
   ],
   "source": [
    "### 모델 오차 확인하기 (평균절대오차(MAE))\n",
    "mae = mean_absolute_error(test_target,pred)\n",
    "mae"
   ]
  },
  {
   "cell_type": "markdown",
   "id": "a84e2332-12f8-4f8c-98f2-00ac4ba95490",
   "metadata": {},
   "source": [
    "#### 해석\n",
    "\n",
    "- 특성 공학을 적용하지 않았을 때의 다중회귀모델보다, 특성 공학을 적용한 모델이 성능이 향상되었음\n",
    "\n",
    "- 본 모델은 degree 2를 적용한 모델로, 약 30.2 정도의 예측 오차를 발생하는 것으로 보인다."
   ]
  },
  {
   "cell_type": "markdown",
   "id": "44060fc6-6ca1-4e09-aa39-c9df7028795c",
   "metadata": {},
   "source": [
    "### <좀 더 성능을 높일 수 있는 방법을 찾아보자>\n",
    "\n",
    "- 정규화(표준화) 진행해보기\n",
    "\n",
    "- 규제가 적용된 모델로 훈련 시켜보기\n",
    "\n",
    "- 단, 성능을 높이는 방법을 적용하였다고 해서, 성능이 무조건 높아지는 것은 아님 \n",
    "\n",
    "- 오히려 낮아질 수 있음(이런 경우에는 지금까지 수행한 모델 처리 방법 중 가장 좋은 모델을 사용하면 된다) "
   ]
  },
  {
   "cell_type": "markdown",
   "id": "f9dca186-2079-4361-990d-166d1b6f0f8c",
   "metadata": {},
   "source": [
    "#### <규제>\n",
    "\n",
    "- 훈련 시에 좀 더 복잡도를 추가하여 집중력을 강화시키는 방법으로, 모델이 훈련할 때 복잡도를 증가/감소함으로써 과대/과소 적합을 조정하는 방식이다.\n",
    "\n",
    "- 과대 또는 과소 적합이 발생하였을 때 주로 사용되는 방식이다.\n",
    "\n",
    "- 훈련의 정확도가 다소 낮아지는 경향이 있으나, 검증(테스트) 정확도를 높이는 효과가 있다.\n",
    "\n",
    "- 훈련 모델을 일반화하는데 주로 사용되는 방법이다.\n",
    "\n",
    "- 규제 개념을 적용한 향상된 모델 : 릿지(Ridge), 라쏘(Lasso) 모델이 있다."
   ]
  },
  {
   "cell_type": "code",
   "execution_count": 21,
   "id": "6c208d93-8324-4721-94c3-3d3280049f60",
   "metadata": {},
   "outputs": [
    {
     "data": {
      "text/plain": [
       "((39, 9), (17, 9))"
      ]
     },
     "execution_count": 21,
     "metadata": {},
     "output_type": "execute_result"
    }
   ],
   "source": [
    "### 정규화 하기\n",
    "### 현재 사용하는 훈련 및 테스트 독립변수 다시 한번 확인\n",
    "train_poly.shape, test_poly.shape"
   ]
  },
  {
   "cell_type": "code",
   "execution_count": 22,
   "id": "f728425a-aa50-4cbb-af33-9cf03a9ef80c",
   "metadata": {},
   "outputs": [],
   "source": [
    "### 정규화를 위한 라이브러리 불러오기\n",
    "from sklearn.preprocessing import StandardScaler"
   ]
  },
  {
   "cell_type": "markdown",
   "id": "cada4e67-79a8-4b59-9131-3ead52c3b9c4",
   "metadata": {},
   "source": [
    "### <정규화(표준화) 순서>\n",
    "\n",
    "1. 정규화(표준화) 클래스 생성하기\n",
    "2. `fit()` : 정규화 패턴 찾기(훈련 독립 변수만 사용한다)\n",
    "3. `transform()` : 찾은 패턴으로 데이터 변환하기(정규화) / 훈련 및 테스트 독립 변수 모두 변환한다. "
   ]
  },
  {
   "cell_type": "code",
   "execution_count": 23,
   "id": "30aaacac-8c1e-493b-8a9d-4ee695e1f95a",
   "metadata": {},
   "outputs": [
    {
     "data": {
      "text/html": [
       "<style>#sk-container-id-3 {color: black;}#sk-container-id-3 pre{padding: 0;}#sk-container-id-3 div.sk-toggleable {background-color: white;}#sk-container-id-3 label.sk-toggleable__label {cursor: pointer;display: block;width: 100%;margin-bottom: 0;padding: 0.3em;box-sizing: border-box;text-align: center;}#sk-container-id-3 label.sk-toggleable__label-arrow:before {content: \"▸\";float: left;margin-right: 0.25em;color: #696969;}#sk-container-id-3 label.sk-toggleable__label-arrow:hover:before {color: black;}#sk-container-id-3 div.sk-estimator:hover label.sk-toggleable__label-arrow:before {color: black;}#sk-container-id-3 div.sk-toggleable__content {max-height: 0;max-width: 0;overflow: hidden;text-align: left;background-color: #f0f8ff;}#sk-container-id-3 div.sk-toggleable__content pre {margin: 0.2em;color: black;border-radius: 0.25em;background-color: #f0f8ff;}#sk-container-id-3 input.sk-toggleable__control:checked~div.sk-toggleable__content {max-height: 200px;max-width: 100%;overflow: auto;}#sk-container-id-3 input.sk-toggleable__control:checked~label.sk-toggleable__label-arrow:before {content: \"▾\";}#sk-container-id-3 div.sk-estimator input.sk-toggleable__control:checked~label.sk-toggleable__label {background-color: #d4ebff;}#sk-container-id-3 div.sk-label input.sk-toggleable__control:checked~label.sk-toggleable__label {background-color: #d4ebff;}#sk-container-id-3 input.sk-hidden--visually {border: 0;clip: rect(1px 1px 1px 1px);clip: rect(1px, 1px, 1px, 1px);height: 1px;margin: -1px;overflow: hidden;padding: 0;position: absolute;width: 1px;}#sk-container-id-3 div.sk-estimator {font-family: monospace;background-color: #f0f8ff;border: 1px dotted black;border-radius: 0.25em;box-sizing: border-box;margin-bottom: 0.5em;}#sk-container-id-3 div.sk-estimator:hover {background-color: #d4ebff;}#sk-container-id-3 div.sk-parallel-item::after {content: \"\";width: 100%;border-bottom: 1px solid gray;flex-grow: 1;}#sk-container-id-3 div.sk-label:hover label.sk-toggleable__label {background-color: #d4ebff;}#sk-container-id-3 div.sk-serial::before {content: \"\";position: absolute;border-left: 1px solid gray;box-sizing: border-box;top: 0;bottom: 0;left: 50%;z-index: 0;}#sk-container-id-3 div.sk-serial {display: flex;flex-direction: column;align-items: center;background-color: white;padding-right: 0.2em;padding-left: 0.2em;position: relative;}#sk-container-id-3 div.sk-item {position: relative;z-index: 1;}#sk-container-id-3 div.sk-parallel {display: flex;align-items: stretch;justify-content: center;background-color: white;position: relative;}#sk-container-id-3 div.sk-item::before, #sk-container-id-3 div.sk-parallel-item::before {content: \"\";position: absolute;border-left: 1px solid gray;box-sizing: border-box;top: 0;bottom: 0;left: 50%;z-index: -1;}#sk-container-id-3 div.sk-parallel-item {display: flex;flex-direction: column;z-index: 1;position: relative;background-color: white;}#sk-container-id-3 div.sk-parallel-item:first-child::after {align-self: flex-end;width: 50%;}#sk-container-id-3 div.sk-parallel-item:last-child::after {align-self: flex-start;width: 50%;}#sk-container-id-3 div.sk-parallel-item:only-child::after {width: 0;}#sk-container-id-3 div.sk-dashed-wrapped {border: 1px dashed gray;margin: 0 0.4em 0.5em 0.4em;box-sizing: border-box;padding-bottom: 0.4em;background-color: white;}#sk-container-id-3 div.sk-label label {font-family: monospace;font-weight: bold;display: inline-block;line-height: 1.2em;}#sk-container-id-3 div.sk-label-container {text-align: center;}#sk-container-id-3 div.sk-container {/* jupyter's `normalize.less` sets `[hidden] { display: none; }` but bootstrap.min.css set `[hidden] { display: none !important; }` so we also need the `!important` here to be able to override the default hidden behavior on the sphinx rendered scikit-learn.org. See: https://github.com/scikit-learn/scikit-learn/issues/21755 */display: inline-block !important;position: relative;}#sk-container-id-3 div.sk-text-repr-fallback {display: none;}</style><div id=\"sk-container-id-3\" class=\"sk-top-container\"><div class=\"sk-text-repr-fallback\"><pre>StandardScaler()</pre><b>In a Jupyter environment, please rerun this cell to show the HTML representation or trust the notebook. <br />On GitHub, the HTML representation is unable to render, please try loading this page with nbviewer.org.</b></div><div class=\"sk-container\" hidden><div class=\"sk-item\"><div class=\"sk-estimator sk-toggleable\"><input class=\"sk-toggleable__control sk-hidden--visually\" id=\"sk-estimator-id-3\" type=\"checkbox\" checked><label for=\"sk-estimator-id-3\" class=\"sk-toggleable__label sk-toggleable__label-arrow\">StandardScaler</label><div class=\"sk-toggleable__content\"><pre>StandardScaler()</pre></div></div></div></div></div>"
      ],
      "text/plain": [
       "StandardScaler()"
      ]
     },
     "execution_count": 23,
     "metadata": {},
     "output_type": "execute_result"
    }
   ],
   "source": [
    "### 정규화 클래스 생성하기\n",
    "\n",
    "ss = StandardScaler()\n",
    "ss"
   ]
  },
  {
   "cell_type": "code",
   "execution_count": 24,
   "id": "c9985bae-9741-407c-84ee-13810c8e5d1b",
   "metadata": {},
   "outputs": [
    {
     "data": {
      "text/html": [
       "<style>#sk-container-id-4 {color: black;}#sk-container-id-4 pre{padding: 0;}#sk-container-id-4 div.sk-toggleable {background-color: white;}#sk-container-id-4 label.sk-toggleable__label {cursor: pointer;display: block;width: 100%;margin-bottom: 0;padding: 0.3em;box-sizing: border-box;text-align: center;}#sk-container-id-4 label.sk-toggleable__label-arrow:before {content: \"▸\";float: left;margin-right: 0.25em;color: #696969;}#sk-container-id-4 label.sk-toggleable__label-arrow:hover:before {color: black;}#sk-container-id-4 div.sk-estimator:hover label.sk-toggleable__label-arrow:before {color: black;}#sk-container-id-4 div.sk-toggleable__content {max-height: 0;max-width: 0;overflow: hidden;text-align: left;background-color: #f0f8ff;}#sk-container-id-4 div.sk-toggleable__content pre {margin: 0.2em;color: black;border-radius: 0.25em;background-color: #f0f8ff;}#sk-container-id-4 input.sk-toggleable__control:checked~div.sk-toggleable__content {max-height: 200px;max-width: 100%;overflow: auto;}#sk-container-id-4 input.sk-toggleable__control:checked~label.sk-toggleable__label-arrow:before {content: \"▾\";}#sk-container-id-4 div.sk-estimator input.sk-toggleable__control:checked~label.sk-toggleable__label {background-color: #d4ebff;}#sk-container-id-4 div.sk-label input.sk-toggleable__control:checked~label.sk-toggleable__label {background-color: #d4ebff;}#sk-container-id-4 input.sk-hidden--visually {border: 0;clip: rect(1px 1px 1px 1px);clip: rect(1px, 1px, 1px, 1px);height: 1px;margin: -1px;overflow: hidden;padding: 0;position: absolute;width: 1px;}#sk-container-id-4 div.sk-estimator {font-family: monospace;background-color: #f0f8ff;border: 1px dotted black;border-radius: 0.25em;box-sizing: border-box;margin-bottom: 0.5em;}#sk-container-id-4 div.sk-estimator:hover {background-color: #d4ebff;}#sk-container-id-4 div.sk-parallel-item::after {content: \"\";width: 100%;border-bottom: 1px solid gray;flex-grow: 1;}#sk-container-id-4 div.sk-label:hover label.sk-toggleable__label {background-color: #d4ebff;}#sk-container-id-4 div.sk-serial::before {content: \"\";position: absolute;border-left: 1px solid gray;box-sizing: border-box;top: 0;bottom: 0;left: 50%;z-index: 0;}#sk-container-id-4 div.sk-serial {display: flex;flex-direction: column;align-items: center;background-color: white;padding-right: 0.2em;padding-left: 0.2em;position: relative;}#sk-container-id-4 div.sk-item {position: relative;z-index: 1;}#sk-container-id-4 div.sk-parallel {display: flex;align-items: stretch;justify-content: center;background-color: white;position: relative;}#sk-container-id-4 div.sk-item::before, #sk-container-id-4 div.sk-parallel-item::before {content: \"\";position: absolute;border-left: 1px solid gray;box-sizing: border-box;top: 0;bottom: 0;left: 50%;z-index: -1;}#sk-container-id-4 div.sk-parallel-item {display: flex;flex-direction: column;z-index: 1;position: relative;background-color: white;}#sk-container-id-4 div.sk-parallel-item:first-child::after {align-self: flex-end;width: 50%;}#sk-container-id-4 div.sk-parallel-item:last-child::after {align-self: flex-start;width: 50%;}#sk-container-id-4 div.sk-parallel-item:only-child::after {width: 0;}#sk-container-id-4 div.sk-dashed-wrapped {border: 1px dashed gray;margin: 0 0.4em 0.5em 0.4em;box-sizing: border-box;padding-bottom: 0.4em;background-color: white;}#sk-container-id-4 div.sk-label label {font-family: monospace;font-weight: bold;display: inline-block;line-height: 1.2em;}#sk-container-id-4 div.sk-label-container {text-align: center;}#sk-container-id-4 div.sk-container {/* jupyter's `normalize.less` sets `[hidden] { display: none; }` but bootstrap.min.css set `[hidden] { display: none !important; }` so we also need the `!important` here to be able to override the default hidden behavior on the sphinx rendered scikit-learn.org. See: https://github.com/scikit-learn/scikit-learn/issues/21755 */display: inline-block !important;position: relative;}#sk-container-id-4 div.sk-text-repr-fallback {display: none;}</style><div id=\"sk-container-id-4\" class=\"sk-top-container\"><div class=\"sk-text-repr-fallback\"><pre>StandardScaler()</pre><b>In a Jupyter environment, please rerun this cell to show the HTML representation or trust the notebook. <br />On GitHub, the HTML representation is unable to render, please try loading this page with nbviewer.org.</b></div><div class=\"sk-container\" hidden><div class=\"sk-item\"><div class=\"sk-estimator sk-toggleable\"><input class=\"sk-toggleable__control sk-hidden--visually\" id=\"sk-estimator-id-4\" type=\"checkbox\" checked><label for=\"sk-estimator-id-4\" class=\"sk-toggleable__label sk-toggleable__label-arrow\">StandardScaler</label><div class=\"sk-toggleable__content\"><pre>StandardScaler()</pre></div></div></div></div></div>"
      ],
      "text/plain": [
       "StandardScaler()"
      ]
     },
     "execution_count": 24,
     "metadata": {},
     "output_type": "execute_result"
    }
   ],
   "source": [
    "### 정규화 패턴 찾기 -> 훈련 독립 변수만 사용한다.\n",
    "\n",
    "ss.fit(train_poly)"
   ]
  },
  {
   "cell_type": "code",
   "execution_count": 25,
   "id": "6bdbb711-3ecb-4b79-b322-d60ebf3db0a2",
   "metadata": {},
   "outputs": [
    {
     "data": {
      "text/plain": [
       "((39, 9), (17, 9))"
      ]
     },
     "execution_count": 25,
     "metadata": {},
     "output_type": "execute_result"
    }
   ],
   "source": [
    "### 찾은 패턴으로 훈련 및 테스트 독립 변수 데이터 변환하기(정규화)\n",
    "\n",
    "train_scaled = ss.transform(train_poly)\n",
    "test_scaled = ss.transform(test_poly)\n",
    "\n",
    "train_scaled, test_scaled\n",
    "train_scaled.shape, test_scaled.shape"
   ]
  },
  {
   "cell_type": "code",
   "execution_count": 26,
   "id": "42a360e9-59e3-4d09-88ec-99bbae097d56",
   "metadata": {},
   "outputs": [
    {
     "name": "stdout",
     "output_type": "stream",
     "text": [
      "0.9898271546307026 0.9713771600629739\n",
      "0.9898271546307026 0.9713771600629604\n",
      "0.018449994567728667\n"
     ]
    }
   ],
   "source": [
    "### 기존 모델을 이용해서 다시 한 번 훈련 시켜보기\n",
    "### 모델 훈련시키기\n",
    "lr.fit(train_scaled,train_target)\n",
    "\n",
    "### 훈련 및 테스트 정확도 확인하\n",
    "train_score1 = lr.score(train_scaled,train_target)\n",
    "test_score1 = lr.score(test_scaled,test_target)\n",
    "\n",
    "\n",
    "print(train_score, test_score)\n",
    "print(train_score1, test_score1)\n",
    "print(train_score - test_score)"
   ]
  },
  {
   "cell_type": "markdown",
   "id": "38a757c2-6626-4fdb-92dc-eae664d244f2",
   "metadata": {},
   "source": [
    "#### 해석\n",
    "\n",
    "- 기존 특성 공학을 적용한 모델과 정규화 처리한 모델과의 정확도는 동일한 것으로 보인다."
   ]
  },
  {
   "cell_type": "markdown",
   "id": "a5686e11-ca0f-486b-8f52-62a19f08f611",
   "metadata": {},
   "source": [
    "#### 릿지(Ridge) 모델 사용하기\n",
    "\n",
    "- 사용 패키지 : sklearn.linear_model\n",
    "\n",
    "- 사용 모델명 : Ridge"
   ]
  },
  {
   "cell_type": "code",
   "execution_count": 27,
   "id": "46f83498-cfec-4eeb-8e65-d603efcd7901",
   "metadata": {},
   "outputs": [
    {
     "data": {
      "text/plain": [
       "(0.9849041294689238, 0.9845173591615218, 0.0003867703074019735)"
      ]
     },
     "execution_count": 27,
     "metadata": {},
     "output_type": "execute_result"
    }
   ],
   "source": [
    "# 라이브러리 import\n",
    "from sklearn.linear_model import Ridge\n",
    "\n",
    "### 훈련 모델 생성하기\n",
    "ridge = Ridge()\n",
    "\n",
    "### 모델 훈련시키기\n",
    "ridge.fit(train_scaled,train_target)\n",
    "\n",
    "### 훈련 및 테스트 정확도 확인하기\n",
    "train_score = ridge.score(train_scaled, train_target)\n",
    "test_score = ridge.score(test_scaled, test_target)\n",
    "\n",
    "train_score, test_score, train_score - test_score"
   ]
  },
  {
   "cell_type": "markdown",
   "id": "754b5857-69c5-4827-b9b5-cab65159a9c7",
   "metadata": {},
   "source": [
    "#### 해석\n",
    "\n",
    "- 기존 모델보다 릿지 모델의 훈련 정확도는 다소 낮아 졌으나, 테스트 정확도는 높아짐\n",
    "\n",
    "- 훈련과 테스트의 차이가 매우 줄어든 일반화된 모델로 판단됨\n",
    "\n",
    "- 기존 모델보다 일반화는 잘 되었다고 판단한다(다만, 훈련 정확도는 다소 낮아졌음)"
   ]
  },
  {
   "cell_type": "code",
   "execution_count": 28,
   "id": "296f89be-77ce-49e8-8749-be99365d6ef3",
   "metadata": {},
   "outputs": [
    {
     "data": {
      "text/plain": [
       "array([ -61.93263901,   69.38828574,  279.34790525,  140.45052142,\n",
       "        137.16491873,  796.87105093,  335.18396118,  207.78335133,\n",
       "        836.88122091,  118.54861871, 1083.37235419,   26.09003783,\n",
       "        294.35909149,  347.40000282,   74.06227077,  130.15404326,\n",
       "         70.08272221])"
      ]
     },
     "execution_count": 28,
     "metadata": {},
     "output_type": "execute_result"
    }
   ],
   "source": [
    "### 예측하기\n",
    "pred = ridge.predict(test_scaled)\n",
    "pred"
   ]
  },
  {
   "cell_type": "code",
   "execution_count": 29,
   "id": "8853e425-33a2-4fd1-9d24-5c182fc64ddb",
   "metadata": {},
   "outputs": [
    {
     "data": {
      "text/plain": [
       "29.25391147401826"
      ]
     },
     "execution_count": 29,
     "metadata": {},
     "output_type": "execute_result"
    }
   ],
   "source": [
    "### 평균 절대오차 확인하기\n",
    "mae = mean_absolute_error(test_target, pred)\n",
    "mae"
   ]
  },
  {
   "cell_type": "markdown",
   "id": "ff41999c-b8c4-47fa-b386-e7545b194555",
   "metadata": {},
   "source": [
    "#### 해석\n",
    "\n",
    "- 기존 모델을 선택한다면\n",
    "    \n",
    "    - 훈련 정확도가 좀 더 높은 일반화된 모델을 선정하였음\n",
    " \n",
    "- 릿지 모델을 선택한다면\n",
    "\n",
    "    - 기존 모델보다 훈련 정확도는 낮아졌지만, 테스트 정확도가 높고, 오차가 1g 줄어든 모델.\n",
    "    \n",
    "    - 일반화가 매우 우수한 릿지 모델을 선정하였다."
   ]
  },
  {
   "cell_type": "code",
   "execution_count": 30,
   "id": "3d9c80ff-3d4a-4a77-92b6-c54dc9e41953",
   "metadata": {},
   "outputs": [
    {
     "name": "stdout",
     "output_type": "stream",
     "text": [
      "0.9861305259897015 0.98632202810554\n",
      "-0.0001915021158385155\n"
     ]
    }
   ],
   "source": [
    "### 라쏘(Lasso) 모델 사용하기\n",
    "\n",
    "# 라이브러리 import\n",
    "from sklearn.linear_model import Lasso\n",
    "\n",
    "# 모델 생성하기\n",
    "lasso = Lasso()\n",
    "\n",
    "# 모델 훈련시키기\n",
    "lasso.fit(train_scaled, train_target)\n",
    "\n",
    "# 훈련 및 테스트 정확도 확인\n",
    "train_score = lasso.score(train_scaled, train_target)\n",
    "test_score = lasso.score(test_scaled, test_target)\n",
    "\n",
    "print(train_score, test_score)\n",
    "print(train_score - test_score)"
   ]
  },
  {
   "cell_type": "markdown",
   "id": "929af0a0-7f3f-4923-a05a-5675561aa969",
   "metadata": {},
   "source": [
    "#### 해석\n",
    "\n",
    "- 기존 릿지 정확도 : (0.9849041294689238, 0.9845173591615218, 0.0003867703074019735)\n",
    "\n",
    "- 릿지 모델에 비하여 훈련 정확도는 높아졌으며, 테스트 정확도 또한 높아졌으나 미세하게 과소적합을 보이고 있다.\n",
    "\n",
    "- 매우 경미한 과소적합의 경우에는 사용은 가능하지만, 이를 해소하지 않고서 사용하기에는 미흡할 것으로 여겨진다."
   ]
  },
  {
   "cell_type": "code",
   "execution_count": 31,
   "id": "51343042-c326-4c2d-adfc-728e0f94bcff",
   "metadata": {},
   "outputs": [
    {
     "data": {
      "text/plain": [
       "array([ -43.70669743,   70.41454264,  274.03291416,  138.14023972,\n",
       "        136.1833532 ,  795.22130424,  328.60470097,  204.24315928,\n",
       "        822.62808732,  118.11124527, 1075.40813513,   28.64520876,\n",
       "        292.98922415,  341.90442243,   75.48401454,  129.1560788 ,\n",
       "         71.01982925])"
      ]
     },
     "execution_count": 31,
     "metadata": {},
     "output_type": "execute_result"
    }
   ],
   "source": [
    "# 에측하기\n",
    "pred = lasso.predict(test_scaled)\n",
    "pred"
   ]
  },
  {
   "cell_type": "code",
   "execution_count": 32,
   "id": "7d6eeacb-5409-4386-a8af-66f2b756d7a3",
   "metadata": {},
   "outputs": [
    {
     "data": {
      "text/plain": [
       "26.878384450173368"
      ]
     },
     "execution_count": 32,
     "metadata": {},
     "output_type": "execute_result"
    }
   ],
   "source": [
    "# 평균절대오차(MAE) 확인하기\n",
    "mae = mean_absolute_error(test_target, pred)\n",
    "mae"
   ]
  },
  {
   "cell_type": "markdown",
   "id": "e2bb7a8d-6c5f-46fd-9730-bd6eed6ce841",
   "metadata": {},
   "source": [
    "### 릿지와 라쏘 모델에 규제 적용하기\n",
    "\n",
    "- 규제를 하이퍼 파라미터라고 한다.\n",
    "\n",
    "- 규제 속성(변수)명 : alpha\n",
    "\n",
    "- 규제 적용 시점 : 모델(클래스) 생성 시에 속성값으로 넣어준다.\n",
    "\n",
    "- alpha(규제)의 기본(default) 값 = 1\n",
    "\n",
    "- alpha의 값의 법위 : 0.001 ~ 100 사이의 값 중 한 개를 사용한다.\n",
    "\n",
    "- 규제 해석\n",
    "\n",
    "    - alpha 값이 작을수록 : 훈련 정확도는 낮아지면서, 과적합에 도움을 줄 수 있음\n",
    " \n",
    "    - alpha 값이 클수록 : 훈련 정확도는 높아지지만, 과적합에는 도움이 안 될 수도 있음"
   ]
  },
  {
   "cell_type": "code",
   "execution_count": 33,
   "id": "63a2644d-f3f1-4952-bbd2-cdf462acb668",
   "metadata": {},
   "outputs": [
    {
     "data": {
      "text/html": [
       "<style>#sk-container-id-5 {color: black;}#sk-container-id-5 pre{padding: 0;}#sk-container-id-5 div.sk-toggleable {background-color: white;}#sk-container-id-5 label.sk-toggleable__label {cursor: pointer;display: block;width: 100%;margin-bottom: 0;padding: 0.3em;box-sizing: border-box;text-align: center;}#sk-container-id-5 label.sk-toggleable__label-arrow:before {content: \"▸\";float: left;margin-right: 0.25em;color: #696969;}#sk-container-id-5 label.sk-toggleable__label-arrow:hover:before {color: black;}#sk-container-id-5 div.sk-estimator:hover label.sk-toggleable__label-arrow:before {color: black;}#sk-container-id-5 div.sk-toggleable__content {max-height: 0;max-width: 0;overflow: hidden;text-align: left;background-color: #f0f8ff;}#sk-container-id-5 div.sk-toggleable__content pre {margin: 0.2em;color: black;border-radius: 0.25em;background-color: #f0f8ff;}#sk-container-id-5 input.sk-toggleable__control:checked~div.sk-toggleable__content {max-height: 200px;max-width: 100%;overflow: auto;}#sk-container-id-5 input.sk-toggleable__control:checked~label.sk-toggleable__label-arrow:before {content: \"▾\";}#sk-container-id-5 div.sk-estimator input.sk-toggleable__control:checked~label.sk-toggleable__label {background-color: #d4ebff;}#sk-container-id-5 div.sk-label input.sk-toggleable__control:checked~label.sk-toggleable__label {background-color: #d4ebff;}#sk-container-id-5 input.sk-hidden--visually {border: 0;clip: rect(1px 1px 1px 1px);clip: rect(1px, 1px, 1px, 1px);height: 1px;margin: -1px;overflow: hidden;padding: 0;position: absolute;width: 1px;}#sk-container-id-5 div.sk-estimator {font-family: monospace;background-color: #f0f8ff;border: 1px dotted black;border-radius: 0.25em;box-sizing: border-box;margin-bottom: 0.5em;}#sk-container-id-5 div.sk-estimator:hover {background-color: #d4ebff;}#sk-container-id-5 div.sk-parallel-item::after {content: \"\";width: 100%;border-bottom: 1px solid gray;flex-grow: 1;}#sk-container-id-5 div.sk-label:hover label.sk-toggleable__label {background-color: #d4ebff;}#sk-container-id-5 div.sk-serial::before {content: \"\";position: absolute;border-left: 1px solid gray;box-sizing: border-box;top: 0;bottom: 0;left: 50%;z-index: 0;}#sk-container-id-5 div.sk-serial {display: flex;flex-direction: column;align-items: center;background-color: white;padding-right: 0.2em;padding-left: 0.2em;position: relative;}#sk-container-id-5 div.sk-item {position: relative;z-index: 1;}#sk-container-id-5 div.sk-parallel {display: flex;align-items: stretch;justify-content: center;background-color: white;position: relative;}#sk-container-id-5 div.sk-item::before, #sk-container-id-5 div.sk-parallel-item::before {content: \"\";position: absolute;border-left: 1px solid gray;box-sizing: border-box;top: 0;bottom: 0;left: 50%;z-index: -1;}#sk-container-id-5 div.sk-parallel-item {display: flex;flex-direction: column;z-index: 1;position: relative;background-color: white;}#sk-container-id-5 div.sk-parallel-item:first-child::after {align-self: flex-end;width: 50%;}#sk-container-id-5 div.sk-parallel-item:last-child::after {align-self: flex-start;width: 50%;}#sk-container-id-5 div.sk-parallel-item:only-child::after {width: 0;}#sk-container-id-5 div.sk-dashed-wrapped {border: 1px dashed gray;margin: 0 0.4em 0.5em 0.4em;box-sizing: border-box;padding-bottom: 0.4em;background-color: white;}#sk-container-id-5 div.sk-label label {font-family: monospace;font-weight: bold;display: inline-block;line-height: 1.2em;}#sk-container-id-5 div.sk-label-container {text-align: center;}#sk-container-id-5 div.sk-container {/* jupyter's `normalize.less` sets `[hidden] { display: none; }` but bootstrap.min.css set `[hidden] { display: none !important; }` so we also need the `!important` here to be able to override the default hidden behavior on the sphinx rendered scikit-learn.org. See: https://github.com/scikit-learn/scikit-learn/issues/21755 */display: inline-block !important;position: relative;}#sk-container-id-5 div.sk-text-repr-fallback {display: none;}</style><div id=\"sk-container-id-5\" class=\"sk-top-container\"><div class=\"sk-text-repr-fallback\"><pre>Ridge(alpha=0.1)</pre><b>In a Jupyter environment, please rerun this cell to show the HTML representation or trust the notebook. <br />On GitHub, the HTML representation is unable to render, please try loading this page with nbviewer.org.</b></div><div class=\"sk-container\" hidden><div class=\"sk-item\"><div class=\"sk-estimator sk-toggleable\"><input class=\"sk-toggleable__control sk-hidden--visually\" id=\"sk-estimator-id-5\" type=\"checkbox\" checked><label for=\"sk-estimator-id-5\" class=\"sk-toggleable__label sk-toggleable__label-arrow\">Ridge</label><div class=\"sk-toggleable__content\"><pre>Ridge(alpha=0.1)</pre></div></div></div></div></div>"
      ],
      "text/plain": [
       "Ridge(alpha=0.1)"
      ]
     },
     "execution_count": 33,
     "metadata": {},
     "output_type": "execute_result"
    }
   ],
   "source": [
    "### 모델 생성 시 규제 값 적용하기\n",
    "ridge = Ridge(alpha=0.1)\n",
    "ridge"
   ]
  },
  {
   "cell_type": "code",
   "execution_count": 34,
   "id": "baed8a49-52f0-477e-9cba-23fc62de510c",
   "metadata": {},
   "outputs": [
    {
     "data": {
      "text/plain": [
       "(0.9882780161390031, 0.9868237771849514, 0.001454238954051723)"
      ]
     },
     "execution_count": 34,
     "metadata": {},
     "output_type": "execute_result"
    }
   ],
   "source": [
    "### 모델 훈련시키기\n",
    "ridge.fit(train_scaled,train_target)\n",
    "\n",
    "### 훈련 및 테스트 정확도 확인하기\n",
    "train_score = ridge.score(train_scaled, train_target)\n",
    "test_score = ridge.score(test_scaled, test_target)\n",
    "\n",
    "train_score, test_score, train_score - test_score\n",
    "\n",
    "# - alpha = 1일 때 정확도 : (0.9849041294689238, 0.9845173591615218, 0.0003867703074019735)\n",
    "\n",
    "# - alpha = 0.1일 때 정확도 : (0.9882780161390031, 0.9868237771849514, 0.001454238954051723)"
   ]
  },
  {
   "cell_type": "code",
   "execution_count": 35,
   "id": "33043bf5-5ffe-4836-9aec-59d02c0f4782",
   "metadata": {},
   "outputs": [
    {
     "data": {
      "text/plain": [
       "20.23382804588946"
      ]
     },
     "execution_count": 35,
     "metadata": {},
     "output_type": "execute_result"
    }
   ],
   "source": [
    "#### 예측하기\n",
    "pred = ridge.predict(test_scaled)\n",
    "\n",
    "### 평균 절대오차 확인하기\n",
    "mae = mean_absolute_error(test_target, pred)\n",
    "mae"
   ]
  },
  {
   "cell_type": "markdown",
   "id": "02f3c9b7-3a8e-4281-ae4d-9d607a9520d5",
   "metadata": {},
   "source": [
    "#### 해석\n",
    "\n",
    "- 기존 alpha값 1을 사용했을 때보다 훈련의 성능은 높아졌으나, 일반화는 다소 낮아졌음\n",
    "\n",
    "- 다만, 그 차이는 매우 경미하기에 예측에 따른 MAE를 확인한 결과 alpha값 1을 사용했을 때보다 0.1을 사용했을 때의 모델이 매우 월등하게 오차를 줄일 수 있는 모델로 여겨진다.\n",
    "\n",
    "- 따라서, 본 데이터를 이용한 예측 모델로는 특성공학을 적용한 degree값 2와, 정규화를 거친, alpha값 0.1의 Ridge 모델을 선정하는 것이 타당하다고 판단된다."
   ]
  },
  {
   "cell_type": "code",
   "execution_count": 37,
   "id": "b359b6dc-6905-4a5f-b6d4-253e5c98cf6e",
   "metadata": {},
   "outputs": [
    {
     "name": "stdout",
     "output_type": "stream",
     "text": [
      "0.9883448062768178 0.9857016019582313 0.002643204318586445\n",
      "21.295562116910816\n"
     ]
    },
    {
     "name": "stderr",
     "output_type": "stream",
     "text": [
      "C:\\ProgramData\\anaconda3\\envs\\pk_base\\lib\\site-packages\\sklearn\\linear_model\\_coordinate_descent.py:628: ConvergenceWarning: Objective did not converge. You might want to increase the number of iterations, check the scale of the features or consider increasing regularisation. Duality gap: 2.443e+03, tolerance: 4.887e+02\n",
      "  model = cd_fast.enet_coordinate_descent(\n"
     ]
    }
   ],
   "source": [
    "### Lasso 모델 생성하기\n",
    "lasso = Lasso(alpha=0.1)\n",
    "\n",
    "### 모델 훈련시키기\n",
    "lasso.fit(train_scaled,train_target)\n",
    "\n",
    "### 훈련 정확도와 테스트 정확도 확인하기\n",
    "train_score = lasso.score(train_scaled,train_target)\n",
    "test_score = lasso.score(test_scaled,test_target)\n",
    "\n",
    "print(train_score, test_score, train_score - test_score)\n",
    "\n",
    "test_pred = lasso.predict(test_scaled)\n",
    "mae = mean_absolute_error(test_target,test_pred)\n",
    "print(mae)\n",
    "\n",
    "\n",
    "### 릿지 -> alpha = 0.1일 때 정확도 : (0.9882780161390031, 0.9868237771849514, 0.001454238954051723) / mae => 20.23382804588946"
   ]
  }
 ],
 "metadata": {
  "kernelspec": {
   "display_name": "Python 3 (ipykernel)",
   "language": "python",
   "name": "python3"
  },
  "language_info": {
   "codemirror_mode": {
    "name": "ipython",
    "version": 3
   },
   "file_extension": ".py",
   "mimetype": "text/x-python",
   "name": "python",
   "nbconvert_exporter": "python",
   "pygments_lexer": "ipython3",
   "version": "3.9.18"
  }
 },
 "nbformat": 4,
 "nbformat_minor": 5
}

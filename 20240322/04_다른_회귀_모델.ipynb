{
 "cells": [
  {
   "cell_type": "markdown",
   "id": "fe6de6b4-999e-46f4-989c-f71822b2e31b",
   "metadata": {},
   "source": [
    "### 다른 회귀 모델\n",
    "\n",
    "- 선형 회귀모델(Linear Regression Model), 릿지, 라쏘, 앙상블\n",
    "\n",
    "- 선형회귀모델 \n",
    "\n",
    "    - 단일회귀모델(독립변수가 하나인 것, 직선의 방정식)\n",
    "\n",
    "    - 다항회귀모델(독립변수가 2개인 것, 곡선의 방정식)\n",
    "\n",
    "    - 다중회귀모델(독립변수가 3개 이상인 것, 단일 회귀의 확장)\n",
    "\n",
    "- 앙상블모델 : 랜덤포레스트, 엑스트라트리, 그레디언트부스트, 히스토그램 그레디언트부스트"
   ]
  },
  {
   "cell_type": "code",
   "execution_count": 1,
   "id": "464e3f45-52b7-49bf-9960-3a854da772b9",
   "metadata": {},
   "outputs": [],
   "source": [
    "import matplotlib.pyplot as plt\n",
    "from sklearn.metrics import mean_absolute_error\n",
    "from sklearn.linear_model import LinearRegression\n",
    "from sklearn.model_selection import train_test_split\n",
    "import numpy as np"
   ]
  },
  {
   "cell_type": "markdown",
   "id": "500906b8-c00f-4645-93e6-6120ba49c8ef",
   "metadata": {},
   "source": [
    "### 단일 선형회귀모델 \n",
    "\n",
    "- 모델 이름 : LinearRegression"
   ]
  },
  {
   "cell_type": "code",
   "execution_count": 2,
   "id": "d3044c2a-1aea-4fd0-9692-934b432ba997",
   "metadata": {},
   "outputs": [
    {
     "data": {
      "text/plain": [
       "((56,), (56,))"
      ]
     },
     "execution_count": 2,
     "metadata": {},
     "output_type": "execute_result"
    }
   ],
   "source": [
    "### 농어 길이\n",
    "\n",
    "perch_length = np.array(\n",
    "                        [8.4, 13.7, 15.0, 16.2, 17.4, 18.0, 18.7, 19.0, 19.6, 20.0, \n",
    "                         21.0, 21.0, 21.0, 21.3, 22.0, 22.0, 22.0, 22.0, 22.0, 22.5, \n",
    "                         22.5, 22.7, 23.0, 23.5, 24.0, 24.0, 24.6, 25.0, 25.6, 26.5, \n",
    "                         27.3, 27.5, 27.5, 27.5, 28.0, 28.7, 30.0, 32.8, 34.5, 35.0, \n",
    "                         36.5, 36.0, 37.0, 37.0, 39.0, 39.0, 39.0, 40.0, 40.0, 40.0, \n",
    "                         40.0, 42.0, 43.0, 43.0, 43.5, 44.0]\n",
    "                         )\n",
    "### 농어 무게 \n",
    "\n",
    "perch_weight = np.array(\n",
    "                        [5.9, 32.0, 40.0, 51.5, 70.0, 100.0, 78.0, 80.0, 85.0, 85.0, \n",
    "                         110.0, 115.0, 125.0, 130.0, 120.0, 120.0, 130.0, 135.0, 110.0, \n",
    "                         130.0, 150.0, 145.0, 150.0, 170.0, 225.0, 145.0, 188.0, 180.0, \n",
    "                         197.0, 218.0, 300.0, 260.0, 265.0, 250.0, 250.0, 300.0, 320.0, \n",
    "                         514.0, 556.0, 840.0, 685.0, 700.0, 700.0, 690.0, 900.0, 650.0, \n",
    "                         820.0, 850.0, 900.0, 1015.0, 820.0, 1100.0, 1000.0, 1100.0, \n",
    "                         1000.0, 1000.0]\n",
    "                         )\n",
    "\n",
    "perch_length.shape, perch_weight.shape"
   ]
  },
  {
   "cell_type": "code",
   "execution_count": 3,
   "id": "4cec50a3-174c-4449-97e3-a5605ce6a92c",
   "metadata": {},
   "outputs": [
    {
     "name": "stdout",
     "output_type": "stream",
     "text": [
      "(42,) (42,)\n",
      "(14,) (14,)\n"
     ]
    }
   ],
   "source": [
    "### 훈련:테스트  = 75:25 데이터 분류하기\n",
    "# - stratify : 분류모델에서 종속변수의 범주형 데이터에 대한 편향을 줄이기 위한 속성으로 회귀모델에서는 연속형 데이터를 사용하기에 사용하지 않음\n",
    "# train_test_split(독립변수, 종속변수, 분할비율, 랜덤규칙)\n",
    "# --> 반환되는 값 4개 순서 : 훈련 독립, 테스트 독립, 훈련 종속, 테스트 종속\n",
    "\n",
    "train_input, test_input, train_target, test_target = train_test_split(perch_length, perch_weight, test_size=0.25, random_state=42)\n",
    "\n",
    "print(train_input.shape, train_target.shape)\n",
    "print(test_input.shape, test_target.shape)"
   ]
  },
  {
   "cell_type": "code",
   "execution_count": 4,
   "id": "1ef640c3-56e6-4226-857f-d0429b6d761e",
   "metadata": {},
   "outputs": [
    {
     "name": "stdout",
     "output_type": "stream",
     "text": [
      "(42, 1) (14, 1)\n"
     ]
    }
   ],
   "source": [
    "### 훈련 및 테스트의 독립변수를 2차원으로 변환하기\n",
    "# - 변환하는 이유 : 머신러닝에서 훈련 시에는 2차원 독립변수를 사용한다.\n",
    "# - 변수명 : train_input_2d, test_input_2d\n",
    "\n",
    "\n",
    "# - reshape(행, 열) : 차원 변경 함수\n",
    "# - reshape(-1, 1) : -1은 모든 행을 의미, 두번째 1은 1열을 의미. 즉, 전체 행에 대한 1열을 만드는 작업을 수행\n",
    "train_input_2d = train_input.reshape(-1,1)\n",
    "\n",
    "test_input_2d = test_input.reshape(-1,1)\n",
    "\n",
    "print(train_input_2d.shape,test_input_2d.shape)"
   ]
  },
  {
   "cell_type": "code",
   "execution_count": 5,
   "id": "f23bb748-3228-4426-a72b-a43b72abe5e3",
   "metadata": {},
   "outputs": [
    {
     "data": {
      "text/plain": [
       "((42, 1), (42,), (14, 1), (14,))"
      ]
     },
     "execution_count": 5,
     "metadata": {},
     "output_type": "execute_result"
    }
   ],
   "source": [
    "### 데이터 확인하기\n",
    "train_input_2d.shape, train_target.shape, test_input_2d.shape, test_target.shape"
   ]
  },
  {
   "cell_type": "code",
   "execution_count": 6,
   "id": "aa38fe3b-eeb0-4c9d-b86d-c690823d6678",
   "metadata": {},
   "outputs": [],
   "source": [
    "### 모델 생성하기\n",
    "# - 모델 변수명 : lr\n",
    "\n",
    "lr = LinearRegression()"
   ]
  },
  {
   "cell_type": "code",
   "execution_count": 7,
   "id": "ec13f20d-8056-4d7b-a305-73f233eaa23d",
   "metadata": {},
   "outputs": [
    {
     "data": {
      "text/html": [
       "<style>#sk-container-id-1 {color: black;}#sk-container-id-1 pre{padding: 0;}#sk-container-id-1 div.sk-toggleable {background-color: white;}#sk-container-id-1 label.sk-toggleable__label {cursor: pointer;display: block;width: 100%;margin-bottom: 0;padding: 0.3em;box-sizing: border-box;text-align: center;}#sk-container-id-1 label.sk-toggleable__label-arrow:before {content: \"▸\";float: left;margin-right: 0.25em;color: #696969;}#sk-container-id-1 label.sk-toggleable__label-arrow:hover:before {color: black;}#sk-container-id-1 div.sk-estimator:hover label.sk-toggleable__label-arrow:before {color: black;}#sk-container-id-1 div.sk-toggleable__content {max-height: 0;max-width: 0;overflow: hidden;text-align: left;background-color: #f0f8ff;}#sk-container-id-1 div.sk-toggleable__content pre {margin: 0.2em;color: black;border-radius: 0.25em;background-color: #f0f8ff;}#sk-container-id-1 input.sk-toggleable__control:checked~div.sk-toggleable__content {max-height: 200px;max-width: 100%;overflow: auto;}#sk-container-id-1 input.sk-toggleable__control:checked~label.sk-toggleable__label-arrow:before {content: \"▾\";}#sk-container-id-1 div.sk-estimator input.sk-toggleable__control:checked~label.sk-toggleable__label {background-color: #d4ebff;}#sk-container-id-1 div.sk-label input.sk-toggleable__control:checked~label.sk-toggleable__label {background-color: #d4ebff;}#sk-container-id-1 input.sk-hidden--visually {border: 0;clip: rect(1px 1px 1px 1px);clip: rect(1px, 1px, 1px, 1px);height: 1px;margin: -1px;overflow: hidden;padding: 0;position: absolute;width: 1px;}#sk-container-id-1 div.sk-estimator {font-family: monospace;background-color: #f0f8ff;border: 1px dotted black;border-radius: 0.25em;box-sizing: border-box;margin-bottom: 0.5em;}#sk-container-id-1 div.sk-estimator:hover {background-color: #d4ebff;}#sk-container-id-1 div.sk-parallel-item::after {content: \"\";width: 100%;border-bottom: 1px solid gray;flex-grow: 1;}#sk-container-id-1 div.sk-label:hover label.sk-toggleable__label {background-color: #d4ebff;}#sk-container-id-1 div.sk-serial::before {content: \"\";position: absolute;border-left: 1px solid gray;box-sizing: border-box;top: 0;bottom: 0;left: 50%;z-index: 0;}#sk-container-id-1 div.sk-serial {display: flex;flex-direction: column;align-items: center;background-color: white;padding-right: 0.2em;padding-left: 0.2em;position: relative;}#sk-container-id-1 div.sk-item {position: relative;z-index: 1;}#sk-container-id-1 div.sk-parallel {display: flex;align-items: stretch;justify-content: center;background-color: white;position: relative;}#sk-container-id-1 div.sk-item::before, #sk-container-id-1 div.sk-parallel-item::before {content: \"\";position: absolute;border-left: 1px solid gray;box-sizing: border-box;top: 0;bottom: 0;left: 50%;z-index: -1;}#sk-container-id-1 div.sk-parallel-item {display: flex;flex-direction: column;z-index: 1;position: relative;background-color: white;}#sk-container-id-1 div.sk-parallel-item:first-child::after {align-self: flex-end;width: 50%;}#sk-container-id-1 div.sk-parallel-item:last-child::after {align-self: flex-start;width: 50%;}#sk-container-id-1 div.sk-parallel-item:only-child::after {width: 0;}#sk-container-id-1 div.sk-dashed-wrapped {border: 1px dashed gray;margin: 0 0.4em 0.5em 0.4em;box-sizing: border-box;padding-bottom: 0.4em;background-color: white;}#sk-container-id-1 div.sk-label label {font-family: monospace;font-weight: bold;display: inline-block;line-height: 1.2em;}#sk-container-id-1 div.sk-label-container {text-align: center;}#sk-container-id-1 div.sk-container {/* jupyter's `normalize.less` sets `[hidden] { display: none; }` but bootstrap.min.css set `[hidden] { display: none !important; }` so we also need the `!important` here to be able to override the default hidden behavior on the sphinx rendered scikit-learn.org. See: https://github.com/scikit-learn/scikit-learn/issues/21755 */display: inline-block !important;position: relative;}#sk-container-id-1 div.sk-text-repr-fallback {display: none;}</style><div id=\"sk-container-id-1\" class=\"sk-top-container\"><div class=\"sk-text-repr-fallback\"><pre>LinearRegression()</pre><b>In a Jupyter environment, please rerun this cell to show the HTML representation or trust the notebook. <br />On GitHub, the HTML representation is unable to render, please try loading this page with nbviewer.org.</b></div><div class=\"sk-container\" hidden><div class=\"sk-item\"><div class=\"sk-estimator sk-toggleable\"><input class=\"sk-toggleable__control sk-hidden--visually\" id=\"sk-estimator-id-1\" type=\"checkbox\" checked><label for=\"sk-estimator-id-1\" class=\"sk-toggleable__label sk-toggleable__label-arrow\">LinearRegression</label><div class=\"sk-toggleable__content\"><pre>LinearRegression()</pre></div></div></div></div></div>"
      ],
      "text/plain": [
       "LinearRegression()"
      ]
     },
     "execution_count": 7,
     "metadata": {},
     "output_type": "execute_result"
    }
   ],
   "source": [
    "### 모델 훈련 시키기\n",
    "lr.fit(train_input_2d,train_target)"
   ]
  },
  {
   "cell_type": "code",
   "execution_count": 8,
   "id": "630908ce-03a4-4a82-87ae-55984846488c",
   "metadata": {},
   "outputs": [
    {
     "name": "stdout",
     "output_type": "stream",
     "text": [
      "0.939846333997604 0.8247503123313558\n",
      "0.11509602166624822\n"
     ]
    }
   ],
   "source": [
    "### 훈련 및 테스트 정확도 확인하기\n",
    "train_score = lr.score(train_input_2d,train_target)\n",
    "test_score = lr.score(test_input_2d,test_target)\n",
    "\n",
    "print(train_score, test_score)\n",
    "print(train_score-test_score)"
   ]
  },
  {
   "cell_type": "markdown",
   "id": "1c8f050a-2bfe-4207-b93d-78ea0b93d70e",
   "metadata": {},
   "source": [
    "#### 해석\n",
    "\n",
    "- 훈련 데이터의 0.94로 성능은 좋으나, 테스트 정확도가 0.825로 훈련 정확도와 0.12 정도의 차이를 보이고 있다.\n",
    "\n",
    "- 따라서 과대적합을 의심할 수는 있음"
   ]
  },
  {
   "cell_type": "code",
   "execution_count": 9,
   "id": "290d46eb-e4ef-4301-b4d2-ca9f5b879fc8",
   "metadata": {},
   "outputs": [
    {
     "data": {
      "text/plain": [
       "array([1241.83860323])"
      ]
     },
     "execution_count": 9,
     "metadata": {},
     "output_type": "execute_result"
    }
   ],
   "source": [
    "### 임의 데이터 50cm로 예측하기\n",
    "pred = lr.predict([[50]])\n",
    "pred"
   ]
  },
  {
   "cell_type": "code",
   "execution_count": 10,
   "id": "77e75bcf-a529-41a9-9096-6d5fa07fe1ed",
   "metadata": {},
   "outputs": [],
   "source": [
    "### 시각화 시 한글 및 마이너스(-) 기호 사용을 위한 처리\n",
    "# - 한글 처리 : 폰트 지정\n",
    "plt.rcParams['font.family'] ='Malgun Gothic'\n",
    "\n",
    "# - 마이너스(-) 기호 처\n",
    "plt.rcParams['axes.unicode_minus'] =False"
   ]
  },
  {
   "cell_type": "code",
   "execution_count": 11,
   "id": "aaca8850-1e16-45c6-b5e5-e9a9c4db6833",
   "metadata": {},
   "outputs": [
    {
     "data": {
      "image/png": "[encoded data removed]",
      "text/plain": [
       "<Figure size 640x480 with 1 Axes>"
      ]
     },
     "metadata": {},
     "output_type": "display_data"
    }
   ],
   "source": [
    "### 원본 데이터와 임의 데이터 산점도로 시각화하기\n",
    "\n",
    "plt.scatter(train_input_2d,train_target,c='red', label='원본')\n",
    "plt.scatter(50, pred[0], marker='^', c='green', label='임의 데이터')\n",
    "\n",
    "plt.xlabel('길이')\n",
    "plt.ylabel('무게')\n",
    "plt.show();"
   ]
  },
  {
   "cell_type": "markdown",
   "id": "b8b8fa4e-f512-42c2-b399-0f22adce729d",
   "metadata": {},
   "source": [
    "### 추세선 그리기\n",
    "\n",
    "- 추이선, 예측선, 추세선 모두 같은 의미의 용어로 사용된다.\n",
    "\n",
    "- 우리가 분석할 때 추이 분석이라는 용어를 사용할 때 보통 추세선을 의미한다고 보면 된다.\n",
    "\n",
    "- 예측 결과는 추세선 영역 안에서 모델이 예측을 수행한다.\n",
    "\n",
    "- 모델이 훈련(fit)을 하게 되면 추세선, 즉 추이(패턴)을 찾기 위한 기준값을 추출한다.\n",
    "\n",
    "- 기준값은 : 기울기와 y절편\n",
    "\n",
    "- 단일 회귀 모델 = ax + b의 직선의 방정식을 사용함(a는 기울기, b는 y절편)\n",
    "\n",
    "- 기울기와 절편을 이용하여 예측을 수행하며, 추세선이 그려진다."
   ]
  },
  {
   "cell_type": "code",
   "execution_count": 12,
   "id": "ec371c0e-ec85-4b1b-8446-a501d2cf3fe6",
   "metadata": {},
   "outputs": [
    {
     "data": {
      "text/plain": [
       "(array([39.01714496]), -709.0186449535477)"
      ]
     },
     "execution_count": 12,
     "metadata": {},
     "output_type": "execute_result"
    }
   ],
   "source": [
    "### 추세선을 그리기 위해서 계수값(기울기와 y절편) 추출하기\n",
    "# - 기울기 : coef_\n",
    "# - y절편 : intercept_\n",
    "\n",
    "a = lr.coef_\n",
    "b = lr.intercept_\n",
    "\n",
    "a,b"
   ]
  },
  {
   "cell_type": "code",
   "execution_count": 13,
   "id": "d0e59a2e-e0c0-4b91-bd07-6543537931b0",
   "metadata": {},
   "outputs": [
    {
     "data": {
      "image/png": "[encoded data removed]",
      "text/plain": [
       "<Figure size 640x480 with 1 Axes>"
      ]
     },
     "metadata": {},
     "output_type": "display_data"
    }
   ],
   "source": [
    "### 추세선 그리기\n",
    "### 원본 데이터와 임의 데이터 산점도로 시각화하기\n",
    "# - 원본\n",
    "plt.scatter(train_input_2d,train_target,c='red', label='원본')\n",
    "# - 임의 데이터\n",
    "plt.scatter(50, pred[0], marker='^', c='green', label='임의 데이터')\n",
    "# - 추세선(기울기, 절편)\n",
    "plt.plot([15,50],[a*15+b,a*50 +b], c='blue')\n",
    "\n",
    "plt.xlabel('길이')\n",
    "plt.ylabel('무게')\n",
    "plt.show();"
   ]
  },
  {
   "cell_type": "code",
   "execution_count": 14,
   "id": "08dd9020-67c7-4768-a765-85aabe5bc280",
   "metadata": {},
   "outputs": [
    {
     "data": {
      "text/plain": [
       "((15, array([-123.7614705])), (50, array([1241.83860323])))"
      ]
     },
     "execution_count": 14,
     "metadata": {},
     "output_type": "execute_result"
    }
   ],
   "source": [
    "(15,a*15+b),(50,a*50 +b)"
   ]
  },
  {
   "cell_type": "code",
   "execution_count": 15,
   "id": "e036b8a2-6df4-4592-964f-a4907451a7eb",
   "metadata": {},
   "outputs": [
    {
     "data": {
      "image/png": "[encoded data removed]",
      "text/plain": [
       "<Figure size 640x480 with 1 Axes>"
      ]
     },
     "metadata": {},
     "output_type": "display_data"
    }
   ],
   "source": [
    "### 추세선 그리기\n",
    "### 원본 데이터와 임의 데이터 산점도로 시각화하기\n",
    "# - 원본\n",
    "plt.scatter(train_input_2d,train_target,c='red', label='원본')\n",
    "# - 임의 데이터\n",
    "plt.scatter(50, pred[0], marker='^', c='green', label='임의 데이터')\n",
    "# - 추세선(기울기, 절편)\n",
    "plt.plot([0,50],[0*a+b,a*50 +b], c='blue')\n",
    "\n",
    "plt.xlabel('길이')\n",
    "plt.ylabel('무게')\n",
    "plt.show();"
   ]
  },
  {
   "cell_type": "markdown",
   "id": "1497398f-1b84-42aa-a8ec-0c9191fd1fed",
   "metadata": {},
   "source": [
    "#### 해석\n",
    "\n",
    "- KNN 모델 보다는 좋은 성능을 보이는 모델이다.\n",
    "\n",
    "- 과대적합이 의심은 되나 일반화 되었다고 판단해도 될 것으로 보임\n",
    "\n",
    "- 그러나, y절편의 값이 음수(-)의 값으로, 예측 시 0보다 작은 무게를 예측할 수 있는 모델로 여겨짐\n",
    "\n",
    "- 즉, 0 이하의 '이상치' 데이터를 예측할 수 있음\n",
    "\n",
    "- 따라서, 단일 회귀모델로는 생선의 길이로 무게를 예측하기에는 적합하지 않은 것으로 판단됨\n",
    "\n",
    "#### 해결 방법\n",
    "\n",
    "- 원본의 산점도 그래프를 볼 때 시작 부분이 곡선을 보이고 있음\n",
    "\n",
    "- 이에, 직선이 아닌 곡선이 적용된 모델로 훈련할 필요성이 있음"
   ]
  },
  {
   "cell_type": "markdown",
   "id": "efe090b9-82ac-4a69-80ff-a8e74a3984f2",
   "metadata": {},
   "source": [
    "### 다항회귀모델 사용하기\n",
    "\n",
    "- 곡선의 방정식을 사용함\n",
    "\n",
    "- $`y = ax^2 +bx +c`$\n",
    "\n",
    "- 독립변수가 2개 사용됨(변수 = 특성)\n",
    "\n",
    "- 사용모델 : LinearRegression()\n",
    "    \n",
    "    - 모든 선형회귀모델(단일,다항,다중 모두 동일)은 같은 모델을 사용함\n",
    "\n",
    "    - 회귀 모델 구분은 독립 변수의 형태에 따라서 모델이 알아서 결정함"
   ]
  },
  {
   "cell_type": "code",
   "execution_count": 16,
   "id": "94e2cdf7-b801-4552-9e01-e55075b0a116",
   "metadata": {},
   "outputs": [
    {
     "data": {
      "text/plain": [
       "(42, 1)"
      ]
     },
     "execution_count": 16,
     "metadata": {},
     "output_type": "execute_result"
    }
   ],
   "source": [
    "train_input_2d.shape"
   ]
  },
  {
   "cell_type": "code",
   "execution_count": 17,
   "id": "3a1f806b-73b7-45ad-8c4c-c631ae4a295a",
   "metadata": {},
   "outputs": [
    {
     "name": "stdout",
     "output_type": "stream",
     "text": [
      "(42, 2) (14, 2)\n"
     ]
    }
   ],
   "source": [
    "### 특성 $`x^2`$값을 생성하여 2개의 특성 생성하기\n",
    "#- 사용하는 데이터 : train_input_2d, test_input_2d\n",
    "\n",
    "### 훈련 독립변수에 $x^2$값 생성하여 2열 생성하기\n",
    "# - column_stack() : 행렬의 생성 함수\n",
    "\n",
    "train_poly = np.column_stack((train_input_2d**2,train_input_2d))\n",
    "test_poly = np.column_stack((test_input_2d**2, test_input_2d))\n",
    "\n",
    "print(train_poly.shape, test_poly.shape)"
   ]
  },
  {
   "cell_type": "code",
   "execution_count": 18,
   "id": "ec7b8916-9d8f-4253-8643-6682427bdc6c",
   "metadata": {},
   "outputs": [
    {
     "name": "stdout",
     "output_type": "stream",
     "text": [
      "0.9706807451768623 0.9775935108325121\n"
     ]
    }
   ],
   "source": [
    "# 모델 생성하기\n",
    "lr=LinearRegression()\n",
    "\n",
    "# 모델 훈련시키기\n",
    "lr.fit(train_poly,train_target)\n",
    "\n",
    "# 훈련 및 테스트 정확도 확인하기\n",
    "train_score = lr.score(train_poly,train_target)\n",
    "test_score = lr.score(test_poly, test_target)\n",
    "\n",
    "print(train_score, test_score)"
   ]
  },
  {
   "cell_type": "markdown",
   "id": "0fbe21cb-8ae6-4e94-b4bc-b44d9d62710d",
   "metadata": {},
   "source": [
    "#### 해석\n",
    "\n",
    "- 농어의 길이(독립 변수)로 무게(종속 변수)를 예측하는 다항회귀모델을 만들고 있다.\n",
    "\n",
    "- 훈련 데이터가 테스트 데이터보다 약 0.007 정도 작기 때문에 과소적합이 미세하게 나타나고 있음\n",
    "\n",
    "- 매우 미세한 차이의 과소적합인 경우에는 그대로 사용해도 무방하지만, 그래도 성능 향상을 고려해 볼 필요성은 있다.\n",
    "\n",
    "- 해소방법 : 데이터 늘리기, 그대로 사용하기(미세한 경우), 다른 모델 찾아서 적용하기"
   ]
  },
  {
   "cell_type": "code",
   "execution_count": 27,
   "id": "6486cd63-89bc-4a0f-8c1f-6ab1023ff8ce",
   "metadata": {},
   "outputs": [
    {
     "data": {
      "text/plain": [
       "array([1573.98423528])"
      ]
     },
     "execution_count": 27,
     "metadata": {},
     "output_type": "execute_result"
    }
   ],
   "source": [
    "### 임의의 값 길이 50cm 예측하기\n",
    "# - 임의 데이터로 예측할 때에도 훈련에 사용된 독립변수의 형태와 같게 해야 한다.\n",
    "\n",
    "pred = lr.predict([[50**2,50]])\n",
    "pred"
   ]
  },
  {
   "cell_type": "code",
   "execution_count": 29,
   "id": "56de87e5-517a-41e9-b8e5-7d2e6775199b",
   "metadata": {},
   "outputs": [
    {
     "data": {
      "text/plain": [
       "(1.0143321093767304, -21.557924978837356, 116.05021078278259)"
      ]
     },
     "execution_count": 29,
     "metadata": {},
     "output_type": "execute_result"
    }
   ],
   "source": [
    "### 계수(a, b 기울기 및 y절편) 추출하기\n",
    "# - 기울기\n",
    "a = lr.coef_[0]\n",
    "b = lr.coef_[1]\n",
    "\n",
    "# - y절편\n",
    "c = lr.intercept_\n",
    "\n",
    "a,b,c"
   ]
  },
  {
   "cell_type": "code",
   "execution_count": 36,
   "id": "ad2c7704-f652-480c-8ff3-51134583f07b",
   "metadata": {},
   "outputs": [
    {
     "data": {
      "image/png": "[encoded data removed]",
      "text/plain": [
       "<Figure size 640x480 with 1 Axes>"
      ]
     },
     "metadata": {},
     "output_type": "display_data"
    }
   ],
   "source": [
    "### 추세선 그리기\n",
    "### 원본 데이터와 임의 데이터 산점도로 시각화하기\n",
    "# - 원본\n",
    "plt.scatter(train_input_2d,train_target,c='red', label='원본')\n",
    "# - 임의 데이터\n",
    "plt.scatter(50, pred[0], marker='^', c='green', label='임의 데이터')\n",
    "\n",
    "# - 추세선(기울기, 절편)\n",
    "# - 곡선의 x축값 범위 생성하기 : 0~50 범위의 리스트\n",
    "point = np.arange(0,51)\n",
    "plt.plot(point, a*point**2+b*point+c, c='blue')\n",
    "\n",
    "plt.grid()\n",
    "plt.xlabel('길이')\n",
    "plt.ylabel('무게')\n",
    "plt.show();"
   ]
  },
  {
   "cell_type": "markdown",
   "id": "f7aa35c5-a4f5-49dc-ab2e-af7b654a5797",
   "metadata": {},
   "source": [
    "### <다항회귀모델 결론>\n",
    "\n",
    "- 단일회귀모델에 비하여 음의 값이 나올 수(예측) 있는 부분을 해소함\n",
    "\n",
    "- 예측 결과 또한 정확한 것으로 판단되는 모델임\n",
    "\n",
    "- 다만, 과소적합이 미세하게 나타나기에 모델로 사용하기에는 부적합한 부분이 있음\n",
    "\n",
    "- 해소 가능한 방법\n",
    "\n",
    "    - 과대/과소적합을 해소할 수 있는 방법으로는 row 데이터를 증가하는 것은 현재 어렵다고 판단되며,\n",
    "     \n",
    "    - col(열, 특성) 데이터를 늘리는 방법으로 해볼 수 있음\n",
    "    \n",
    "        - 특성을 늘린다는 개념은 빅데이터 공학에서 \"특성 공학\"이라는 개념을 적용한다.\n",
    "    \n",
    "        - 특성을 늘림으로써 모델이 더 복잡하게, 즉 집중력을 가지고 패턴을 찾을 수 있도록 한다.\n",
    "    \n",
    "        - 특성을 늘려서 분석하는 모델로는 다중회귀 모델이 있다(단일 회귀의 확장이라고 생각하면 됨).\n",
    "\n",
    "    - 또 다른 방법\n",
    "\n",
    "        - 특성을 늘린다는 의미는 집중력, 즉 복잡도를 늘린다는 개념으로 적용된다.\n",
    "\n",
    "        - 특성이 많을수록 모델이 패턴을 찾기 위해 많은 반복 훈련을 수행한다 -> 이를 복잡도라고 생각하면 된다.\n",
    "\n",
    "        - 복잡도라는 속성(하이퍼 파라미터)을 이용하여 복잡도를 크게 또는 작게 할 수 있다.\n",
    "\n",
    "        - 복잡도를 적용한 모델 --> 릿지와 라쏘가 있다."
   ]
  },
  {
   "cell_type": "markdown",
   "id": "caf243eb-4fa3-4fcb-ad9c-efdf1dade3f2",
   "metadata": {},
   "source": [
    "#### 데이터 용어 정의\n",
    "\n",
    "- 컬럼 = 특성 = feature\n",
    "\n",
    "- 일반 데이터베이스 : 컬럼\n",
    "\n",
    "- 머신 러닝 : 특성\n",
    "\n",
    "- 딥러닝 : feature"
   ]
  },
  {
   "cell_type": "code",
   "execution_count": null,
   "id": "6f43f109-ffaf-4bfd-9cbc-8429289925cc",
   "metadata": {},
   "outputs": [],
   "source": []
  }
 ],
 "metadata": {
  "kernelspec": {
   "display_name": "Python 3 (ipykernel)",
   "language": "python",
   "name": "python3"
  },
  "language_info": {
   "codemirror_mode": {
    "name": "ipython",
    "version": 3
   },
   "file_extension": ".py",
   "mimetype": "text/x-python",
   "name": "python",
   "nbconvert_exporter": "python",
   "pygments_lexer": "ipython3",
   "version": "3.11.8"
  }
 },
 "nbformat": 4,
 "nbformat_minor": 5
}

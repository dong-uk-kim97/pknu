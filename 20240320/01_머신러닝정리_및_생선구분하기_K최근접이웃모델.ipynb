{
 "cells": [
  {
   "cell_type": "markdown",
   "id": "5aa39674-04bb-4fc1-bcfc-dc5fbdf51c12",
   "metadata": {},
   "source": [
    "## <머신러닝에서 사용되는 모델>\n",
    "\n",
    "    - 지도 학습\n",
    "        \n",
    "        -- 정형데이터\n",
    "            \n",
    "            --- 연속형 데이터 \n",
    "\n",
    "                --- 회귀모델 사용\n",
    "\n",
    "                    [회귀모델 종류]\n",
    "\n",
    "                    * 단일회귀모델\n",
    "\n",
    "                    * 다항회귀모델\n",
    "                    \n",
    "                    * 다중회귀모델\n",
    "                    \n",
    "                    * 릿지\n",
    "                    \n",
    "                    * 라쏘\n",
    "                    \n",
    "                    * k-최근접 이웃 모델\n",
    "                    \n",
    "                    * 앙상블 회귀모델\n",
    "\n",
    "                        - 랜덤포레스트, 엑스트라 트리, 그레디언트부스팅, 히스토그램 그레디언트부스팅\n",
    "            \n",
    "            --- 범주형 데이터 \n",
    "\n",
    "                ---- 분류모델 사용\n",
    "                \n",
    "                    [분류모델 사용]\n",
    "\n",
    "                    * 로지스틱 회귀모델\n",
    "                    \n",
    "                    * k-최근접 이웃 회귀모델\n",
    "                    \n",
    "                    * 결정 트리\n",
    "                    \n",
    "                    * 앙상블 분류 모델\n",
    "\n",
    "                        - 랜덤포레스트, 엑스트라 트리, 그레디언트부스팅, 히스토그램 그레디언트부스팅, xgboost\n",
    "\n",
    "\n",
    "    - 비지도학습\n",
    "        \n",
    "        -- 비정형데이터\n",
    "\n",
    "            --- 영상, 음성, 문서\n",
    "            \n",
    "                --- [군집모델 종류]\n",
    "\n",
    "                    * K-Means(K-평균) 군집모델\n",
    "\n",
    "                \n",
    "                "
   ]
  },
  {
   "cell_type": "markdown",
   "id": "4509c45d-f5fd-4114-9bf7-29b1b5ec0080",
   "metadata": {},
   "source": [
    "### <생선 구분하기>\n",
    "\n",
    "- 특성(컬럼) : 생선이름, 생선길이, 생선 무게\n",
    "\n",
    "- 길이와 무게로 생선이름 맞추기\n",
    "\n",
    "- 독립변수(x) = 길이, 무게\n",
    "\n",
    "- 종속변수(y) =  생선이름(도미와 빙어 구분하기)\n",
    "\n",
    "- 종속변수가 범주형 데이터, 즉 분류하는 모델 적용"
   ]
  },
  {
   "cell_type": "markdown",
   "id": "ed2b3c84-1bfb-40c0-99dd-1087044991e3",
   "metadata": {},
   "source": [
    "### <훈련모델 처리 순서>\n",
    "\n",
    "1. 데이터 수집\n",
    "\n",
    "2. 데이터 전처리 : 표준화(정규화) -> 특성(컬럼)들간의 데이터의 단위(scale)가 다른 경우 일정한 크기로 맞춰주는 처\n",
    "\n",
    "3. 데이터 분류 : 훈련/테스트(7:3 or 7.5:2.5 or 8:2) 또는 훈련/검증/테스트(6:2:2)로 데이터 분류\n",
    "\n",
    "4. 모델 생성 : 모델은 클래스 객체로 라이브러리화 되어 있음(모델 생성이라는 의미는 클래스 생성을 의미함)\n",
    "\n",
    "5. 모델 훈련(fit)\n",
    "\n",
    "6. 모델 평가\n",
    "\n",
    "7. 모델 튜닝(하이퍼파라미터 튜닝) : 하이퍼파라미터를 속성들이라고 생각하면 됨\n",
    "\n",
    "8. 5~7번 반복\n",
    "\n",
    "9. 모델 선정 : 분류모델 전체를 훈련 후 평가 결과가 가장 좋은 모델을 선정함\n",
    "\n",
    "10. 선정 모델로 최종 테스트(predict)"
   ]
  },
  {
   "cell_type": "code",
   "execution_count": 1,
   "id": "4218a8da-980b-4a81-92d5-a8691d9bc3fc",
   "metadata": {},
   "outputs": [],
   "source": [
    "### 데이터 불러들이기\n",
    "\n",
    "# - 도미의 길이와 무게 데이터\n",
    "\n",
    "# 도미 길이(cm)\n",
    "bream_length= [25.4, 26.3, 26.5, 29.0, 29.0, 29.7, 29.7, 30.0, \n",
    "                30.0, 30.7, 31.0, 31.0, 31.5, 32.0, 32.0, 32.0, \n",
    "                33.0, 33.0, 33.5, 33.5, 34.0, 34.0, 34.5, 35.0, \n",
    "                35.0, 35.0, 35.0, 36.0, 36.0, 37.0, 38.5, 38.5, \n",
    "                39.5, 41.0, 41.0]\n",
    "\n",
    "# 도미 무게(g)\n",
    "bream_weight = [242.0, 290.0, 340.0, 363.0, 430.0, 450.0, 500.0, \n",
    "                390.0, 450.0, 500.0, 475.0, 500.0, 500.0, 340.0, \n",
    "                600.0, 600.0, 700.0, 700.0, 610.0, 650.0, 575.0, \n",
    "                685.0, 620.0, 680.0, 700.0, 725.0, 720.0, 714.0, \n",
    "                850.0, 1000.0, 920.0, 955.0, 925.0, 975.0, 950.0]\n"
   ]
  },
  {
   "cell_type": "code",
   "execution_count": 2,
   "id": "207fad14-5cda-4525-8dbd-c1fea289ccc5",
   "metadata": {},
   "outputs": [
    {
     "name": "stdout",
     "output_type": "stream",
     "text": [
      "bream_length : 35\n",
      "bream_weight : 35\n"
     ]
    }
   ],
   "source": [
    "### 도미의 길이와 무게의 데이터 길이 확인하기\n",
    "\n",
    "print('bream_length :',len(bream_length))\n",
    "print('bream_weight :',len(bream_weight))"
   ]
  },
  {
   "cell_type": "code",
   "execution_count": 3,
   "id": "0633edbf-655e-4f14-ad41-1882ee9b95e8",
   "metadata": {},
   "outputs": [],
   "source": [
    "### 데이터 분포 확인하기"
   ]
  },
  {
   "cell_type": "code",
   "execution_count": 4,
   "id": "7963ed52-06df-4148-85e9-5d8db04c6148",
   "metadata": {},
   "outputs": [],
   "source": [
    "### 시각화 라이브러리\n",
    "\n",
    "import matplotlib.pyplot as plt\n",
    "%matplotlib inline"
   ]
  },
  {
   "cell_type": "code",
   "execution_count": 5,
   "id": "4fee4881-5ec6-48f4-b831-7b6b3d0aa587",
   "metadata": {},
   "outputs": [
    {
     "data": {
      "image/png": "[encoded data removed]",
      "text/plain": [
       "<Figure size 640x480 with 1 Axes>"
      ]
     },
     "metadata": {},
     "output_type": "display_data"
    }
   ],
   "source": [
    "# 도미 데이터 산점도 그래프 그리기 : scatter()\n",
    "\n",
    "plt.scatter(bream_length,bream_weight)\n",
    "\n",
    "# - x축 이름\n",
    "plt.xlabel('length')\n",
    "\n",
    "# - y축 이름\n",
    "plt.ylabel('weight')\n",
    "\n",
    "# - 그래프 보여줘~\n",
    "plt.show()"
   ]
  },
  {
   "cell_type": "markdown",
   "id": "c2420a1d-71b8-46d6-9a4d-1c2caab26779",
   "metadata": {},
   "source": [
    "#### 해석\n",
    "\n",
    "- length가 증가하면 weight가 증가하는 특징을 가지고 있음\n",
    "\n",
    "- 산점도의 분포 방향은 양 (+)의 방향을 띄고 있음(이를 양의 상관관계라고 한다).\n",
    "\n",
    "- 양(+)의 상관관계를 띄는 우상향 분포를 나타내고 있음\n",
    " \n",
    "- 우상향 형태의 선형 형태을 띄고 있음"
   ]
  },
  {
   "cell_type": "code",
   "execution_count": 6,
   "id": "4c4aeb90-70a0-4b7a-838e-d5eb7df102f2",
   "metadata": {},
   "outputs": [],
   "source": [
    "### 빙어 데이터 불러오기\n",
    "\n",
    "# 빙어 길이\n",
    "\n",
    "smelt_length = [9.8, 10.5, 10.6, 11.0, 11.2, 11.3, 11.8, 11.8, 12.0, 12.2, 12.4, 13.0, 14.3, 15.0]\n",
    "\n",
    "#빙어 무게 \n",
    "\n",
    "smelt_weight = [6.7, 7.5, 7.0, 9.7, 9.8, 8.7, 10.0, 9.9, 9.8, 12.2, 13.4, 12.2, 19.7, 19.9]"
   ]
  },
  {
   "cell_type": "code",
   "execution_count": 7,
   "id": "8a9d82ba-9c6a-439a-b7ff-e0fdd30a90c2",
   "metadata": {},
   "outputs": [
    {
     "data": {
      "text/plain": [
       "(14, 14)"
      ]
     },
     "execution_count": 7,
     "metadata": {},
     "output_type": "execute_result"
    }
   ],
   "source": [
    "### 길이와 무게 각 데이터의 갯수 확인하기 \n",
    "\n",
    "len(smelt_length),len(smelt_weight)"
   ]
  },
  {
   "cell_type": "code",
   "execution_count": 8,
   "id": "db87ac3f-c92c-40ac-8cae-629ca09ffd3f",
   "metadata": {},
   "outputs": [
    {
     "data": {
      "image/png": "[encoded data removed]",
      "text/plain": [
       "<Figure size 640x480 with 1 Axes>"
      ]
     },
     "metadata": {},
     "output_type": "display_data"
    }
   ],
   "source": [
    "# 빙어 데이터 산점도 그래프 그리기 : scatter()\n",
    "\n",
    "plt.scatter(smelt_length,smelt_weight)\n",
    "\n",
    "# - x축 이름\n",
    "plt.xlabel('length')\n",
    "\n",
    "# - y축 이름\n",
    "plt.ylabel('weight')\n",
    "\n",
    "# - 그래프 보여줘~\n",
    "plt.show()"
   ]
  },
  {
   "cell_type": "markdown",
   "id": "dc82cffd-89ac-405e-a776-e3df7640dc94",
   "metadata": {},
   "source": [
    "#### 해석\n",
    "\n",
    "- length가 증가하면 weight가 증가하는 특징을 가지고 있음\n",
    "\n",
    "- 산점도의 분포 방향은 양 (+)의 방향을 띄고 있음(이를 양의 상관관계라고 한다).\n",
    "\n",
    "- 양(+)의 상관관계를 띄는 우상향 분포를 나타내고 있음\n",
    " \n",
    "- 우상향 형태의 선형 형태을 띄고 있음\n",
    "\n",
    "- 13cm 기준으로 값이 떨어짐(이상치)"
   ]
  },
  {
   "cell_type": "code",
   "execution_count": 9,
   "id": "2ffa006b-1d7d-4745-a84c-26afa7a3fd78",
   "metadata": {},
   "outputs": [
    {
     "data": {
      "image/png": "[encoded data removed]",
      "text/plain": [
       "<Figure size 640x480 with 1 Axes>"
      ]
     },
     "metadata": {},
     "output_type": "display_data"
    }
   ],
   "source": [
    "### 도미와 빙어 데이터를 하나의 산점도 그래프로 그리기\n",
    "\n",
    "# - 도미는 빨강색으로 표시, 빙어는 파랑색으로 표시\n",
    "\n",
    "plt.rc('font', family='Malgun Gothic') \n",
    "plt.scatter(bream_length,bream_weight,c='red',label='도미')\n",
    "plt.scatter(smelt_length,smelt_weight,c='blue',label='빙어')\n",
    "\n",
    "# - x축 이름\n",
    "plt.xlabel('length')\n",
    "\n",
    "# - y축 이름\n",
    "plt.ylabel('weight')\n",
    "\n",
    "# - 범례 표시하기\n",
    "plt.legend(loc='best')\n",
    "\n",
    "# - 그래프 보여줘~\n",
    "plt.show();"
   ]
  },
  {
   "cell_type": "markdown",
   "id": "e631591b-c10d-4d6a-b94e-63ef71175470",
   "metadata": {},
   "source": [
    "#### 해석\n",
    "\n",
    "- 도미와 빙어는 모두 우상향 분포를 나타내고 있음\n",
    "\n",
    "- 도미의 경우 경사가 급한 반면, 빙어의 경우에는 경사(기울기)가 완만한 분포를 보이고 있음"
   ]
  },
  {
   "cell_type": "markdown",
   "id": "5178830a-eb6f-4126-8543-bfebc08eeb02",
   "metadata": {},
   "source": [
    "### 생선 분류하기; 분류모델 적용 -> 도미와 빙어 분류하기\n",
    "\n",
    "#### <KNN 분류모델 사용>\n",
    "\n",
    "- K최근접이웃 모델이라고 칭한다.\n",
    "\n",
    "- 머신러닝에서 가장 간단한 모델로 처음에 비교용으로 주로 사용되는 모델임\n",
    "\n",
    "- 실제 서비스용으로 사용하기에는 성능이 약한 모델임\n",
    "\n",
    "#### <KNN 처리방식>\n",
    "\n",
    "- 분류하고자 하는 값과 가장 가까운 이웃 갯수의 비율(또는 평균)을 이용\n",
    "\n",
    "- 비율이 가장 많은 쪽(다수결의 원칙을 따름)으로 판단하여 분류하는 방식임\n",
    "\n",
    "- 분류하고자 하는 값과 가장 가까운 이웃들을 K라고 한다.\n",
    "\n",
    "- k의 값은 분류시 기준이 되는 이웃의 갯수를 의미한다.\n",
    "\n",
    "- k값은 홀수값으로 지정해야 하며, 3이상의 값을 사용한다."
   ]
  },
  {
   "cell_type": "markdown",
   "id": "69dc8a11-b773-4af5-b848-e06e6224bd79",
   "metadata": {},
   "source": [
    "##### <훈련에 사용할 데이터>\n",
    "\n",
    "- x(독립변수) : 길이, 무게\n",
    "\n",
    "- y(종속변수) : 이름\n",
    "\n",
    "- 독립변수 도미와 빙어 데이터를 하나로 통합해야 함\n",
    "\n",
    "- 종속변수는 생성해야 함"
   ]
  },
  {
   "cell_type": "code",
   "execution_count": 10,
   "id": "56e69ec0-9286-4d8e-9639-fa30a3678058",
   "metadata": {},
   "outputs": [
    {
     "data": {
      "text/plain": [
       "(49, 49)"
      ]
     },
     "execution_count": 10,
     "metadata": {},
     "output_type": "execute_result"
    }
   ],
   "source": [
    "### 데이터 통합하기\n",
    "# - 도미와 빙어의 길이 데이터 합치기\n",
    "\n",
    "length = bream_length + smelt_length\n",
    "\n",
    "# - 도미와 빙어의 무게 데이터 합치기\n",
    "\n",
    "weight = bream_weight + smelt_weight\n",
    "\n",
    "\n",
    "len(length),len(weight)"
   ]
  },
  {
   "cell_type": "code",
   "execution_count": 11,
   "id": "dea3a84e-e2be-42f2-a7e9-28324f7b0eac",
   "metadata": {},
   "outputs": [
    {
     "name": "stdout",
     "output_type": "stream",
     "text": [
      "[25.4, 26.3, 26.5, 29.0, 29.0, 29.7, 29.7, 30.0, 30.0, 30.7, 31.0, 31.0, 31.5, 32.0, 32.0, 32.0, 33.0, 33.0, 33.5, 33.5, 34.0, 34.0, 34.5, 35.0, 35.0, 35.0, 35.0, 36.0, 36.0, 37.0, 38.5, 38.5, 39.5, 41.0, 41.0, 9.8, 10.5, 10.6, 11.0, 11.2, 11.3, 11.8, 11.8, 12.0, 12.2, 12.4, 13.0, 14.3, 15.0] \n",
      "\n",
      " [242.0, 290.0, 340.0, 363.0, 430.0, 450.0, 500.0, 390.0, 450.0, 500.0, 475.0, 500.0, 500.0, 340.0, 600.0, 600.0, 700.0, 700.0, 610.0, 650.0, 575.0, 685.0, 620.0, 680.0, 700.0, 725.0, 720.0, 714.0, 850.0, 1000.0, 920.0, 955.0, 925.0, 975.0, 950.0, 6.7, 7.5, 7.0, 9.7, 9.8, 8.7, 10.0, 9.9, 9.8, 12.2, 13.4, 12.2, 19.7, 19.9]\n"
     ]
    }
   ],
   "source": [
    "print(length,'\\n\\n',weight)"
   ]
  },
  {
   "cell_type": "markdown",
   "id": "1a187b6e-dba2-4090-a3aa-5842df45c21b",
   "metadata": {},
   "source": [
    "#### <머신러닝에서 사용하는 차원>\n",
    "\n",
    "- 독립변수 : 2차원\n",
    "           : [[길이,무게],[길이,무게],[길이,무게],...,[],[]]\n",
    "\n",
    "- 종속변수 : 1차원\n",
    "            [이름,이름,이름,...,이]"
   ]
  },
  {
   "cell_type": "code",
   "execution_count": 12,
   "id": "ce134df8-773f-4f1e-8c52-0c4063bd74e7",
   "metadata": {},
   "outputs": [
    {
     "data": {
      "text/plain": [
       "49"
      ]
     },
     "execution_count": 12,
     "metadata": {},
     "output_type": "execute_result"
    }
   ],
   "source": [
    "# 2차원 만들기 1\n",
    "fish_data = [[l,w] for l,w in zip(length,weight)]\n",
    "len(fish_data)\n",
    "\n",
    "# 2차원 만들기 2\n",
    "#fish_data = []\n",
    "#for i in range(0,len(lenth),1):\n",
    "#    fish_data.append([length[i],weight[i]])"
   ]
  },
  {
   "cell_type": "markdown",
   "id": "575efca1-405f-495c-beac-3323540af55b",
   "metadata": {},
   "source": [
    "#### <종속변수 데이터 생성하기>\n",
    "\n",
    "- 1차원으로 만들어야 한다.\n",
    "\n",
    "- 49개의 이름을 독립 변수의 인덱스 위치의 이름과 동일하게 만들어야 한다.\n",
    "\n",
    "- 머신러닝에서는 숫자값을 사용한다.\n",
    "\n",
    "- 도미는 1로, 빙어는 0으로 생성\n",
    "\n",
    "- 이진 분류 : 0과 1의 값을 사용\n",
    "\n",
    "- 다중 분류 : 0 ~ n의 값을 사용"
   ]
  },
  {
   "cell_type": "code",
   "execution_count": 13,
   "id": "853e03f2-4ba2-4ebf-9eb4-5cc00f75285b",
   "metadata": {},
   "outputs": [
    {
     "data": {
      "text/plain": [
       "(35, 14)"
      ]
     },
     "execution_count": 13,
     "metadata": {},
     "output_type": "execute_result"
    }
   ],
   "source": [
    "### 도미와 빙어의 갯수 확인하기\n",
    "len(bream_length),len(smelt_length)"
   ]
  },
  {
   "cell_type": "code",
   "execution_count": 14,
   "id": "b59e98a8-cbde-4f9c-be13-f3ea0d382ca3",
   "metadata": {},
   "outputs": [
    {
     "data": {
      "text/plain": [
       "49"
      ]
     },
     "execution_count": 14,
     "metadata": {},
     "output_type": "execute_result"
    }
   ],
   "source": [
    "fish_target =[]\n",
    "for i in range(0,len(length)):\n",
    "    if i<=34:\n",
    "        fish_target.append(1)\n",
    "    else:\n",
    "        fish_target.append(0)\n",
    "len(fish_target)"
   ]
  },
  {
   "cell_type": "markdown",
   "id": "0788e62f-c25e-4d2f-be89-bd358637eb87",
   "metadata": {},
   "source": [
    "### <모델 생성하기>\n",
    "\n",
    "- 사용하는 모델 : KNeighbors의 분류 모델 -> KNeighborsClassifier"
   ]
  },
  {
   "cell_type": "code",
   "execution_count": 15,
   "id": "2731d661-df12-4813-9c10-5fa1aec6ce75",
   "metadata": {},
   "outputs": [],
   "source": [
    "from sklearn.neighbors import KNeighborsClassifier"
   ]
  },
  {
   "cell_type": "code",
   "execution_count": 16,
   "id": "0f9e53e2-f283-4e96-abc9-8ad8e7ca3b40",
   "metadata": {},
   "outputs": [
    {
     "data": {
      "text/html": [
       "<style>#sk-container-id-1 {color: black;}#sk-container-id-1 pre{padding: 0;}#sk-container-id-1 div.sk-toggleable {background-color: white;}#sk-container-id-1 label.sk-toggleable__label {cursor: pointer;display: block;width: 100%;margin-bottom: 0;padding: 0.3em;box-sizing: border-box;text-align: center;}#sk-container-id-1 label.sk-toggleable__label-arrow:before {content: \"▸\";float: left;margin-right: 0.25em;color: #696969;}#sk-container-id-1 label.sk-toggleable__label-arrow:hover:before {color: black;}#sk-container-id-1 div.sk-estimator:hover label.sk-toggleable__label-arrow:before {color: black;}#sk-container-id-1 div.sk-toggleable__content {max-height: 0;max-width: 0;overflow: hidden;text-align: left;background-color: #f0f8ff;}#sk-container-id-1 div.sk-toggleable__content pre {margin: 0.2em;color: black;border-radius: 0.25em;background-color: #f0f8ff;}#sk-container-id-1 input.sk-toggleable__control:checked~div.sk-toggleable__content {max-height: 200px;max-width: 100%;overflow: auto;}#sk-container-id-1 input.sk-toggleable__control:checked~label.sk-toggleable__label-arrow:before {content: \"▾\";}#sk-container-id-1 div.sk-estimator input.sk-toggleable__control:checked~label.sk-toggleable__label {background-color: #d4ebff;}#sk-container-id-1 div.sk-label input.sk-toggleable__control:checked~label.sk-toggleable__label {background-color: #d4ebff;}#sk-container-id-1 input.sk-hidden--visually {border: 0;clip: rect(1px 1px 1px 1px);clip: rect(1px, 1px, 1px, 1px);height: 1px;margin: -1px;overflow: hidden;padding: 0;position: absolute;width: 1px;}#sk-container-id-1 div.sk-estimator {font-family: monospace;background-color: #f0f8ff;border: 1px dotted black;border-radius: 0.25em;box-sizing: border-box;margin-bottom: 0.5em;}#sk-container-id-1 div.sk-estimator:hover {background-color: #d4ebff;}#sk-container-id-1 div.sk-parallel-item::after {content: \"\";width: 100%;border-bottom: 1px solid gray;flex-grow: 1;}#sk-container-id-1 div.sk-label:hover label.sk-toggleable__label {background-color: #d4ebff;}#sk-container-id-1 div.sk-serial::before {content: \"\";position: absolute;border-left: 1px solid gray;box-sizing: border-box;top: 0;bottom: 0;left: 50%;z-index: 0;}#sk-container-id-1 div.sk-serial {display: flex;flex-direction: column;align-items: center;background-color: white;padding-right: 0.2em;padding-left: 0.2em;position: relative;}#sk-container-id-1 div.sk-item {position: relative;z-index: 1;}#sk-container-id-1 div.sk-parallel {display: flex;align-items: stretch;justify-content: center;background-color: white;position: relative;}#sk-container-id-1 div.sk-item::before, #sk-container-id-1 div.sk-parallel-item::before {content: \"\";position: absolute;border-left: 1px solid gray;box-sizing: border-box;top: 0;bottom: 0;left: 50%;z-index: -1;}#sk-container-id-1 div.sk-parallel-item {display: flex;flex-direction: column;z-index: 1;position: relative;background-color: white;}#sk-container-id-1 div.sk-parallel-item:first-child::after {align-self: flex-end;width: 50%;}#sk-container-id-1 div.sk-parallel-item:last-child::after {align-self: flex-start;width: 50%;}#sk-container-id-1 div.sk-parallel-item:only-child::after {width: 0;}#sk-container-id-1 div.sk-dashed-wrapped {border: 1px dashed gray;margin: 0 0.4em 0.5em 0.4em;box-sizing: border-box;padding-bottom: 0.4em;background-color: white;}#sk-container-id-1 div.sk-label label {font-family: monospace;font-weight: bold;display: inline-block;line-height: 1.2em;}#sk-container-id-1 div.sk-label-container {text-align: center;}#sk-container-id-1 div.sk-container {/* jupyter's `normalize.less` sets `[hidden] { display: none; }` but bootstrap.min.css set `[hidden] { display: none !important; }` so we also need the `!important` here to be able to override the default hidden behavior on the sphinx rendered scikit-learn.org. See: https://github.com/scikit-learn/scikit-learn/issues/21755 */display: inline-block !important;position: relative;}#sk-container-id-1 div.sk-text-repr-fallback {display: none;}</style><div id=\"sk-container-id-1\" class=\"sk-top-container\"><div class=\"sk-text-repr-fallback\"><pre>KNeighborsClassifier()</pre><b>In a Jupyter environment, please rerun this cell to show the HTML representation or trust the notebook. <br />On GitHub, the HTML representation is unable to render, please try loading this page with nbviewer.org.</b></div><div class=\"sk-container\" hidden><div class=\"sk-item\"><div class=\"sk-estimator sk-toggleable\"><input class=\"sk-toggleable__control sk-hidden--visually\" id=\"sk-estimator-id-1\" type=\"checkbox\" checked><label for=\"sk-estimator-id-1\" class=\"sk-toggleable__label sk-toggleable__label-arrow\">KNeighborsClassifier</label><div class=\"sk-toggleable__content\"><pre>KNeighborsClassifier()</pre></div></div></div></div></div>"
      ],
      "text/plain": [
       "KNeighborsClassifier()"
      ]
     },
     "execution_count": 16,
     "metadata": {},
     "output_type": "execute_result"
    }
   ],
   "source": [
    "kn = KNeighborsClassifier()\n",
    "kn"
   ]
  },
  {
   "cell_type": "markdown",
   "id": "99590993-b63e-4af4-8209-056e682cdfa6",
   "metadata": {},
   "source": [
    "#### 모델 훈련시키기\n",
    "\n",
    "- 지도학습인 경우 : fit(독립변수, 종속변수)\n",
    "\n",
    "- 비지도학습인 경우 : fit(독립변수)"
   ]
  },
  {
   "cell_type": "code",
   "execution_count": 17,
   "id": "5653b257-0cfb-4d7e-9706-f4b7b0d83d83",
   "metadata": {},
   "outputs": [
    {
     "data": {
      "text/html": [
       "<style>#sk-container-id-2 {color: black;}#sk-container-id-2 pre{padding: 0;}#sk-container-id-2 div.sk-toggleable {background-color: white;}#sk-container-id-2 label.sk-toggleable__label {cursor: pointer;display: block;width: 100%;margin-bottom: 0;padding: 0.3em;box-sizing: border-box;text-align: center;}#sk-container-id-2 label.sk-toggleable__label-arrow:before {content: \"▸\";float: left;margin-right: 0.25em;color: #696969;}#sk-container-id-2 label.sk-toggleable__label-arrow:hover:before {color: black;}#sk-container-id-2 div.sk-estimator:hover label.sk-toggleable__label-arrow:before {color: black;}#sk-container-id-2 div.sk-toggleable__content {max-height: 0;max-width: 0;overflow: hidden;text-align: left;background-color: #f0f8ff;}#sk-container-id-2 div.sk-toggleable__content pre {margin: 0.2em;color: black;border-radius: 0.25em;background-color: #f0f8ff;}#sk-container-id-2 input.sk-toggleable__control:checked~div.sk-toggleable__content {max-height: 200px;max-width: 100%;overflow: auto;}#sk-container-id-2 input.sk-toggleable__control:checked~label.sk-toggleable__label-arrow:before {content: \"▾\";}#sk-container-id-2 div.sk-estimator input.sk-toggleable__control:checked~label.sk-toggleable__label {background-color: #d4ebff;}#sk-container-id-2 div.sk-label input.sk-toggleable__control:checked~label.sk-toggleable__label {background-color: #d4ebff;}#sk-container-id-2 input.sk-hidden--visually {border: 0;clip: rect(1px 1px 1px 1px);clip: rect(1px, 1px, 1px, 1px);height: 1px;margin: -1px;overflow: hidden;padding: 0;position: absolute;width: 1px;}#sk-container-id-2 div.sk-estimator {font-family: monospace;background-color: #f0f8ff;border: 1px dotted black;border-radius: 0.25em;box-sizing: border-box;margin-bottom: 0.5em;}#sk-container-id-2 div.sk-estimator:hover {background-color: #d4ebff;}#sk-container-id-2 div.sk-parallel-item::after {content: \"\";width: 100%;border-bottom: 1px solid gray;flex-grow: 1;}#sk-container-id-2 div.sk-label:hover label.sk-toggleable__label {background-color: #d4ebff;}#sk-container-id-2 div.sk-serial::before {content: \"\";position: absolute;border-left: 1px solid gray;box-sizing: border-box;top: 0;bottom: 0;left: 50%;z-index: 0;}#sk-container-id-2 div.sk-serial {display: flex;flex-direction: column;align-items: center;background-color: white;padding-right: 0.2em;padding-left: 0.2em;position: relative;}#sk-container-id-2 div.sk-item {position: relative;z-index: 1;}#sk-container-id-2 div.sk-parallel {display: flex;align-items: stretch;justify-content: center;background-color: white;position: relative;}#sk-container-id-2 div.sk-item::before, #sk-container-id-2 div.sk-parallel-item::before {content: \"\";position: absolute;border-left: 1px solid gray;box-sizing: border-box;top: 0;bottom: 0;left: 50%;z-index: -1;}#sk-container-id-2 div.sk-parallel-item {display: flex;flex-direction: column;z-index: 1;position: relative;background-color: white;}#sk-container-id-2 div.sk-parallel-item:first-child::after {align-self: flex-end;width: 50%;}#sk-container-id-2 div.sk-parallel-item:last-child::after {align-self: flex-start;width: 50%;}#sk-container-id-2 div.sk-parallel-item:only-child::after {width: 0;}#sk-container-id-2 div.sk-dashed-wrapped {border: 1px dashed gray;margin: 0 0.4em 0.5em 0.4em;box-sizing: border-box;padding-bottom: 0.4em;background-color: white;}#sk-container-id-2 div.sk-label label {font-family: monospace;font-weight: bold;display: inline-block;line-height: 1.2em;}#sk-container-id-2 div.sk-label-container {text-align: center;}#sk-container-id-2 div.sk-container {/* jupyter's `normalize.less` sets `[hidden] { display: none; }` but bootstrap.min.css set `[hidden] { display: none !important; }` so we also need the `!important` here to be able to override the default hidden behavior on the sphinx rendered scikit-learn.org. See: https://github.com/scikit-learn/scikit-learn/issues/21755 */display: inline-block !important;position: relative;}#sk-container-id-2 div.sk-text-repr-fallback {display: none;}</style><div id=\"sk-container-id-2\" class=\"sk-top-container\"><div class=\"sk-text-repr-fallback\"><pre>KNeighborsClassifier()</pre><b>In a Jupyter environment, please rerun this cell to show the HTML representation or trust the notebook. <br />On GitHub, the HTML representation is unable to render, please try loading this page with nbviewer.org.</b></div><div class=\"sk-container\" hidden><div class=\"sk-item\"><div class=\"sk-estimator sk-toggleable\"><input class=\"sk-toggleable__control sk-hidden--visually\" id=\"sk-estimator-id-2\" type=\"checkbox\" checked><label for=\"sk-estimator-id-2\" class=\"sk-toggleable__label sk-toggleable__label-arrow\">KNeighborsClassifier</label><div class=\"sk-toggleable__content\"><pre>KNeighborsClassifier()</pre></div></div></div></div></div>"
      ],
      "text/plain": [
       "KNeighborsClassifier()"
      ]
     },
     "execution_count": 17,
     "metadata": {},
     "output_type": "execute_result"
    }
   ],
   "source": [
    "### 모델이 알아서 패턴을 찾는 훈련을 수행한다.\n",
    "kn.fit(fish_data, fish_target)"
   ]
  },
  {
   "cell_type": "markdown",
   "id": "80bdc3ae-975b-4759-b1a6-4fe4b5290b79",
   "metadata": {},
   "source": [
    "#### 정확도 확인하기\n",
    "\n",
    "- 분류에서 정확도는 score(독립변수, 종속변수) 함수 사용"
   ]
  },
  {
   "cell_type": "code",
   "execution_count": 18,
   "id": "5de778bc-fb8a-4795-a88e-f1c3105ab2d6",
   "metadata": {},
   "outputs": [
    {
     "data": {
      "text/plain": [
       "1.0"
      ]
     },
     "execution_count": 18,
     "metadata": {},
     "output_type": "execute_result"
    }
   ],
   "source": [
    "### 분류 정확도\n",
    "kn.score(fish_data,fish_target)"
   ]
  },
  {
   "cell_type": "markdown",
   "id": "b820e96c-5dea-40dc-b3ad-44e3a3addf1f",
   "metadata": {},
   "source": [
    "#### 해석\n",
    "\n",
    "- 분류에서 정확도 범위 : 0 ~ 1 (0% ~ 100%) 사이의 값이 출력됨\n",
    "\n",
    "- 1에 가까울수록 정확도가 높다고 판단한다.\n",
    "\n",
    "- 즉, 성능이 좋은 훈련 모델이라고 판단"
   ]
  },
  {
   "cell_type": "code",
   "execution_count": 19,
   "id": "d3cca24e-344d-43cd-af83-f0cfa2ad7160",
   "metadata": {},
   "outputs": [
    {
     "data": {
      "text/plain": [
       "array([1])"
      ]
     },
     "execution_count": 19,
     "metadata": {},
     "output_type": "execute_result"
    }
   ],
   "source": [
    "### 임의 데이터를 이용해서 분류해보기(테스트)\n",
    "# - 예측함수 : predict(임의 독립변수) 사용\n",
    "kn.predict([[30,600]])"
   ]
  },
  {
   "cell_type": "markdown",
   "id": "7d333dbe-7619-45c1-9eaa-a23ee732ac84",
   "metadata": {},
   "source": [
    "#### 해석\n",
    "\n",
    "- 출력 결과값이 \"종속변수\" 값, 예측값(분류값)이라고 칭한다."
   ]
  },
  {
   "cell_type": "code",
   "execution_count": 20,
   "id": "dc9fa98a-6483-4b1e-962b-7db045f46df1",
   "metadata": {},
   "outputs": [
    {
     "data": {
      "image/png": "[encoded data removed]",
      "text/plain": [
       "<Figure size 640x480 with 1 Axes>"
      ]
     },
     "metadata": {},
     "output_type": "display_data"
    }
   ],
   "source": [
    "plt.scatter(bream_length,bream_weight,c='red',label='도미')\n",
    "plt.scatter(smelt_length,smelt_weight,c='blue',label='빙어')\n",
    "plt.scatter(30,600, c='green', marker='^',label='예측')\n",
    "\n",
    "# - x축 이름\n",
    "plt.xlabel('length')\n",
    "\n",
    "# - y축 이름\n",
    "plt.ylabel('weight')\n",
    "\n",
    "# - 범례 표시하기\n",
    "plt.legend(loc='best')\n",
    "\n",
    "plt.show();"
   ]
  },
  {
   "cell_type": "markdown",
   "id": "7bfd0b37-f40b-4d72-9a03-b5135c33a864",
   "metadata": {},
   "source": [
    "#### 해석\n",
    "\n",
    "- 임의의 예측 데이터가 위치한 곳의 이웃의 갯수를 확인\n",
    "\n",
    "- 비율이 높은 쪽의 이름을 분류하게 됨\n",
    "\n",
    "- K(이웃의 갯수)는 기본(default)로 5개가 사용된다(지정 안할 경우)."
   ]
  },
  {
   "cell_type": "markdown",
   "id": "89d19d88-e23f-4adf-a14a-15a13a6f488b",
   "metadata": {},
   "source": [
    "### 하이퍼 파라미터 튜닝\n",
    "\n",
    "- 모델 성능을 향상시키는 방법\n",
    "\n",
    "- 과대적합 또는 과소적합이 일어난 경우 튜닝 진행\n",
    "\n",
    "- 모델(클래스)의 속성(변수) 중에 사람이 직접 값을 지정해 주어야 하는 변수들을 통칭해서 하이퍼 파라미터라고 칭한다.\n",
    "\n",
    "- 과대적합 : 정확도가 1인 경우 \n"
   ]
  },
  {
   "cell_type": "code",
   "execution_count": 21,
   "id": "80e1d4ec-1eb2-454a-b45e-b8bce7db4719",
   "metadata": {},
   "outputs": [
    {
     "data": {
      "text/html": [
       "<style>#sk-container-id-3 {color: black;}#sk-container-id-3 pre{padding: 0;}#sk-container-id-3 div.sk-toggleable {background-color: white;}#sk-container-id-3 label.sk-toggleable__label {cursor: pointer;display: block;width: 100%;margin-bottom: 0;padding: 0.3em;box-sizing: border-box;text-align: center;}#sk-container-id-3 label.sk-toggleable__label-arrow:before {content: \"▸\";float: left;margin-right: 0.25em;color: #696969;}#sk-container-id-3 label.sk-toggleable__label-arrow:hover:before {color: black;}#sk-container-id-3 div.sk-estimator:hover label.sk-toggleable__label-arrow:before {color: black;}#sk-container-id-3 div.sk-toggleable__content {max-height: 0;max-width: 0;overflow: hidden;text-align: left;background-color: #f0f8ff;}#sk-container-id-3 div.sk-toggleable__content pre {margin: 0.2em;color: black;border-radius: 0.25em;background-color: #f0f8ff;}#sk-container-id-3 input.sk-toggleable__control:checked~div.sk-toggleable__content {max-height: 200px;max-width: 100%;overflow: auto;}#sk-container-id-3 input.sk-toggleable__control:checked~label.sk-toggleable__label-arrow:before {content: \"▾\";}#sk-container-id-3 div.sk-estimator input.sk-toggleable__control:checked~label.sk-toggleable__label {background-color: #d4ebff;}#sk-container-id-3 div.sk-label input.sk-toggleable__control:checked~label.sk-toggleable__label {background-color: #d4ebff;}#sk-container-id-3 input.sk-hidden--visually {border: 0;clip: rect(1px 1px 1px 1px);clip: rect(1px, 1px, 1px, 1px);height: 1px;margin: -1px;overflow: hidden;padding: 0;position: absolute;width: 1px;}#sk-container-id-3 div.sk-estimator {font-family: monospace;background-color: #f0f8ff;border: 1px dotted black;border-radius: 0.25em;box-sizing: border-box;margin-bottom: 0.5em;}#sk-container-id-3 div.sk-estimator:hover {background-color: #d4ebff;}#sk-container-id-3 div.sk-parallel-item::after {content: \"\";width: 100%;border-bottom: 1px solid gray;flex-grow: 1;}#sk-container-id-3 div.sk-label:hover label.sk-toggleable__label {background-color: #d4ebff;}#sk-container-id-3 div.sk-serial::before {content: \"\";position: absolute;border-left: 1px solid gray;box-sizing: border-box;top: 0;bottom: 0;left: 50%;z-index: 0;}#sk-container-id-3 div.sk-serial {display: flex;flex-direction: column;align-items: center;background-color: white;padding-right: 0.2em;padding-left: 0.2em;position: relative;}#sk-container-id-3 div.sk-item {position: relative;z-index: 1;}#sk-container-id-3 div.sk-parallel {display: flex;align-items: stretch;justify-content: center;background-color: white;position: relative;}#sk-container-id-3 div.sk-item::before, #sk-container-id-3 div.sk-parallel-item::before {content: \"\";position: absolute;border-left: 1px solid gray;box-sizing: border-box;top: 0;bottom: 0;left: 50%;z-index: -1;}#sk-container-id-3 div.sk-parallel-item {display: flex;flex-direction: column;z-index: 1;position: relative;background-color: white;}#sk-container-id-3 div.sk-parallel-item:first-child::after {align-self: flex-end;width: 50%;}#sk-container-id-3 div.sk-parallel-item:last-child::after {align-self: flex-start;width: 50%;}#sk-container-id-3 div.sk-parallel-item:only-child::after {width: 0;}#sk-container-id-3 div.sk-dashed-wrapped {border: 1px dashed gray;margin: 0 0.4em 0.5em 0.4em;box-sizing: border-box;padding-bottom: 0.4em;background-color: white;}#sk-container-id-3 div.sk-label label {font-family: monospace;font-weight: bold;display: inline-block;line-height: 1.2em;}#sk-container-id-3 div.sk-label-container {text-align: center;}#sk-container-id-3 div.sk-container {/* jupyter's `normalize.less` sets `[hidden] { display: none; }` but bootstrap.min.css set `[hidden] { display: none !important; }` so we also need the `!important` here to be able to override the default hidden behavior on the sphinx rendered scikit-learn.org. See: https://github.com/scikit-learn/scikit-learn/issues/21755 */display: inline-block !important;position: relative;}#sk-container-id-3 div.sk-text-repr-fallback {display: none;}</style><div id=\"sk-container-id-3\" class=\"sk-top-container\"><div class=\"sk-text-repr-fallback\"><pre>KNeighborsClassifier(n_neighbors=21)</pre><b>In a Jupyter environment, please rerun this cell to show the HTML representation or trust the notebook. <br />On GitHub, the HTML representation is unable to render, please try loading this page with nbviewer.org.</b></div><div class=\"sk-container\" hidden><div class=\"sk-item\"><div class=\"sk-estimator sk-toggleable\"><input class=\"sk-toggleable__control sk-hidden--visually\" id=\"sk-estimator-id-3\" type=\"checkbox\" checked><label for=\"sk-estimator-id-3\" class=\"sk-toggleable__label sk-toggleable__label-arrow\">KNeighborsClassifier</label><div class=\"sk-toggleable__content\"><pre>KNeighborsClassifier(n_neighbors=21)</pre></div></div></div></div></div>"
      ],
      "text/plain": [
       "KNeighborsClassifier(n_neighbors=21)"
      ]
     },
     "execution_count": 21,
     "metadata": {},
     "output_type": "execute_result"
    }
   ],
   "source": [
    "### KNN 분류 모델 생성하기\n",
    "# - n_neighbors : 이웃의 갯수 (하이퍼 파라미터)\n",
    "\n",
    "kn21 = KNeighborsClassifier(n_neighbors=21)\n",
    "kn21"
   ]
  },
  {
   "cell_type": "code",
   "execution_count": 22,
   "id": "af0e1638-a3ae-4495-b507-5b4e29807ddd",
   "metadata": {},
   "outputs": [
    {
     "data": {
      "text/html": [
       "<style>#sk-container-id-4 {color: black;}#sk-container-id-4 pre{padding: 0;}#sk-container-id-4 div.sk-toggleable {background-color: white;}#sk-container-id-4 label.sk-toggleable__label {cursor: pointer;display: block;width: 100%;margin-bottom: 0;padding: 0.3em;box-sizing: border-box;text-align: center;}#sk-container-id-4 label.sk-toggleable__label-arrow:before {content: \"▸\";float: left;margin-right: 0.25em;color: #696969;}#sk-container-id-4 label.sk-toggleable__label-arrow:hover:before {color: black;}#sk-container-id-4 div.sk-estimator:hover label.sk-toggleable__label-arrow:before {color: black;}#sk-container-id-4 div.sk-toggleable__content {max-height: 0;max-width: 0;overflow: hidden;text-align: left;background-color: #f0f8ff;}#sk-container-id-4 div.sk-toggleable__content pre {margin: 0.2em;color: black;border-radius: 0.25em;background-color: #f0f8ff;}#sk-container-id-4 input.sk-toggleable__control:checked~div.sk-toggleable__content {max-height: 200px;max-width: 100%;overflow: auto;}#sk-container-id-4 input.sk-toggleable__control:checked~label.sk-toggleable__label-arrow:before {content: \"▾\";}#sk-container-id-4 div.sk-estimator input.sk-toggleable__control:checked~label.sk-toggleable__label {background-color: #d4ebff;}#sk-container-id-4 div.sk-label input.sk-toggleable__control:checked~label.sk-toggleable__label {background-color: #d4ebff;}#sk-container-id-4 input.sk-hidden--visually {border: 0;clip: rect(1px 1px 1px 1px);clip: rect(1px, 1px, 1px, 1px);height: 1px;margin: -1px;overflow: hidden;padding: 0;position: absolute;width: 1px;}#sk-container-id-4 div.sk-estimator {font-family: monospace;background-color: #f0f8ff;border: 1px dotted black;border-radius: 0.25em;box-sizing: border-box;margin-bottom: 0.5em;}#sk-container-id-4 div.sk-estimator:hover {background-color: #d4ebff;}#sk-container-id-4 div.sk-parallel-item::after {content: \"\";width: 100%;border-bottom: 1px solid gray;flex-grow: 1;}#sk-container-id-4 div.sk-label:hover label.sk-toggleable__label {background-color: #d4ebff;}#sk-container-id-4 div.sk-serial::before {content: \"\";position: absolute;border-left: 1px solid gray;box-sizing: border-box;top: 0;bottom: 0;left: 50%;z-index: 0;}#sk-container-id-4 div.sk-serial {display: flex;flex-direction: column;align-items: center;background-color: white;padding-right: 0.2em;padding-left: 0.2em;position: relative;}#sk-container-id-4 div.sk-item {position: relative;z-index: 1;}#sk-container-id-4 div.sk-parallel {display: flex;align-items: stretch;justify-content: center;background-color: white;position: relative;}#sk-container-id-4 div.sk-item::before, #sk-container-id-4 div.sk-parallel-item::before {content: \"\";position: absolute;border-left: 1px solid gray;box-sizing: border-box;top: 0;bottom: 0;left: 50%;z-index: -1;}#sk-container-id-4 div.sk-parallel-item {display: flex;flex-direction: column;z-index: 1;position: relative;background-color: white;}#sk-container-id-4 div.sk-parallel-item:first-child::after {align-self: flex-end;width: 50%;}#sk-container-id-4 div.sk-parallel-item:last-child::after {align-self: flex-start;width: 50%;}#sk-container-id-4 div.sk-parallel-item:only-child::after {width: 0;}#sk-container-id-4 div.sk-dashed-wrapped {border: 1px dashed gray;margin: 0 0.4em 0.5em 0.4em;box-sizing: border-box;padding-bottom: 0.4em;background-color: white;}#sk-container-id-4 div.sk-label label {font-family: monospace;font-weight: bold;display: inline-block;line-height: 1.2em;}#sk-container-id-4 div.sk-label-container {text-align: center;}#sk-container-id-4 div.sk-container {/* jupyter's `normalize.less` sets `[hidden] { display: none; }` but bootstrap.min.css set `[hidden] { display: none !important; }` so we also need the `!important` here to be able to override the default hidden behavior on the sphinx rendered scikit-learn.org. See: https://github.com/scikit-learn/scikit-learn/issues/21755 */display: inline-block !important;position: relative;}#sk-container-id-4 div.sk-text-repr-fallback {display: none;}</style><div id=\"sk-container-id-4\" class=\"sk-top-container\"><div class=\"sk-text-repr-fallback\"><pre>KNeighborsClassifier(n_neighbors=21)</pre><b>In a Jupyter environment, please rerun this cell to show the HTML representation or trust the notebook. <br />On GitHub, the HTML representation is unable to render, please try loading this page with nbviewer.org.</b></div><div class=\"sk-container\" hidden><div class=\"sk-item\"><div class=\"sk-estimator sk-toggleable\"><input class=\"sk-toggleable__control sk-hidden--visually\" id=\"sk-estimator-id-4\" type=\"checkbox\" checked><label for=\"sk-estimator-id-4\" class=\"sk-toggleable__label sk-toggleable__label-arrow\">KNeighborsClassifier</label><div class=\"sk-toggleable__content\"><pre>KNeighborsClassifier(n_neighbors=21)</pre></div></div></div></div></div>"
      ],
      "text/plain": [
       "KNeighborsClassifier(n_neighbors=21)"
      ]
     },
     "execution_count": 22,
     "metadata": {},
     "output_type": "execute_result"
    }
   ],
   "source": [
    "### KNN 분류모델 훈련시키기\n",
    "\n",
    "kn21.fit(fish_data, fish_target)"
   ]
  },
  {
   "cell_type": "code",
   "execution_count": 24,
   "id": "52bcd1c0-9c1d-458c-9bf7-7d1a39aff721",
   "metadata": {},
   "outputs": [
    {
     "data": {
      "text/plain": [
       "0.9795918367346939"
      ]
     },
     "execution_count": 24,
     "metadata": {},
     "output_type": "execute_result"
    }
   ],
   "source": [
    "### 훈련모델 정확도 확인하기\n",
    "\n",
    "kn21.score(fish_data,fish_target)"
   ]
  },
  {
   "cell_type": "markdown",
   "id": "a1482022-2530-4d8b-82d5-a6198dec77d4",
   "metadata": {},
   "source": [
    "#### 해석\n",
    "\n",
    "- 도미와 빙어의 무게와 길이 데이터를 이용한 분류시 \n",
    "\n",
    "- KNN 분류모델의 이웃의 갯수(k)를 21개를 사용하였을 때\n",
    "\n",
    "- 정확도 0.98의 매우 우수한 모델로 판단된다."
   ]
  },
  {
   "cell_type": "code",
   "execution_count": 25,
   "id": "1975c24e-15a9-41fa-8ef2-9bb27b633727",
   "metadata": {},
   "outputs": [
    {
     "data": {
      "text/plain": [
       "array([1])"
      ]
     },
     "execution_count": 25,
     "metadata": {},
     "output_type": "execute_result"
    }
   ],
   "source": [
    "### 임의 데이터 30cm, 600g을 분류하기\n",
    "\n",
    "kn21.predict([[30,600]])"
   ]
  },
  {
   "cell_type": "markdown",
   "id": "80d75e5a-ddaf-496e-9c64-c778f2d59525",
   "metadata": {},
   "source": [
    "#### 해석\n",
    "\n",
    "- 임의 독립변수를 이용한 예측 결과는 1로 도미로 분류 되었음.\n",
    "\n"
   ]
  },
  {
   "cell_type": "code",
   "execution_count": 26,
   "id": "b0e69e93-ccd0-44fb-a491-56edacc609d8",
   "metadata": {},
   "outputs": [
    {
     "data": {
      "text/plain": [
       "0.7142857142857143"
      ]
     },
     "execution_count": 26,
     "metadata": {},
     "output_type": "execute_result"
    }
   ],
   "source": [
    "### 이웃의 갯수 41개를 이용하여, 훈련, 평가, 임의 데이터로 분류\n",
    "\n",
    "kn41 = KNeighborsClassifier(n_neighbors=41)\n",
    "\n",
    "kn41.fit(fish_data,fish_target)\n",
    "\n",
    "kn41.score(fish_data,fish_target)"
   ]
  },
  {
   "cell_type": "code",
   "execution_count": 27,
   "id": "0fcc6de5-cfbb-4df9-8a1b-4208ec61c061",
   "metadata": {},
   "outputs": [
    {
     "data": {
      "text/plain": [
       "0.7142857142857143"
      ]
     },
     "execution_count": 27,
     "metadata": {},
     "output_type": "execute_result"
    }
   ],
   "source": [
    "kn41.n_neighbors=41\n",
    "\n",
    "kn41.fit(fish_data,fish_target)\n",
    "\n",
    "kn41.score(fish_data,fish_target)"
   ]
  },
  {
   "cell_type": "code",
   "execution_count": 29,
   "id": "db715b1a-d90d-42c0-bb67-f70bed13b8b2",
   "metadata": {},
   "outputs": [
    {
     "data": {
      "text/plain": [
       "1.0"
      ]
     },
     "execution_count": 29,
     "metadata": {},
     "output_type": "execute_result"
    }
   ],
   "source": [
    "kn41.n_neighbors=15\n",
    "\n",
    "kn41.fit(fish_data,fish_target)\n",
    "\n",
    "kn41.score(fish_data,fish_target)"
   ]
  },
  {
   "cell_type": "code",
   "execution_count": 30,
   "id": "02af1967-b8af-477d-9efb-fa67fdba84fa",
   "metadata": {},
   "outputs": [
    {
     "data": {
      "text/plain": [
       "1.0"
      ]
     },
     "execution_count": 30,
     "metadata": {},
     "output_type": "execute_result"
    }
   ],
   "source": [
    "kn41.n_neighbors=5\n",
    "\n",
    "kn41.fit(fish_data,fish_target)\n",
    "\n",
    "kn41.score(fish_data,fish_target)"
   ]
  },
  {
   "cell_type": "code",
   "execution_count": 31,
   "id": "e6aad9c6-be5f-40ab-a4f9-a57e1be9103c",
   "metadata": {},
   "outputs": [
    {
     "data": {
      "text/plain": [
       "0.9795918367346939"
      ]
     },
     "execution_count": 31,
     "metadata": {},
     "output_type": "execute_result"
    }
   ],
   "source": [
    "kn41.n_neighbors=21\n",
    "\n",
    "kn41.fit(fish_data,fish_target)\n",
    "\n",
    "kn41.score(fish_data,fish_target)"
   ]
  },
  {
   "cell_type": "code",
   "execution_count": 32,
   "id": "8071ef5f-c92d-4bab-a6b7-13f932fac1b3",
   "metadata": {},
   "outputs": [
    {
     "data": {
      "text/plain": [
       "1.0"
      ]
     },
     "execution_count": 32,
     "metadata": {},
     "output_type": "execute_result"
    }
   ],
   "source": [
    "kn41.n_neighbors=17\n",
    "\n",
    "kn41.fit(fish_data,fish_target)\n",
    "\n",
    "kn41.score(fish_data,fish_target)"
   ]
  },
  {
   "cell_type": "code",
   "execution_count": 33,
   "id": "6b14895d-3074-414b-a5b7-401517d6f4bf",
   "metadata": {},
   "outputs": [
    {
     "data": {
      "text/plain": [
       "0.9795918367346939"
      ]
     },
     "execution_count": 33,
     "metadata": {},
     "output_type": "execute_result"
    }
   ],
   "source": [
    "kn41.n_neighbors=19\n",
    "\n",
    "kn41.fit(fish_data,fish_target)\n",
    "\n",
    "kn41.score(fish_data,fish_target)"
   ]
  },
  {
   "cell_type": "code",
   "execution_count": 56,
   "id": "47bf0956-c04d-412b-9b65-ac6c000f901b",
   "metadata": {},
   "outputs": [
    {
     "name": "stdout",
     "output_type": "stream",
     "text": [
      "ncnt=19 / nscore=0.9795918367346939\n"
     ]
    }
   ],
   "source": [
    "### 정확도가 1보다 작은 가장 좋은 정확도일 때의 이웃의 갯수 찾기\n",
    "\n",
    "### 모델 생성\n",
    "kn = KNeighborsClassifier()\n",
    "\n",
    "### 훈련시키키\n",
    "kn.fit(fish_data,fish_target)\n",
    "\n",
    "### 가장 최적의 이웃을 찾는 로직\n",
    "# 반복문의 범위 : 최소 3부터 최대 데이터의 갯수만큼\n",
    "# 단, 최대 데이터의 갯수는 실제 모두 사용하는 경우는 없기에 1/2 정도의 갯수만 사용해도 된다.\n",
    "\n",
    "# - 정확도가 가장 높을 때의 이웃의 갯수를 담을 변수\n",
    "ncnt = 0\n",
    "\n",
    "# - 정확도가 가장 높을 때의 정확도를 담을 변수\n",
    "nscore = 0\n",
    "\n",
    "for n in range(3,len(fish_data),2):\n",
    "    kn.n_neighbors = n\n",
    "    # - 이미 모델 객체가 생성되어 있는 경우는 score()만 가지고도 정확도 확인 가능하기에 fit은 생략 가능 -> score()함수 내에서도 fit을 자동 수행하고 있음\n",
    "    kn.fit(fish_data,fish_target)\n",
    "    score = kn.score(fish_data, fish_target)\n",
    "    # print(n,score)\n",
    "    # 1보다 작은 정확도인 경우만 처리\n",
    "    if score < 1:\n",
    "        # 담아놓은 nscore의 값이 현재 score보다 작은 경우에는 현재 score로 교체하기\n",
    "        if nscore < score:\n",
    "            nscore = score\n",
    "            # 이때의 n(이웃의 갯수)를 ncnt 변수에 담아 놓기\n",
    "            ncnt = n\n",
    "\n",
    "print(f'ncnt={ncnt} / nscore={nscore}')"
   ]
  },
  {
   "cell_type": "code",
   "execution_count": 52,
   "id": "0a9ad4e2-5a00-4f8e-a82e-019778fc9959",
   "metadata": {},
   "outputs": [
    {
     "data": {
      "text/plain": [
       "[[3, 1.0],\n",
       " [5, 1.0],\n",
       " [7, 1.0],\n",
       " [9, 1.0],\n",
       " [11, 1.0],\n",
       " [13, 1.0],\n",
       " [15, 1.0],\n",
       " [17, 1.0],\n",
       " [19, 0.9795918367346939],\n",
       " [21, 0.9795918367346939],\n",
       " [23, 0.9795918367346939],\n",
       " [25, 0.9795918367346939],\n",
       " [27, 0.9795918367346939],\n",
       " [29, 0.7142857142857143],\n",
       " [31, 0.7142857142857143],\n",
       " [33, 0.7142857142857143],\n",
       " [35, 0.7142857142857143],\n",
       " [37, 0.7142857142857143],\n",
       " [39, 0.7142857142857143],\n",
       " [41, 0.7142857142857143],\n",
       " [43, 0.7142857142857143],\n",
       " [45, 0.7142857142857143],\n",
       " [47, 0.7142857142857143],\n",
       " [49, 0.7142857142857143]]"
      ]
     },
     "execution_count": 52,
     "metadata": {},
     "output_type": "execute_result"
    }
   ],
   "source": [
    "b = []\n",
    "for i in range(3,50,2):\n",
    "    kn.n_neighbors = i\n",
    "    kn.fit(fish_data,fish_target)\n",
    "    a = kn.score(fish_data, fish_target)\n",
    "    b.append([i,a])\n",
    "b"
   ]
  },
  {
   "cell_type": "code",
   "execution_count": 58,
   "id": "f98af80e-3989-4dc9-8edf-5844ddf21d67",
   "metadata": {},
   "outputs": [
    {
     "data": {
      "text/plain": [
       "array([1])"
      ]
     },
     "execution_count": 58,
     "metadata": {},
     "output_type": "execute_result"
    }
   ],
   "source": [
    "### 찾아낸 이웃의 갯수 변수를 이용해서 최종 테스트\n",
    "kn.n_neighbors = 19\n",
    "kn.score = (fish_data,fish_target)\n",
    "\n",
    "kn.predict([[30,600]])"
   ]
  },
  {
   "cell_type": "markdown",
   "id": "eb549f6e-d015-44dd-b3ab-4887f9f748c9",
   "metadata": {},
   "source": [
    "### <모델 사용하는 부분>\n",
    "\n",
    "--> 데이터 수집 및 정제하여 사용할 데이터 처리하는 작업 필요\n",
    "\n",
    "1. 모델 클래스 생성\n",
    "\n",
    "2. 모델 훈련시키기\n",
    "\n",
    "3. 정확도 확인(평가)\n",
    "\n",
    "--> 성능 향상을 위한 하이퍼 파라미터 튜닝\n",
    "\n",
    "4. 예측(predict)\n",
    "\n"
   ]
  },
  {
   "cell_type": "code",
   "execution_count": null,
   "id": "0e6da9ef-16c6-467e-9be3-a593f42bbc1d",
   "metadata": {},
   "outputs": [],
   "source": []
  },
  {
   "cell_type": "code",
   "execution_count": null,
   "id": "01f3d318-a156-44d1-b05a-c9176e4dc553",
   "metadata": {},
   "outputs": [],
   "source": []
  },
  {
   "cell_type": "code",
   "execution_count": null,
   "id": "930bd98e-5e8b-4f89-aadb-04deeec22d90",
   "metadata": {},
   "outputs": [],
   "source": []
  },
  {
   "cell_type": "code",
   "execution_count": null,
   "id": "7c7ca3ae-d201-4f35-a1ca-1a4c703f59e8",
   "metadata": {},
   "outputs": [],
   "source": []
  }
 ],
 "metadata": {
  "kernelspec": {
   "display_name": "Python 3 (ipykernel)",
   "language": "python",
   "name": "python3"
  },
  "language_info": {
   "codemirror_mode": {
    "name": "ipython",
    "version": 3
   },
   "file_extension": ".py",
   "mimetype": "text/x-python",
   "name": "python",
   "nbconvert_exporter": "python",
   "pygments_lexer": "ipython3",
   "version": "3.11.8"
  }
 },
 "nbformat": 4,
 "nbformat_minor": 5
}

{
 "cells": [
  {
   "cell_type": "markdown",
   "id": "f0d3813e-00bd-47ae-a243-df31ca7662fe",
   "metadata": {},
   "source": [
    "### <모델 훈련을 위한 데이터 구성 방법>\n",
    "\n",
    "1. 수집한 데이터를 이용해서 훈련 : 테스트 또는 훈련 : 검증 : 테스트 데이터로 분류\n",
    "\n",
    "2. 분류 기준 \n",
    "\n",
    "    훈련 : 테스트 -> 주로 사용되는 비율은 7:3 또는 7.5:2.5 (7:3 많이 사용함)\n",
    "\n",
    "    훈련 : 검증 : 테스트 -> 주로 사용되는 비율은 6:2:2 또는 5:2.5:2.5 (6:2:2 많이 사용함)\n",
    "\n",
    "3. 변수 이름 정의(별도로 정의된 이름은 없지만 주로 많이 사용되는 이름)\n",
    "\n",
    "    훈련데이터 : 훈련(fit) 시에 사용되는 데이터\n",
    "\n",
    "               : 독립 변수 이름 : train_input, train_x, X_train, X\n",
    "               \n",
    "               : 종속 변수 이름 : train_target, train_y, Y_train, Y\n",
    "\n",
    "    검증데이터 : 정확도(score)시에 사용되는 데이터\n",
    "\n",
    "               : 독립 변수 이름 : val_input, val_x, X_val\n",
    "               \n",
    "               : 종속 변수 이름 : val_target, val_y, Y_val\n",
    "\n",
    "    테스트데이터 : 예측(predict)시에 사용되는 데이터\n",
    "\n",
    "               : 독립 변수 이름 : test_input, test_x, X_test\n",
    "               \n",
    "               : 종속 변수 이름 : test_target, test_y, Y_test"
   ]
  },
  {
   "cell_type": "markdown",
   "id": "91f72676-8389-4d49-b60d-7b8778e4a56c",
   "metadata": {},
   "source": [
    "### <데이터 분류 순서>\n",
    "\n",
    "1. 훈련:테스트인 경우에는 비율로 분류만 하면 끝\n",
    "\n",
    "2. 훈련:검증:테스트인 경우 (6:2:2인 경우)\n",
    "\n",
    "    - (훈련+검증)과 테스트 데이터로 8:2로 분류\n",
    "    \n",
    "    - 훈련과 테스트 데이터를 다시 훈련:검증으로 6:2로 분류"
   ]
  },
  {
   "cell_type": "code",
   "execution_count": 1,
   "id": "ad2490d5-41df-4017-b383-0e9736674d2a",
   "metadata": {},
   "outputs": [
    {
     "data": {
      "text/plain": [
       "(49, 49)"
      ]
     },
     "execution_count": 1,
     "metadata": {},
     "output_type": "execute_result"
    }
   ],
   "source": [
    "### 사용할 데이터 정의하기\n",
    "\n",
    "fish_length = [25.4, 26.3, 26.5, 29.0, 29.0, 29.7, 29.7, 30.0, 30.0, 30.7, 31.0, 31.0, \n",
    "                31.5, 32.0, 32.0, 32.0, 33.0, 33.0, 33.5, 33.5, 34.0, 34.0, 34.5, 35.0, \n",
    "                35.0, 35.0, 35.0, 36.0, 36.0, 37.0, 38.5, 38.5, 39.5, 41.0, 41.0, 9.8, \n",
    "                10.5, 10.6, 11.0, 11.2, 11.3, 11.8, 11.8, 12.0, 12.2, 12.4, 13.0, 14.3, 15.0]\n",
    "\n",
    "fish_weight = [242.0, 290.0, 340.0, 363.0, 430.0, 450.0, 500.0, 390.0, 450.0, 500.0, 475.0, 500.0, \n",
    "                500.0, 340.0, 600.0, 600.0, 700.0, 700.0, 610.0, 650.0, 575.0, 685.0, 620.0, 680.0, \n",
    "                700.0, 725.0, 720.0, 714.0, 850.0, 1000.0, 920.0, 955.0, 925.0, 975.0, 950.0, 6.7, \n",
    "                7.5, 7.0, 9.7, 9.8, 8.7, 10.0, 9.9, 9.8, 12.2, 13.4, 12.2, 19.7, 19.9]\n",
    "\n",
    "len(fish_length),len(fish_weight)"
   ]
  },
  {
   "cell_type": "code",
   "execution_count": 2,
   "id": "c177fcaf-e7ae-4b8e-85fa-be88366076bd",
   "metadata": {},
   "outputs": [],
   "source": [
    "### 독립 변수 만들기\n",
    "# - 사용할 변수명 fish_data\n",
    "\n",
    "fish_data = [[l,w] for l,w in zip(fish_length, fish_weight)]"
   ]
  },
  {
   "cell_type": "code",
   "execution_count": 3,
   "id": "481b7c0c-260c-4ecb-912b-ba351236a924",
   "metadata": {},
   "outputs": [
    {
     "name": "stdout",
     "output_type": "stream",
     "text": [
      "[1, 1, 1, 1, 1, 1, 1, 1, 1, 1, 1, 1, 1, 1, 1, 1, 1, 1, 1, 1, 1, 1, 1, 1, 1, 1, 1, 1, 1, 1, 1, 1, 1, 1, 1, 0, 0, 0, 0, 0, 0, 0, 0, 0, 0, 0, 0, 0, 0]\n"
     ]
    }
   ],
   "source": [
    "### 종속변수 만들기\n",
    "# - 사용할 변수명 fish_target\n",
    "\n",
    "fish_target = [1]*35 +[0]*14\n",
    "print(fish_target)"
   ]
  },
  {
   "cell_type": "code",
   "execution_count": 4,
   "id": "894c0cd0-e043-47c3-8f71-644560b18a4d",
   "metadata": {},
   "outputs": [
    {
     "data": {
      "text/plain": [
       "(49, 49)"
      ]
     },
     "execution_count": 4,
     "metadata": {},
     "output_type": "execute_result"
    }
   ],
   "source": [
    "len(fish_data),len(fish_target)"
   ]
  },
  {
   "cell_type": "markdown",
   "id": "56df7d1d-a255-4c64-a604-0ccf13f06871",
   "metadata": {},
   "source": [
    "### 훈련:테스트 데이터로 분류하기\n",
    "\n",
    "#### 훈련데이터(train) 만들기\n",
    "\n",
    "- fish_data 및 fish_target의 앞쪽 35개를 독립/테스트로 사용\n",
    "\n",
    "- 변수명 : train_input, train_target\n"
   ]
  },
  {
   "cell_type": "code",
   "execution_count": 5,
   "id": "23272110-289c-4f50-973c-a5aae17052dc",
   "metadata": {},
   "outputs": [],
   "source": [
    "# 훈련 독립변수\n",
    "train_input = fish_data[:35]\n",
    "\n",
    "# 훈련 종속변수\n",
    "train_target = fish_target[:35]"
   ]
  },
  {
   "cell_type": "markdown",
   "id": "a62925d9-fab6-48ea-81f0-28675636dd0d",
   "metadata": {},
   "source": [
    "#### 테스트 데이터(test) 만들기\n",
    "\n",
    "- fish_data 및 fish_target의 뒤쪽 14개를 독립/테스트로 사용\n",
    "\n",
    "- 변수명 : test_input, test_target\n"
   ]
  },
  {
   "cell_type": "code",
   "execution_count": 6,
   "id": "f6629352-03ae-4a33-8883-ade0b8c9ac0d",
   "metadata": {},
   "outputs": [],
   "source": [
    "# 테스트 독립변수\n",
    "test_input = fish_data[35:]\n",
    "\n",
    "# 테스트 종속변수\n",
    "test_target = fish_target[35:]"
   ]
  },
  {
   "cell_type": "markdown",
   "id": "86970807-172d-40cb-a022-d48ab784d66a",
   "metadata": {},
   "source": [
    "### 훈련시키기"
   ]
  },
  {
   "cell_type": "code",
   "execution_count": 7,
   "id": "bf42d9e6-d176-4d3a-b93d-0425f1eb503f",
   "metadata": {},
   "outputs": [],
   "source": [
    "#### 모델 생성하기\n",
    "#- 모델 변수명 : kn 사용 (이웃의 갯수는 디폴트 사용)\n",
    "\n",
    "from sklearn.neighbors import KNeighborsClassifier\n",
    "\n",
    "kn = KNeighborsClassifier()"
   ]
  },
  {
   "cell_type": "code",
   "execution_count": 8,
   "id": "696c88a2-28da-4dd5-89d5-9bc42912983b",
   "metadata": {},
   "outputs": [
    {
     "data": {
      "text/html": [
       "<style>#sk-container-id-1 {color: black;}#sk-container-id-1 pre{padding: 0;}#sk-container-id-1 div.sk-toggleable {background-color: white;}#sk-container-id-1 label.sk-toggleable__label {cursor: pointer;display: block;width: 100%;margin-bottom: 0;padding: 0.3em;box-sizing: border-box;text-align: center;}#sk-container-id-1 label.sk-toggleable__label-arrow:before {content: \"▸\";float: left;margin-right: 0.25em;color: #696969;}#sk-container-id-1 label.sk-toggleable__label-arrow:hover:before {color: black;}#sk-container-id-1 div.sk-estimator:hover label.sk-toggleable__label-arrow:before {color: black;}#sk-container-id-1 div.sk-toggleable__content {max-height: 0;max-width: 0;overflow: hidden;text-align: left;background-color: #f0f8ff;}#sk-container-id-1 div.sk-toggleable__content pre {margin: 0.2em;color: black;border-radius: 0.25em;background-color: #f0f8ff;}#sk-container-id-1 input.sk-toggleable__control:checked~div.sk-toggleable__content {max-height: 200px;max-width: 100%;overflow: auto;}#sk-container-id-1 input.sk-toggleable__control:checked~label.sk-toggleable__label-arrow:before {content: \"▾\";}#sk-container-id-1 div.sk-estimator input.sk-toggleable__control:checked~label.sk-toggleable__label {background-color: #d4ebff;}#sk-container-id-1 div.sk-label input.sk-toggleable__control:checked~label.sk-toggleable__label {background-color: #d4ebff;}#sk-container-id-1 input.sk-hidden--visually {border: 0;clip: rect(1px 1px 1px 1px);clip: rect(1px, 1px, 1px, 1px);height: 1px;margin: -1px;overflow: hidden;padding: 0;position: absolute;width: 1px;}#sk-container-id-1 div.sk-estimator {font-family: monospace;background-color: #f0f8ff;border: 1px dotted black;border-radius: 0.25em;box-sizing: border-box;margin-bottom: 0.5em;}#sk-container-id-1 div.sk-estimator:hover {background-color: #d4ebff;}#sk-container-id-1 div.sk-parallel-item::after {content: \"\";width: 100%;border-bottom: 1px solid gray;flex-grow: 1;}#sk-container-id-1 div.sk-label:hover label.sk-toggleable__label {background-color: #d4ebff;}#sk-container-id-1 div.sk-serial::before {content: \"\";position: absolute;border-left: 1px solid gray;box-sizing: border-box;top: 0;bottom: 0;left: 50%;z-index: 0;}#sk-container-id-1 div.sk-serial {display: flex;flex-direction: column;align-items: center;background-color: white;padding-right: 0.2em;padding-left: 0.2em;position: relative;}#sk-container-id-1 div.sk-item {position: relative;z-index: 1;}#sk-container-id-1 div.sk-parallel {display: flex;align-items: stretch;justify-content: center;background-color: white;position: relative;}#sk-container-id-1 div.sk-item::before, #sk-container-id-1 div.sk-parallel-item::before {content: \"\";position: absolute;border-left: 1px solid gray;box-sizing: border-box;top: 0;bottom: 0;left: 50%;z-index: -1;}#sk-container-id-1 div.sk-parallel-item {display: flex;flex-direction: column;z-index: 1;position: relative;background-color: white;}#sk-container-id-1 div.sk-parallel-item:first-child::after {align-self: flex-end;width: 50%;}#sk-container-id-1 div.sk-parallel-item:last-child::after {align-self: flex-start;width: 50%;}#sk-container-id-1 div.sk-parallel-item:only-child::after {width: 0;}#sk-container-id-1 div.sk-dashed-wrapped {border: 1px dashed gray;margin: 0 0.4em 0.5em 0.4em;box-sizing: border-box;padding-bottom: 0.4em;background-color: white;}#sk-container-id-1 div.sk-label label {font-family: monospace;font-weight: bold;display: inline-block;line-height: 1.2em;}#sk-container-id-1 div.sk-label-container {text-align: center;}#sk-container-id-1 div.sk-container {/* jupyter's `normalize.less` sets `[hidden] { display: none; }` but bootstrap.min.css set `[hidden] { display: none !important; }` so we also need the `!important` here to be able to override the default hidden behavior on the sphinx rendered scikit-learn.org. See: https://github.com/scikit-learn/scikit-learn/issues/21755 */display: inline-block !important;position: relative;}#sk-container-id-1 div.sk-text-repr-fallback {display: none;}</style><div id=\"sk-container-id-1\" class=\"sk-top-container\"><div class=\"sk-text-repr-fallback\"><pre>KNeighborsClassifier()</pre><b>In a Jupyter environment, please rerun this cell to show the HTML representation or trust the notebook. <br />On GitHub, the HTML representation is unable to render, please try loading this page with nbviewer.org.</b></div><div class=\"sk-container\" hidden><div class=\"sk-item\"><div class=\"sk-estimator sk-toggleable\"><input class=\"sk-toggleable__control sk-hidden--visually\" id=\"sk-estimator-id-1\" type=\"checkbox\" checked><label for=\"sk-estimator-id-1\" class=\"sk-toggleable__label sk-toggleable__label-arrow\">KNeighborsClassifier</label><div class=\"sk-toggleable__content\"><pre>KNeighborsClassifier()</pre></div></div></div></div></div>"
      ],
      "text/plain": [
       "KNeighborsClassifier()"
      ]
     },
     "execution_count": 8,
     "metadata": {},
     "output_type": "execute_result"
    }
   ],
   "source": [
    "### 모델 훈련시키기(fit()함수 사용) \n",
    "\n",
    "kn.fit(train_input,train_target)"
   ]
  },
  {
   "cell_type": "code",
   "execution_count": 9,
   "id": "96423fda-1036-4dba-a368-3faee6679486",
   "metadata": {},
   "outputs": [],
   "source": [
    "### 모델 정확도 확인하기(score()함수 사용)\n",
    "# - 훈련 정확도(훈련 데이터 사용)\n",
    "\n",
    "train_score = kn.score(train_input,train_target)"
   ]
  },
  {
   "cell_type": "code",
   "execution_count": 10,
   "id": "cc8ba548-bf0c-42a5-ba4d-af7a8dedade5",
   "metadata": {},
   "outputs": [],
   "source": [
    "# - 테스트 정확도(테스트 데이터 사용)\n",
    "test_score = kn.score(test_input, test_target)"
   ]
  },
  {
   "cell_type": "code",
   "execution_count": 11,
   "id": "af9b28e2-6121-4d4f-a946-86ee5bae993f",
   "metadata": {},
   "outputs": [
    {
     "data": {
      "text/plain": [
       "(1.0, 0.0)"
      ]
     },
     "execution_count": 11,
     "metadata": {},
     "output_type": "execute_result"
    }
   ],
   "source": [
    "train_score, test_score"
   ]
  },
  {
   "cell_type": "markdown",
   "id": "23a2aad8-e64c-4eb0-9ae9-cd2854d15331",
   "metadata": {},
   "source": [
    "### <테스트 데이터가 0점이 나온 원인>\n",
    "\n",
    "- 훈련과 테스트 데이터 분류 시에 도미 35개를 훈련으로, 빙어 14개를 테스트로 분리하여\n",
    "\n",
    "  모델 훈련 시에 훈련데이터(도미35)로 훈련이 된 상태에서, \n",
    "\n",
    "  테스트 (빙어14)를 맞추려고 하다보니 훈련이 되어 있지 않아서 발생한 문제\n",
    "\n",
    "- 즉, 훈련데이터가 잘못 구성되어 있음\n",
    "\n",
    "- 훈련과 테스트 데이터 어느 한쪽에 특정 데이터 성격만 편중된 경우에 발생함\n",
    "\n",
    "- 이러한 현상을 '샘플링 편향'이라고 합니다."
   ]
  },
  {
   "cell_type": "markdown",
   "id": "5b94b4f4-904f-4352-8cd4-2996ee14cb57",
   "metadata": {},
   "source": [
    "### <샘플링 편향 해소방법>\n",
    "\n",
    "- 훈련 및 테스트 데이터로 분류하기 전에 데이터를 잘 섞어야 한다(셔플이라고 함)."
   ]
  },
  {
   "cell_type": "code",
   "execution_count": 12,
   "id": "88ee754e-05e7-41c3-985b-66cbb9d70d2a",
   "metadata": {},
   "outputs": [],
   "source": [
    "# numpy 라이브러리 사용하기\n",
    "import numpy as np"
   ]
  },
  {
   "cell_type": "markdown",
   "id": "68410817-43ca-4772-90a9-43e1b6c7c91b",
   "metadata": {},
   "source": [
    "### <파이썬 리스트[]와 numpy 배열array[]의 차이점>\n",
    "\n",
    "- 파이썬 리스트 : 다양한 타입의 값들을 넣을 수 있음(문자, 숫자 객체 모두 사용 가능)\n",
    "\n",
    "- numpy 배열(array) : 한 가지 타입의 데이터만 넣을 수 있음(숫자 값 사용)"
   ]
  },
  {
   "cell_type": "code",
   "execution_count": 13,
   "id": "3665c6e9-a1c6-41c7-a8d9-a0d330c62fd2",
   "metadata": {},
   "outputs": [
    {
     "data": {
      "text/plain": [
       "((49, 2), (49,))"
      ]
     },
     "execution_count": 13,
     "metadata": {},
     "output_type": "execute_result"
    }
   ],
   "source": [
    "### 넘파이 배열 형태를 이용해서 처리하기\n",
    "# - 기존의 독립 및 종속 데이터를 numpy의 배열 타입으로 형변환 시키기\n",
    "input_arr= np.array(fish_data)\n",
    "\n",
    "target_arr = np.array(fish_target)\n",
    "\n",
    "input_arr, target_arr\n",
    "\n",
    "len(input_arr), len(target_arr)\n",
    "input_arr.shape, target_arr.shape"
   ]
  },
  {
   "cell_type": "markdown",
   "id": "7696a1b5-b6bf-4285-9942-9cb7ba29a9f2",
   "metadata": {},
   "source": [
    "### 랜덤하게 섞기\n",
    "\n",
    "- 랜덤 규칙 정의하기 : 다른 사람과 훈련에 대한 정확도를 비교하기 위해서 주로 사용\n",
    "\n",
    "- seed() 함수 사용 : 사용되는 값은 의미 없는 규칙임(주로 42번 많이 사용함)"
   ]
  },
  {
   "cell_type": "code",
   "execution_count": 14,
   "id": "ef62ecbb-af4f-4c31-be37-1b36f0ea7129",
   "metadata": {},
   "outputs": [
    {
     "data": {
      "text/plain": [
       "array([13, 45, 47, 44, 17, 27, 26, 25, 31, 19, 12,  4, 34,  8,  3,  6, 40,\n",
       "       41, 46, 15,  9, 16, 24, 33, 30,  0, 43, 32,  5, 29, 11, 36,  1, 21,\n",
       "        2, 37, 35, 23, 39, 10, 22, 18, 48, 20,  7, 42, 14, 28, 38])"
      ]
     },
     "execution_count": 14,
     "metadata": {},
     "output_type": "execute_result"
    }
   ],
   "source": [
    "### 독립변수와 종속변수의 인덱스 위치를 동일하게 맞춰서 섞어야 함\n",
    "# - 랜덤한 인덱스 49개 만들기\n",
    "# - 배열 49개 숫자 만들기\n",
    "\n",
    "np.random.seed(42)\n",
    "index = np.arange(49)\n",
    "index \n",
    "\n",
    "# - 랜덤하게 섞기\n",
    "np.random.shuffle(index)\n",
    "index"
   ]
  },
  {
   "cell_type": "code",
   "execution_count": 15,
   "id": "d7db5d80-1a90-46a2-a7ca-408517a0c3bf",
   "metadata": {},
   "outputs": [],
   "source": [
    "### 훈련 및 테스트 데이터로 분류하기\n",
    "# - 훈련 및 테스트 독립변수(input_arr 데이터에서 index 앞쪽 35개 값을 인덱스 번호로 사용하여 추출하기)\n",
    "# - 훈련 및 테스트 종속변수(target_arr 데이터에서 index 뒤쪽 14개 값을 인덱스 번호로 사용하여 추출하기)\n",
    "\n",
    "# - 훈련 데이터\n",
    "train_input = input_arr[index[:35]]\n",
    "train_target = target_arr[index[:35]]\n",
    "\n",
    "# - 테스트 데이터\n",
    "test_input = input_arr[index[35:]]\n",
    "test_target = target_arr[index[35:]]"
   ]
  },
  {
   "cell_type": "code",
   "execution_count": 16,
   "id": "e27f9d8e-62f7-4863-9110-802dfe8da480",
   "metadata": {},
   "outputs": [
    {
     "name": "stdout",
     "output_type": "stream",
     "text": [
      "(35, 2) (35,)\n",
      "(14, 2) (14,)\n"
     ]
    }
   ],
   "source": [
    "### 훈련 및 테스트 데이터 차원 확인하기\n",
    "print(train_input.shape, train_target.shape)\n",
    "print(test_input.shape, test_target.shape)"
   ]
  },
  {
   "cell_type": "code",
   "execution_count": 17,
   "id": "740ddddd-fc6d-4427-b660-a284756e68c3",
   "metadata": {},
   "outputs": [
    {
     "data": {
      "image/png": "[encoded data removed]",
      "text/plain": [
       "<Figure size 640x480 with 1 Axes>"
      ]
     },
     "metadata": {},
     "output_type": "display_data"
    }
   ],
   "source": [
    "### 훈련 및 테스트 데이터를 이용해서 산점도 그리기\n",
    "import matplotlib.pyplot as plt\n",
    "\n",
    "plt.scatter(train_input[:,0],train_input[:,1], c='red',label='train')\n",
    "plt.scatter(test_input[:,0], test_input[:,1],c='blue', label='test')\n",
    "\n",
    "plt.xlabel('length')\n",
    "plt.ylabel('weight')\n",
    "plt.legend(loc='best')\n",
    "plt.show();"
   ]
  },
  {
   "cell_type": "code",
   "execution_count": 18,
   "id": "f9e962cc-dfa5-4924-83d9-30f47f4e15fd",
   "metadata": {},
   "outputs": [],
   "source": [
    "### 모델생성하기\n",
    "# 모델 변수명\n",
    "kn =KNeighborsClassifier(n_neighbors=21)"
   ]
  },
  {
   "cell_type": "code",
   "execution_count": 19,
   "id": "3bd496b1-814d-481b-a2af-5f7be6107484",
   "metadata": {},
   "outputs": [
    {
     "data": {
      "text/html": [
       "<style>#sk-container-id-2 {color: black;}#sk-container-id-2 pre{padding: 0;}#sk-container-id-2 div.sk-toggleable {background-color: white;}#sk-container-id-2 label.sk-toggleable__label {cursor: pointer;display: block;width: 100%;margin-bottom: 0;padding: 0.3em;box-sizing: border-box;text-align: center;}#sk-container-id-2 label.sk-toggleable__label-arrow:before {content: \"▸\";float: left;margin-right: 0.25em;color: #696969;}#sk-container-id-2 label.sk-toggleable__label-arrow:hover:before {color: black;}#sk-container-id-2 div.sk-estimator:hover label.sk-toggleable__label-arrow:before {color: black;}#sk-container-id-2 div.sk-toggleable__content {max-height: 0;max-width: 0;overflow: hidden;text-align: left;background-color: #f0f8ff;}#sk-container-id-2 div.sk-toggleable__content pre {margin: 0.2em;color: black;border-radius: 0.25em;background-color: #f0f8ff;}#sk-container-id-2 input.sk-toggleable__control:checked~div.sk-toggleable__content {max-height: 200px;max-width: 100%;overflow: auto;}#sk-container-id-2 input.sk-toggleable__control:checked~label.sk-toggleable__label-arrow:before {content: \"▾\";}#sk-container-id-2 div.sk-estimator input.sk-toggleable__control:checked~label.sk-toggleable__label {background-color: #d4ebff;}#sk-container-id-2 div.sk-label input.sk-toggleable__control:checked~label.sk-toggleable__label {background-color: #d4ebff;}#sk-container-id-2 input.sk-hidden--visually {border: 0;clip: rect(1px 1px 1px 1px);clip: rect(1px, 1px, 1px, 1px);height: 1px;margin: -1px;overflow: hidden;padding: 0;position: absolute;width: 1px;}#sk-container-id-2 div.sk-estimator {font-family: monospace;background-color: #f0f8ff;border: 1px dotted black;border-radius: 0.25em;box-sizing: border-box;margin-bottom: 0.5em;}#sk-container-id-2 div.sk-estimator:hover {background-color: #d4ebff;}#sk-container-id-2 div.sk-parallel-item::after {content: \"\";width: 100%;border-bottom: 1px solid gray;flex-grow: 1;}#sk-container-id-2 div.sk-label:hover label.sk-toggleable__label {background-color: #d4ebff;}#sk-container-id-2 div.sk-serial::before {content: \"\";position: absolute;border-left: 1px solid gray;box-sizing: border-box;top: 0;bottom: 0;left: 50%;z-index: 0;}#sk-container-id-2 div.sk-serial {display: flex;flex-direction: column;align-items: center;background-color: white;padding-right: 0.2em;padding-left: 0.2em;position: relative;}#sk-container-id-2 div.sk-item {position: relative;z-index: 1;}#sk-container-id-2 div.sk-parallel {display: flex;align-items: stretch;justify-content: center;background-color: white;position: relative;}#sk-container-id-2 div.sk-item::before, #sk-container-id-2 div.sk-parallel-item::before {content: \"\";position: absolute;border-left: 1px solid gray;box-sizing: border-box;top: 0;bottom: 0;left: 50%;z-index: -1;}#sk-container-id-2 div.sk-parallel-item {display: flex;flex-direction: column;z-index: 1;position: relative;background-color: white;}#sk-container-id-2 div.sk-parallel-item:first-child::after {align-self: flex-end;width: 50%;}#sk-container-id-2 div.sk-parallel-item:last-child::after {align-self: flex-start;width: 50%;}#sk-container-id-2 div.sk-parallel-item:only-child::after {width: 0;}#sk-container-id-2 div.sk-dashed-wrapped {border: 1px dashed gray;margin: 0 0.4em 0.5em 0.4em;box-sizing: border-box;padding-bottom: 0.4em;background-color: white;}#sk-container-id-2 div.sk-label label {font-family: monospace;font-weight: bold;display: inline-block;line-height: 1.2em;}#sk-container-id-2 div.sk-label-container {text-align: center;}#sk-container-id-2 div.sk-container {/* jupyter's `normalize.less` sets `[hidden] { display: none; }` but bootstrap.min.css set `[hidden] { display: none !important; }` so we also need the `!important` here to be able to override the default hidden behavior on the sphinx rendered scikit-learn.org. See: https://github.com/scikit-learn/scikit-learn/issues/21755 */display: inline-block !important;position: relative;}#sk-container-id-2 div.sk-text-repr-fallback {display: none;}</style><div id=\"sk-container-id-2\" class=\"sk-top-container\"><div class=\"sk-text-repr-fallback\"><pre>KNeighborsClassifier(n_neighbors=21)</pre><b>In a Jupyter environment, please rerun this cell to show the HTML representation or trust the notebook. <br />On GitHub, the HTML representation is unable to render, please try loading this page with nbviewer.org.</b></div><div class=\"sk-container\" hidden><div class=\"sk-item\"><div class=\"sk-estimator sk-toggleable\"><input class=\"sk-toggleable__control sk-hidden--visually\" id=\"sk-estimator-id-2\" type=\"checkbox\" checked><label for=\"sk-estimator-id-2\" class=\"sk-toggleable__label sk-toggleable__label-arrow\">KNeighborsClassifier</label><div class=\"sk-toggleable__content\"><pre>KNeighborsClassifier(n_neighbors=21)</pre></div></div></div></div></div>"
      ],
      "text/plain": [
       "KNeighborsClassifier(n_neighbors=21)"
      ]
     },
     "execution_count": 19,
     "metadata": {},
     "output_type": "execute_result"
    }
   ],
   "source": [
    "kn.fit(train_input,train_target)"
   ]
  },
  {
   "cell_type": "code",
   "execution_count": 20,
   "id": "7cbc23e0-eb51-4e57-9153-f21cd12ead60",
   "metadata": {},
   "outputs": [
    {
     "data": {
      "text/plain": [
       "0.7714285714285715"
      ]
     },
     "execution_count": 20,
     "metadata": {},
     "output_type": "execute_result"
    }
   ],
   "source": [
    "### 훈련 정확도 확인하기\n",
    "train_score = kn.score(train_input,train_target)\n",
    "train_score"
   ]
  },
  {
   "cell_type": "code",
   "execution_count": 21,
   "id": "7583e5b5-a0c2-4680-9285-ff0392bee17d",
   "metadata": {},
   "outputs": [
    {
     "data": {
      "text/plain": [
       "0.5714285714285714"
      ]
     },
     "execution_count": 21,
     "metadata": {},
     "output_type": "execute_result"
    }
   ],
   "source": [
    "### 테스트 정확도 확인하기\n",
    "test_score = kn.score(test_input,test_target)\n",
    "test_score"
   ]
  },
  {
   "cell_type": "code",
   "execution_count": 22,
   "id": "01865d4b-ff33-41a4-836b-d8fe3fe41641",
   "metadata": {},
   "outputs": [
    {
     "data": {
      "text/plain": [
       "array([1, 1, 1, 1, 1, 1, 1, 1, 1, 1, 1, 1, 1, 1])"
      ]
     },
     "execution_count": 22,
     "metadata": {},
     "output_type": "execute_result"
    }
   ],
   "source": [
    "### 테스트 데이터로 예측하기\n",
    "test_pred =kn.predict(test_input)\n",
    "\n",
    "### 예측값\n",
    "test_pred"
   ]
  },
  {
   "cell_type": "code",
   "execution_count": 23,
   "id": "a1a23f94-a94d-43c1-9af6-b4c2930de1c0",
   "metadata": {},
   "outputs": [
    {
     "data": {
      "text/plain": [
       "array([0, 0, 1, 0, 1, 1, 1, 0, 1, 1, 0, 1, 1, 0])"
      ]
     },
     "execution_count": 23,
     "metadata": {},
     "output_type": "execute_result"
    }
   ],
   "source": [
    "### 실제 정답 \n",
    "test_target"
   ]
  },
  {
   "cell_type": "markdown",
   "id": "fb421c5b-b604-4039-b49c-cec2ad9e152f",
   "metadata": {},
   "source": [
    "### 이웃의 갯수 튜닝하기"
   ]
  },
  {
   "cell_type": "code",
   "execution_count": 24,
   "id": "41810cc8-4dac-4713-8289-04779baa83db",
   "metadata": {},
   "outputs": [
    {
     "name": "stdout",
     "output_type": "stream",
     "text": [
      "ncnt=17 / nscore=0.7714285714285715\n"
     ]
    }
   ],
   "source": [
    "# - 정확도가 가장 높을 때의 이웃의 갯수를 담을 변수\n",
    "ncnt = 0\n",
    "\n",
    "# - 정확도가 가장 높을 때의 정확도를 담을 변수\n",
    "nscore = 0\n",
    "\n",
    "for n in range(3,len(train_input),2):\n",
    "    kn.n_neighbors = n\n",
    "    # - 이미 모델 객체가 생성되어 있는 경우는 score()만 가지고도 정확도 확인 가능하기에 fit은 생략 가능 -> score()함수 내에서도 fit을 자동 수행하고 있음\n",
    "    kn.fit(train_input,train_target)\n",
    "    score = kn.score(train_input, train_target)\n",
    "    #print(n,score)\n",
    "    # 1보다 작은 정확도인 경우만 처리\n",
    "    if score < 1:\n",
    "        # 담아놓은 nscore의 값이 현재 score보다 작은 경우에는 현재 score로 교체하기\n",
    "        if nscore < score:\n",
    "            nscore = score\n",
    "            # 이때의 n(이웃의 갯수)를 ncnt 변수에 담아 놓기\n",
    "            ncnt = n\n",
    "\n",
    "print(f'ncnt={ncnt} / nscore={nscore}')"
   ]
  },
  {
   "cell_type": "code",
   "execution_count": 25,
   "id": "ec0b896e-392d-4776-bad9-1098f66170ae",
   "metadata": {},
   "outputs": [
    {
     "name": "stdout",
     "output_type": "stream",
     "text": [
      "[[25.4, 242.0], [26.3, 290.0], [26.5, 340.0], [29.0, 363.0], [29.0, 430.0], [29.7, 450.0], [29.7, 500.0], [30.0, 390.0], [30.0, 450.0], [30.7, 500.0], [31.0, 475.0], [31.0, 500.0], [31.5, 500.0], [32.0, 340.0], [32.0, 600.0], [32.0, 600.0], [33.0, 700.0], [33.0, 700.0], [33.5, 610.0], [33.5, 650.0], [34.0, 575.0], [34.0, 685.0], [34.5, 620.0], [35.0, 680.0], [35.0, 700.0], [35.0, 725.0], [35.0, 720.0], [36.0, 714.0], [36.0, 850.0], [37.0, 1000.0], [38.5, 920.0], [38.5, 955.0], [39.5, 925.0], [41.0, 975.0], [41.0, 950.0], [9.8, 6.7], [10.5, 7.5], [10.6, 7.0], [11.0, 9.7], [11.2, 9.8], [11.3, 8.7], [11.8, 10.0], [11.8, 9.9], [12.0, 9.8], [12.2, 12.2], [12.4, 13.4], [13.0, 12.2], [14.3, 19.7], [15.0, 19.9]] \n",
      "\n",
      " [1, 1, 1, 1, 1, 1, 1, 1, 1, 1, 1, 1, 1, 1, 1, 1, 1, 1, 1, 1, 1, 1, 1, 1, 1, 1, 1, 1, 1, 1, 1, 1, 1, 1, 1, 0, 0, 0, 0, 0, 0, 0, 0, 0, 0, 0, 0, 0, 0]\n"
     ]
    }
   ],
   "source": [
    "### 데이터분류 방법(2)\n",
    "print(fish_data,'\\n\\n',fish_target)"
   ]
  },
  {
   "cell_type": "code",
   "execution_count": 26,
   "id": "7a5b667d-8365-451d-9a8a-07faeabd1869",
   "metadata": {},
   "outputs": [],
   "source": [
    "### 데이터를 섞으면서 분류하는 라이브러리 사용\n",
    "# - 머신러닝 딥러닝에서 데이터분류시 가장 많이 사용하는 함수\n",
    "from sklearn.model_selection import train_test_split\n"
   ]
  },
  {
   "cell_type": "code",
   "execution_count": 27,
   "id": "4fe0c2df-6ce1-40fb-8496-77a4ee6868a6",
   "metadata": {},
   "outputs": [],
   "source": [
    "fish_data_arr = np.array(fish_data)\n",
    "fish_target_arr = np.array(fish_target)"
   ]
  },
  {
   "cell_type": "code",
   "execution_count": 28,
   "id": "b5093fb2-6fee-4d59-86a6-37838ae282fb",
   "metadata": {},
   "outputs": [],
   "source": [
    "### 훈련과 테스트 데이터로 7:3으로 분류하기\n",
    "# - 첫 번째  인자 : 독립변수 원본 데이터\n",
    "# - 두 번째 인자 : 종속변수 원본 데이터\n",
    "# - test_size : 훈련:테스트의 비율 중에 test의 비율을 작성(1을 기준으로 비율 작성)\n",
    "# - random_state : 랜덤 규칙 번호 지정\n",
    "# - stratify : 종속변수의 범주 비율을 훈련과 테스트이 비율대비 편향 없이 조정 시킴\n",
    "# - 결과값 : 훈련독립, 테스트독립, 훈련종속, 테스트종속의 순서로 데이터가 분류됨\n",
    "\n",
    "train_input, test_input, train_target, test_target =train_test_split(fish_data_arr, fish_target_arr,\n",
    "                                                                    test_size=0.3, random_state=42,\n",
    "                                                                    stratify= fish_target)"
   ]
  },
  {
   "cell_type": "code",
   "execution_count": 29,
   "id": "59b51235-fc99-4a9a-8f8f-53dff0345466",
   "metadata": {},
   "outputs": [
    {
     "name": "stdout",
     "output_type": "stream",
     "text": [
      "(34, 2) (34,)\n",
      "(15, 2) (15,)\n"
     ]
    }
   ],
   "source": [
    "print(train_input.shape, train_target.shape)\n",
    "print(test_input.shape,test_target.shape)"
   ]
  },
  {
   "cell_type": "code",
   "execution_count": 30,
   "id": "cd657251-e3b9-4f55-8f98-a0e00e54b1e6",
   "metadata": {},
   "outputs": [],
   "source": [
    "### 훈련 모델 생성하기\n",
    "kn = KNeighborsClassifier(n_neighbors=21)"
   ]
  },
  {
   "cell_type": "code",
   "execution_count": 31,
   "id": "d8527268-1b43-48bc-b537-6d4ceabcd30a",
   "metadata": {},
   "outputs": [
    {
     "data": {
      "text/html": [
       "<style>#sk-container-id-3 {color: black;}#sk-container-id-3 pre{padding: 0;}#sk-container-id-3 div.sk-toggleable {background-color: white;}#sk-container-id-3 label.sk-toggleable__label {cursor: pointer;display: block;width: 100%;margin-bottom: 0;padding: 0.3em;box-sizing: border-box;text-align: center;}#sk-container-id-3 label.sk-toggleable__label-arrow:before {content: \"▸\";float: left;margin-right: 0.25em;color: #696969;}#sk-container-id-3 label.sk-toggleable__label-arrow:hover:before {color: black;}#sk-container-id-3 div.sk-estimator:hover label.sk-toggleable__label-arrow:before {color: black;}#sk-container-id-3 div.sk-toggleable__content {max-height: 0;max-width: 0;overflow: hidden;text-align: left;background-color: #f0f8ff;}#sk-container-id-3 div.sk-toggleable__content pre {margin: 0.2em;color: black;border-radius: 0.25em;background-color: #f0f8ff;}#sk-container-id-3 input.sk-toggleable__control:checked~div.sk-toggleable__content {max-height: 200px;max-width: 100%;overflow: auto;}#sk-container-id-3 input.sk-toggleable__control:checked~label.sk-toggleable__label-arrow:before {content: \"▾\";}#sk-container-id-3 div.sk-estimator input.sk-toggleable__control:checked~label.sk-toggleable__label {background-color: #d4ebff;}#sk-container-id-3 div.sk-label input.sk-toggleable__control:checked~label.sk-toggleable__label {background-color: #d4ebff;}#sk-container-id-3 input.sk-hidden--visually {border: 0;clip: rect(1px 1px 1px 1px);clip: rect(1px, 1px, 1px, 1px);height: 1px;margin: -1px;overflow: hidden;padding: 0;position: absolute;width: 1px;}#sk-container-id-3 div.sk-estimator {font-family: monospace;background-color: #f0f8ff;border: 1px dotted black;border-radius: 0.25em;box-sizing: border-box;margin-bottom: 0.5em;}#sk-container-id-3 div.sk-estimator:hover {background-color: #d4ebff;}#sk-container-id-3 div.sk-parallel-item::after {content: \"\";width: 100%;border-bottom: 1px solid gray;flex-grow: 1;}#sk-container-id-3 div.sk-label:hover label.sk-toggleable__label {background-color: #d4ebff;}#sk-container-id-3 div.sk-serial::before {content: \"\";position: absolute;border-left: 1px solid gray;box-sizing: border-box;top: 0;bottom: 0;left: 50%;z-index: 0;}#sk-container-id-3 div.sk-serial {display: flex;flex-direction: column;align-items: center;background-color: white;padding-right: 0.2em;padding-left: 0.2em;position: relative;}#sk-container-id-3 div.sk-item {position: relative;z-index: 1;}#sk-container-id-3 div.sk-parallel {display: flex;align-items: stretch;justify-content: center;background-color: white;position: relative;}#sk-container-id-3 div.sk-item::before, #sk-container-id-3 div.sk-parallel-item::before {content: \"\";position: absolute;border-left: 1px solid gray;box-sizing: border-box;top: 0;bottom: 0;left: 50%;z-index: -1;}#sk-container-id-3 div.sk-parallel-item {display: flex;flex-direction: column;z-index: 1;position: relative;background-color: white;}#sk-container-id-3 div.sk-parallel-item:first-child::after {align-self: flex-end;width: 50%;}#sk-container-id-3 div.sk-parallel-item:last-child::after {align-self: flex-start;width: 50%;}#sk-container-id-3 div.sk-parallel-item:only-child::after {width: 0;}#sk-container-id-3 div.sk-dashed-wrapped {border: 1px dashed gray;margin: 0 0.4em 0.5em 0.4em;box-sizing: border-box;padding-bottom: 0.4em;background-color: white;}#sk-container-id-3 div.sk-label label {font-family: monospace;font-weight: bold;display: inline-block;line-height: 1.2em;}#sk-container-id-3 div.sk-label-container {text-align: center;}#sk-container-id-3 div.sk-container {/* jupyter's `normalize.less` sets `[hidden] { display: none; }` but bootstrap.min.css set `[hidden] { display: none !important; }` so we also need the `!important` here to be able to override the default hidden behavior on the sphinx rendered scikit-learn.org. See: https://github.com/scikit-learn/scikit-learn/issues/21755 */display: inline-block !important;position: relative;}#sk-container-id-3 div.sk-text-repr-fallback {display: none;}</style><div id=\"sk-container-id-3\" class=\"sk-top-container\"><div class=\"sk-text-repr-fallback\"><pre>KNeighborsClassifier(n_neighbors=21)</pre><b>In a Jupyter environment, please rerun this cell to show the HTML representation or trust the notebook. <br />On GitHub, the HTML representation is unable to render, please try loading this page with nbviewer.org.</b></div><div class=\"sk-container\" hidden><div class=\"sk-item\"><div class=\"sk-estimator sk-toggleable\"><input class=\"sk-toggleable__control sk-hidden--visually\" id=\"sk-estimator-id-3\" type=\"checkbox\" checked><label for=\"sk-estimator-id-3\" class=\"sk-toggleable__label sk-toggleable__label-arrow\">KNeighborsClassifier</label><div class=\"sk-toggleable__content\"><pre>KNeighborsClassifier(n_neighbors=21)</pre></div></div></div></div></div>"
      ],
      "text/plain": [
       "KNeighborsClassifier(n_neighbors=21)"
      ]
     },
     "execution_count": 31,
     "metadata": {},
     "output_type": "execute_result"
    }
   ],
   "source": [
    "kn.fit(train_input,train_target)"
   ]
  },
  {
   "cell_type": "code",
   "execution_count": 32,
   "id": "a356afef-f57c-4119-84e9-77a87b00b512",
   "metadata": {},
   "outputs": [
    {
     "data": {
      "text/plain": [
       "(0.7058823529411765, 0.7333333333333333)"
      ]
     },
     "execution_count": 32,
     "metadata": {},
     "output_type": "execute_result"
    }
   ],
   "source": [
    "train_score = kn.score(train_input,train_target)\n",
    "test_score = kn.score(test_input,test_target)\n",
    "\n",
    "train_score, test_score"
   ]
  },
  {
   "cell_type": "code",
   "execution_count": 33,
   "id": "2086273b-b430-4a9b-b479-e93be1ef89da",
   "metadata": {},
   "outputs": [
    {
     "name": "stdout",
     "output_type": "stream",
     "text": [
      "[1 1 1 1 1 1 1 1 1 1 1 1 1 1 1]\n",
      "[0 0 1 1 1 0 1 1 1 1 1 1 1 0 1]\n"
     ]
    }
   ],
   "source": [
    "### 예측하기\n",
    "test_pred = kn.predict(test_input)\n",
    "print(test_pred)\n",
    "print(test_target)"
   ]
  },
  {
   "cell_type": "markdown",
   "id": "75321901-432c-4c42-a9a1-10bae9e70bde",
   "metadata": {},
   "source": [
    "#### <해석>\n",
    "\n",
    "- 해석은 과대적합과 과소적합이라는 용어를 이용해서 모델 성능을 평가합니다.\n",
    "\n",
    "- (과대적합)\n",
    "    \n",
    "    - 훈련 정확도 > 테스트(or 검증) 정확도, 또는 훈련 정확도가 1인 경우\n",
    "    \n",
    "    - 훈련 정확도가 너무 많이 클 경우\n",
    "\n",
    "- (과소적합)\n",
    "\n",
    "    - 훈련 정확도 < 테스트(or 검증) 정확도, 또는 테스트(or 검증) 정확도가 1인 경우\n",
    "    \n",
    "    - 훈련 정확도는 테스트 정확도보다 무조건 작으면 안됨\n",
    "    \n",
    "    - 과대 또는 과소 적합이 일어난 경우에는 훈련모델 성능 향상이 필요하다고 판단한다.\n",
    "\n",
    "    - 즉, 모델을 사용할 수 없음\n",
    "\n",
    "- (모델 선정 기준)\n",
    "\n",
    "    - 과소적합이 일어나지 않아야 함\n",
    "    \n",
    "    - 훈련 정확도가 1이 아니어야 함\n",
    "    \n",
    "    - 훈련과 테스트(or 검증) 정확도의 차이가 보통(기준은 아님) 0.1이내인 경우\n",
    "\n",
    "    * 선정된 모델은 '일반화 모델'이라고 칭한다.\n",
    "\n",
    "    * 가장 바람직한 크기 비교 : 훈련 > 검증 > 테스트"
   ]
  },
  {
   "cell_type": "code",
   "execution_count": 34,
   "id": "12cc2942-ac22-4624-9c64-6a30ea68cefe",
   "metadata": {},
   "outputs": [],
   "source": [
    "# - 정확도가 가장 높을 때의 이웃의 갯수를 담을 변수\n",
    "#ncnt = 0\n",
    "\n",
    "# - 정확도가 가장 높을 때의 정확도를 담을 변수\n",
    "#nscore = 0\n",
    "\n",
    "#for n in range(3,len(train_input),2):\n",
    "   # kn.n_neighbors = n\n",
    "    # - 이미 모델 객체가 생성되어 있는 경우는 score()만 가지고도 정확도 확인 가능하기에 fit은 생략 가능 -> score()함수 내에서도 fit을 자동 수행하고 있음\n",
    "   # kn.fit(train_input,train_target)\n",
    "  #  score = kn.score(train_input, train_target)\n",
    "    #print(n,score)\n",
    "    # 1보다 작은 정확도인 경우만 처리\n",
    "  #  if score < 1:\n",
    "        # 담아놓은 nscore의 값이 현재 score보다 작은 경우에는 현재 score로 교체하기\n",
    "   #     if nscore < score:\n",
    "   #         nscore = score\n",
    "   #         # 이때의 n(이웃의 갯수)를 ncnt 변수에 담아 놓기\n",
    "  #          ncnt = n\n",
    "\n",
    "#print(f'ncnt={ncnt} / nscore={nscore}')"
   ]
  },
  {
   "cell_type": "code",
   "execution_count": 35,
   "id": "dab74e75-7fbc-4880-9c7f-a97f95b32a09",
   "metadata": {},
   "outputs": [
    {
     "data": {
      "text/plain": [
       "array([1])"
      ]
     },
     "execution_count": 35,
     "metadata": {},
     "output_type": "execute_result"
    }
   ],
   "source": [
    "### 예측\n",
    "kn.predict([[25,150]])"
   ]
  },
  {
   "cell_type": "code",
   "execution_count": 36,
   "id": "c563cb3e-ddf9-430f-b5cc-2cb928f5f368",
   "metadata": {},
   "outputs": [
    {
     "data": {
      "image/png": "[encoded data removed]",
      "text/plain": [
       "<Figure size 640x480 with 1 Axes>"
      ]
     },
     "metadata": {},
     "output_type": "display_data"
    }
   ],
   "source": [
    "plt.scatter(train_input[:,0],train_input[:,1],c='red',label='train')\n",
    "plt.scatter(25,150,c='green',marker='^',label='pred')\n",
    "\n",
    "plt.xlabel('length')\n",
    "plt.ylabel('weight')\n",
    "plt.legend()\n",
    "plt.show();"
   ]
  },
  {
   "cell_type": "code",
   "execution_count": 37,
   "id": "b4fe86d9-231f-4912-ac70-a0f46ac12479",
   "metadata": {},
   "outputs": [],
   "source": [
    "### 사용된 이웃 데이터 추출하기\n",
    "_,indexes=kn.kneighbors([[25,150]])"
   ]
  },
  {
   "cell_type": "code",
   "execution_count": 38,
   "id": "04551584-8e6a-40af-8919-fbdc75a333a0",
   "metadata": {},
   "outputs": [
    {
     "data": {
      "image/png": "[encoded data removed]",
      "text/plain": [
       "<Figure size 640x480 with 1 Axes>"
      ]
     },
     "metadata": {},
     "output_type": "display_data"
    }
   ],
   "source": [
    "plt.scatter(train_input[:,0],train_input[:,1],c='red',label='train')\n",
    "plt.scatter(25,150,c='green',marker='^',label='pred')\n",
    "# 사용된 이웃 표시하기\n",
    "plt.scatter(train_input[indexes,0],train_input[indexes,1],c='blue',label='kn')\n",
    "\n",
    "plt.xlabel('length')\n",
    "plt.ylabel('weight')\n",
    "plt.legend()\n",
    "plt.show();"
   ]
  },
  {
   "cell_type": "code",
   "execution_count": 39,
   "id": "d84ef610-6d24-43b1-ae01-e2e3db3c6a6c",
   "metadata": {},
   "outputs": [],
   "source": [
    "### 이웃의 갯수 5개 사용\n",
    "kn =KNeighborsClassifier()\n",
    "kn.fit(train_input,train_target)\n",
    "test_pred = kn.predict([[25,150]])\n",
    "_, indexes = kn.kneighbors([[25,150]])"
   ]
  },
  {
   "cell_type": "code",
   "execution_count": 40,
   "id": "57e82b1e-9053-404e-b4ba-c9097e296685",
   "metadata": {},
   "outputs": [
    {
     "data": {
      "text/plain": [
       "(array([0]), array([[29, 16, 26,  0, 11]], dtype=int64))"
      ]
     },
     "execution_count": 40,
     "metadata": {},
     "output_type": "execute_result"
    }
   ],
   "source": [
    "test_pred,indexes"
   ]
  },
  {
   "cell_type": "code",
   "execution_count": 41,
   "id": "37e18291-0634-48c0-9861-77d18e6bac89",
   "metadata": {},
   "outputs": [
    {
     "data": {
      "image/png": "[encoded data removed]",
      "text/plain": [
       "<Figure size 640x480 with 1 Axes>"
      ]
     },
     "metadata": {},
     "output_type": "display_data"
    }
   ],
   "source": [
    "plt.scatter(train_input[:,0],train_input[:,1],c='red',label='train')\n",
    "plt.scatter(25,150,c='green',marker='^',label='pred')\n",
    "# 사용된 이웃 표시하기\n",
    "plt.scatter(train_input[indexes,0],train_input[indexes,1],c='blue',label='kn')\n",
    "\n",
    "plt.xlabel('length')\n",
    "plt.ylabel('weight')\n",
    "plt.legend()\n",
    "plt.show();"
   ]
  },
  {
   "cell_type": "markdown",
   "id": "6fa3d96b-512c-4a91-97f1-59c0bc6786c5",
   "metadata": {},
   "source": [
    "#### 해석\n",
    "\n",
    "- 예측 결과는 빙어로 확인\n",
    "\n",
    "- 사용된 특성들의 단위(scale)이 다른 경우 주로 발생함(훈련 데이터의 스케일이 다르다고 표현함)\n",
    "\n",
    "- 해소 방법 : 데이터의 스케일을 '표준화(정규화)'하는 전처리를 수행함"
   ]
  },
  {
   "cell_type": "markdown",
   "id": "83fced5f-216c-423f-bce6-089afc8bc02c",
   "metadata": {},
   "source": [
    "### <정규화(표준화) 방법>\n",
    "\n",
    "- 표준점수를 계산하여 사용 가능\n",
    "\n",
    "- 표준점수 = (각 데이터 - 데이터 전체 평균) / 데이터 전체 표준편차\n",
    "\n",
    "- 표준점수란 각 데이터가 원점(0)에서 표준편차만큼 얼마나 떨어져 있는지를 나타낸 값\n",
    "\n",
    "### <정규화(표준화)를 수행하는 시점>\n",
    "\n",
    "1. 데이터 수집\n",
    "\n",
    "2. 독립데이터와 종속데이터로 분리\n",
    "\n",
    "3. 독립 데이터에 대한 --> 정규화(표준화) 처리 가능 (1)\n",
    "\n",
    "4. 훈련:검증:테스트 데이터로 분류\n",
    "\n",
    "5. 훈련,검증,테스트 독립 데이터에 대한 --> 정규화(표준화) 처리 가능 (2)\n",
    "\n",
    "6. 훈련 모델 생성\n",
    "\n",
    "7. 훈련시키기(fit)\n",
    "\n",
    "8. 정확도 확인(score)\n",
    "\n",
    "9. 과대/과소 적합 여부 확인\n",
    "\n",
    "10. 하이퍼 파라미터 튜닝\n",
    "\n",
    "11. 6~10 반복 수행\n",
    "\n",
    "12. 최종 테스트(predict)"
   ]
  },
  {
   "cell_type": "code",
   "execution_count": 42,
   "id": "73b87a2f-58cf-4bc8-ac34-e01b622746a8",
   "metadata": {},
   "outputs": [
    {
     "name": "stdout",
     "output_type": "stream",
     "text": [
      "[ 27.02352941 445.60294118]\n",
      "[ 10.0816099  319.21122132]\n"
     ]
    },
    {
     "data": {
      "text/plain": [
       "array([[-1.4703534 , -1.35773091],\n",
       "       [ 0.49361864,  0.48368306],\n",
       "       [ 0.74159491,  0.54633749],\n",
       "       [ 0.36467098,  0.17041086],\n",
       "       [ 0.49361864,  0.48368306],\n",
       "       [ 0.79119016,  0.85960969],\n",
       "       [-1.55962486, -1.36869543],\n",
       "       [ 0.89038067,  0.84081336],\n",
       "       [ 0.19604712, -0.04887968],\n",
       "       [-1.56954391, -1.36524944],\n",
       "       [ 0.26548048,  0.17041086],\n",
       "       [-1.4901915 , -1.36524944],\n",
       "       [ 0.39442813,  0.09209281],\n",
       "       [ 0.98957118,  1.73677184],\n",
       "       [ 0.19604712, -0.25877205],\n",
       "       [ 0.59280915,  0.79695525],\n",
       "       [-1.26205334, -1.33423549],\n",
       "       [ 0.44402339,  0.17041086],\n",
       "       [ 1.23754745,  1.50181769],\n",
       "       [-1.70841062, -1.37496088],\n",
       "       [ 0.89038067,  1.26686354],\n",
       "       [-1.63897726, -1.3724547 ],\n",
       "       [ 0.6424044 ,  0.51501027],\n",
       "       [-1.62905821, -1.37402106],\n",
       "       [ 0.79119016,  0.79695525],\n",
       "       [ 0.79119016,  0.8752733 ],\n",
       "       [-1.391001  , -1.35773091],\n",
       "       [ 0.29523763,  0.01377476],\n",
       "       [ 0.59280915,  0.79695525],\n",
       "       [-1.19261998, -1.33360895],\n",
       "       [ 0.49361864, -0.33082465],\n",
       "       [ 0.6424044 ,  0.64031915],\n",
       "       [ 0.29523763, -0.17418855],\n",
       "       [ 1.38633321,  1.65845379]])"
      ]
     },
     "execution_count": 42,
     "metadata": {},
     "output_type": "execute_result"
    }
   ],
   "source": [
    "### 훈련 독립변수에 대한 전체 평균 구하기\n",
    "#  표준점수 = (각 데이터 - 데이터 전체 평균) / 데이터 전체 표준편차\n",
    "\n",
    "mean = np.mean(train_input, axis=0)\n",
    "print(mean)\n",
    "\n",
    "### 표준편차 구하기\n",
    "std = np.std(train_input,axis=0)\n",
    "print(std)\n",
    "\n",
    "### 정규화(표준화) 처리하기\n",
    "train_scaled = (train_input-mean) /std\n",
    "train_scaled"
   ]
  },
  {
   "cell_type": "code",
   "execution_count": 43,
   "id": "3dc25015-91ad-436c-a816-6e87be904cda",
   "metadata": {},
   "outputs": [
    {
     "data": {
      "image/png": "[encoded data removed]",
      "text/plain": [
       "<Figure size 640x480 with 1 Axes>"
      ]
     },
     "metadata": {},
     "output_type": "display_data"
    }
   ],
   "source": [
    "plt.scatter(train_scaled[:,0],train_scaled[:,1],c='red',label='train')\n",
    "plt.scatter(25,150,c='green',marker='^',label='pred')\n",
    "# 사용된 이웃 표시하기\n",
    "plt.scatter(train_scaled[indexes,0],train_scaled[indexes,1],c='blue',label='kn')\n",
    "\n",
    "plt.xlabel('length')\n",
    "plt.ylabel('weight')\n",
    "plt.legend()\n",
    "plt.show();"
   ]
  },
  {
   "cell_type": "markdown",
   "id": "2167f3ef-017a-4761-85a3-ee023b109b93",
   "metadata": {},
   "source": [
    "#### <해석>\n",
    "\n",
    "- 임의의 값(25,150) 값만 다른 위치에 표시됨\n",
    "\n",
    "- 임의 테스트 데이터도 정규화 작업을 수행해야 한다.\n"
   ]
  },
  {
   "cell_type": "code",
   "execution_count": 44,
   "id": "085ab6d0-cdc8-4a4a-84ce-2ead7d7ec78a",
   "metadata": {},
   "outputs": [
    {
     "data": {
      "text/plain": [
       "array([-0.20071491, -0.92604182])"
      ]
     },
     "execution_count": 44,
     "metadata": {},
     "output_type": "execute_result"
    }
   ],
   "source": [
    "new=([25,150]-mean)/std\n",
    "new"
   ]
  },
  {
   "cell_type": "code",
   "execution_count": 45,
   "id": "7ce08edf-ada6-42ae-baee-5ab1a4ac1870",
   "metadata": {},
   "outputs": [
    {
     "data": {
      "image/png": "[encoded data removed]",
      "text/plain": [
       "<Figure size 640x480 with 1 Axes>"
      ]
     },
     "metadata": {},
     "output_type": "display_data"
    }
   ],
   "source": [
    "plt.scatter(train_scaled[:,0],train_scaled[:,1],c='red',label='train')\n",
    "plt.scatter(new[0],new[1],c='green',marker='^',label='pred')\n",
    "plt.scatter(train_scaled[indexes,0],train_scaled[indexes,1],c='blue',label='kn')\n",
    "plt.xlabel('length')\n",
    "plt.ylabel('weight')\n",
    "plt.legend()\n",
    "plt.show();"
   ]
  },
  {
   "cell_type": "code",
   "execution_count": 46,
   "id": "7b2e78d7-2f0a-4546-8843-894cbf4655ff",
   "metadata": {},
   "outputs": [
    {
     "data": {
      "text/plain": [
       "1.0"
      ]
     },
     "execution_count": 46,
     "metadata": {},
     "output_type": "execute_result"
    }
   ],
   "source": [
    "### 정규화 데이터로 훈련 다시 수행하기\n",
    "\n",
    "kn =KNeighborsClassifier()\n",
    "\n",
    "kn.fit(train_scaled, train_target)\n",
    "\n",
    "kn.score(train_scaled, train_target)"
   ]
  },
  {
   "cell_type": "code",
   "execution_count": 47,
   "id": "42f39aba-fc46-4a87-8603-afc9f9aa1620",
   "metadata": {},
   "outputs": [
    {
     "data": {
      "text/plain": [
       "1.0"
      ]
     },
     "execution_count": 47,
     "metadata": {},
     "output_type": "execute_result"
    }
   ],
   "source": [
    "### 정규화(표준화) 처리하기\n",
    "test_scaled = (test_input-mean) /std\n",
    "kn.score(test_scaled, test_target)"
   ]
  },
  {
   "cell_type": "code",
   "execution_count": 52,
   "id": "8e744779-4184-4c5b-92e9-e76f741ce9bc",
   "metadata": {},
   "outputs": [],
   "source": [
    "### 25, 150으로 예측 후 이웃의 갯수 추출\n",
    "kn.predict([new])\n",
    "\n",
    "# 이웃의 인덱스 위치 확인하기\n",
    "_, indexes = kn.kneighbors([new])\n",
    "indexes"
   ]
  },
  {
   "cell_type": "code",
   "execution_count": 53,
   "id": "01e2fc63-0bea-4fff-93cf-951ab61f5e08",
   "metadata": {},
   "outputs": [
    {
     "data": {
      "image/png": "[encoded data removed]",
      "text/plain": [
       "<Figure size 640x480 with 1 Axes>"
      ]
     },
     "metadata": {},
     "output_type": "display_data"
    }
   ],
   "source": [
    "### 그래프 그리기\n",
    "\n",
    "# 훈련 데이터 전체 표시\n",
    "plt.scatter(train_scaled[:,0],train_scaled[:,1],c='red',label='train')\n",
    "# 임의 예측 데이터 표시\n",
    "plt.scatter(new[0],new[1],c='green',marker='^',label='pred')\n",
    "# 예측에 사용된 이웃 표시\n",
    "plt.scatter(train_scaled[indexes,0],train_scaled[indexes,1],c='blue',label='kn')\n",
    "plt.xlabel('length')\n",
    "plt.ylabel('weight')\n",
    "plt.legend()\n",
    "plt.show();"
   ]
  },
  {
   "cell_type": "code",
   "execution_count": null,
   "id": "858dc777-16e7-40a5-9571-14e71201ab7d",
   "metadata": {},
   "outputs": [],
   "source": []
  }
 ],
 "metadata": {
  "kernelspec": {
   "display_name": "Python 3 (ipykernel)",
   "language": "python",
   "name": "python3"
  },
  "language_info": {
   "codemirror_mode": {
    "name": "ipython",
    "version": 3
   },
   "file_extension": ".py",
   "mimetype": "text/x-python",
   "name": "python",
   "nbconvert_exporter": "python",
   "pygments_lexer": "ipython3",
   "version": "3.11.8"
  }
 },
 "nbformat": 4,
 "nbformat_minor": 5
}
